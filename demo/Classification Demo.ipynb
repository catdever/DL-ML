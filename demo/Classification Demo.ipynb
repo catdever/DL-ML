{
 "cells": [
  {
   "cell_type": "code",
   "execution_count": 3,
   "id": "ec83ccb5",
   "metadata": {},
   "outputs": [],
   "source": [
    "import os\n",
    "import sys\n",
    "sys.path.append(os.path.abspath(os.path.pardir))\n",
    "from argparse import ArgumentParser\n",
    "\n",
    "import torch\n",
    "from voltaml.compile import VoltaGPUCompiler\n",
    "from voltaml.inference import gpu_performance\n",
    "import torchvision"
   ]
  },
  {
   "cell_type": "markdown",
   "id": "ff3892df",
   "metadata": {},
   "source": [
    "### Load Model "
   ]
  },
  {
   "cell_type": "code",
   "execution_count": 4,
   "id": "7d9fd485",
   "metadata": {},
   "outputs": [
    {
     "name": "stderr",
     "output_type": "stream",
     "text": [
      "Downloading: \"https://download.pytorch.org/models/resnet34-b627a593.pth\" to /root/.cache/torch/hub/checkpoints/resnet34-b627a593.pth\n",
      "100%|████████████████████████████████████████████████████████████| 83.3M/83.3M [00:00<00:00, 87.8MB/s]\n"
     ]
    }
   ],
   "source": [
    "model = torchvision.models.resnet34(pretrained=True)\n",
    "# model=torch.hub.load('pytorch/vision:v0.6.0', 'fcn_resnet101', pretrained=True)\n",
    "# model = torch.load('')"
   ]
  },
  {
   "cell_type": "markdown",
   "id": "91758d3d",
   "metadata": {},
   "source": [
    "## Set parameters for FP16"
   ]
  },
  {
   "cell_type": "code",
   "execution_count": 5,
   "id": "ad6b0369",
   "metadata": {},
   "outputs": [],
   "source": [
    "input_shape = (1,3,224,224)\n",
    "precision = 'fp16'\n",
    "compiled_model_dir = 'r34.engine' ## Set Model dir\n",
    "throughput_batch_size = 1"
   ]
  },
  {
   "cell_type": "markdown",
   "id": "58f4f365",
   "metadata": {},
   "source": [
    "### Compile Model"
   ]
  },
  {
   "cell_type": "code",
   "execution_count": 6,
   "id": "d078430b",
   "metadata": {
    "scrolled": true
   },
   "outputs": [
    {
     "name": "stderr",
     "output_type": "stream",
     "text": [
      "INFO:EngineBuilder:Network Description\n",
      "Network Description\n",
      "INFO:EngineBuilder:Input 'onnx::Conv_0' with shape (1, 3, 224, 224) and dtype DataType.FLOAT\n",
      "Input 'onnx::Conv_0' with shape (1, 3, 224, 224) and dtype DataType.FLOAT\n",
      "INFO:EngineBuilder:Output '343' with shape (1, 1000) and dtype DataType.FLOAT\n",
      "Output '343' with shape (1, 1000) and dtype DataType.FLOAT\n",
      "INFO:EngineBuilder:Building fp16 Engine in /workspace/voltav0.3/voltaML/demo/r34.engine\n",
      "Building fp16 Engine in /workspace/voltav0.3/voltaML/demo/r34.engine\n"
     ]
    },
    {
     "name": "stdout",
     "output_type": "stream",
     "text": [
      "[10/14/2022-17:07:54] [TRT] [I] [MemUsageChange] Init CUDA: CPU +313, GPU +0, now: CPU 515, GPU 5991 (MiB)\n",
      "[10/14/2022-17:07:54] [TRT] [I] [MemUsageSnapshot] Begin constructing builder kernel library: CPU 515 MiB, GPU 5991 MiB\n",
      "[10/14/2022-17:07:54] [TRT] [I] [MemUsageSnapshot] End constructing builder kernel library: CPU 650 MiB, GPU 6025 MiB\n",
      "[10/14/2022-17:07:55] [TRT] [I] [MemUsageChange] Init cuBLAS/cuBLASLt: CPU +513, GPU +224, now: CPU 1246, GPU 6249 (MiB)\n",
      "[10/14/2022-17:07:55] [TRT] [I] [MemUsageChange] Init cuDNN: CPU +116, GPU +52, now: CPU 1362, GPU 6301 (MiB)\n",
      "[10/14/2022-17:07:55] [TRT] [I] Local timing cache in use. Profiling results in this builder pass will not be stored.\n"
     ]
    },
    {
     "name": "stderr",
     "output_type": "stream",
     "text": [
      "INFO:EngineBuilder:Serializing engine to file: /workspace/voltav0.3/voltaML/demo/r34.engine\n",
      "Serializing engine to file: /workspace/voltav0.3/voltaML/demo/r34.engine\n"
     ]
    },
    {
     "name": "stdout",
     "output_type": "stream",
     "text": [
      "[10/14/2022-17:08:06] [TRT] [I] Detected 1 inputs and 1 output network tensors.\n",
      "[10/14/2022-17:08:06] [TRT] [I] Total Host Persistent Memory: 88032\n",
      "[10/14/2022-17:08:06] [TRT] [I] Total Device Persistent Memory: 44731392\n",
      "[10/14/2022-17:08:06] [TRT] [I] Total Scratch Memory: 0\n",
      "[10/14/2022-17:08:06] [TRT] [I] [MemUsageStats] Peak memory usage of TRT CPU/GPU memory allocators: CPU 45 MiB, GPU 1131 MiB\n",
      "[10/14/2022-17:08:06] [TRT] [I] [BlockAssignment] Algorithm ShiftNTopDown took 0.643163ms to assign 3 blocks to 42 nodes requiring 2408448 bytes.\n",
      "[10/14/2022-17:08:06] [TRT] [I] Total Activation Memory: 2408448\n",
      "[10/14/2022-17:08:06] [TRT] [I] [MemUsageChange] Init cuBLAS/cuBLASLt: CPU +0, GPU +8, now: CPU 1916, GPU 6578 (MiB)\n",
      "[10/14/2022-17:08:06] [TRT] [I] [MemUsageChange] Init cuDNN: CPU +0, GPU +8, now: CPU 1916, GPU 6586 (MiB)\n",
      "[10/14/2022-17:08:06] [TRT] [I] [MemUsageChange] TensorRT-managed allocation in building engine: CPU +40, GPU +43, now: CPU 40, GPU 43 (MiB)\n"
     ]
    }
   ],
   "source": [
    "compiler = VoltaGPUCompiler(\n",
    "    model=model,\n",
    "    output_dir=compiled_model_dir,\n",
    "    input_shape=input_shape,\n",
    "    precision=precision\n",
    ")\n",
    "\n",
    "compiled_model = compiler.compile()"
   ]
  },
  {
   "cell_type": "code",
   "execution_count": 7,
   "id": "a4fdbf14",
   "metadata": {},
   "outputs": [
    {
     "name": "stderr",
     "output_type": "stream",
     "text": [
      "calculating latency...: 100%|████████████████████████████████████| 1000/1000 [00:03<00:00, 309.17it/s]\n",
      "calculating throughput: 100%|██████████████████████████████████████| 100/100 [00:00<00:00, 312.79it/s]\n"
     ]
    },
    {
     "name": "stdout",
     "output_type": "stream",
     "text": [
      "Latency:\n",
      "--------------------------------------------------\n",
      "VoltaML GPU Inference Latency: 0.76 ms / sample\n",
      "PyTorch Inference Latency: 3.24 ms / sample\n",
      "\n",
      "\n",
      "Throughput:\n",
      "--------------------------------------------------\n",
      "VoltaML GPU Inference Throughput: 1464.33 samples / s\n",
      "PyTorch Inference Throughput: 314.62 samples / s\n"
     ]
    }
   ],
   "source": [
    "gpu_performance(compiled_model_dir, model, input_shape=input_shape, throughput_batch_size=throughput_batch_size, is_yolo=False)"
   ]
  },
  {
   "cell_type": "markdown",
   "id": "3341b48d",
   "metadata": {},
   "source": [
    "### Set parameters for INT8"
   ]
  },
  {
   "cell_type": "code",
   "execution_count": null,
   "id": "2a2a0731",
   "metadata": {},
   "outputs": [],
   "source": [
    "input_shape = (1,3,224,224)\n",
    "precision = 'int8'\n",
    "compiled_model_dir = '' ## Compiled model directory\n",
    "throughput_batch_size = 1\n",
    "calib_input = '' ## Calib input images path\n",
    "calib_cache = '' ## Cache name\n",
    "calib_num_images=25000\n",
    "calib_batch_size=8\n",
    "calib_preprocessor='V2'"
   ]
  },
  {
   "cell_type": "markdown",
   "id": "e966cfb9",
   "metadata": {},
   "source": [
    "### Compile Model"
   ]
  },
  {
   "cell_type": "code",
   "execution_count": null,
   "id": "3b0a64c5",
   "metadata": {
    "scrolled": true
   },
   "outputs": [],
   "source": [
    "compiler = VoltaGPUCompiler(\n",
    "    model=model,\n",
    "    output_dir=compiled_model_dir,\n",
    "    input_shape=input_shape,\n",
    "    precision=precision,\n",
    "    calib_input=calib_input,\n",
    "    calib_cache=calib_cache,\n",
    "    calib_num_images=calib_num_images,\n",
    "    calib_batch_size=calib_batch_size,\n",
    "    calib_preprocessor=calib_preprocessor\n",
    ")\n",
    "\n",
    "compiled_model = compiler.compile()"
   ]
  },
  {
   "cell_type": "code",
   "execution_count": null,
   "id": "8a22fb82",
   "metadata": {},
   "outputs": [],
   "source": [
    "gpu_performance(compiled_model_dir, model, input_shape=input_shape, throughput_batch_size=throughput_batch_size)"
   ]
  },
  {
   "cell_type": "code",
   "execution_count": null,
   "id": "ea3116e0",
   "metadata": {},
   "outputs": [],
   "source": []
  },
  {
   "cell_type": "code",
   "execution_count": null,
   "id": "fd8a5daa",
   "metadata": {},
   "outputs": [],
   "source": []
  },
  {
   "cell_type": "code",
   "execution_count": null,
   "id": "1422ab34",
   "metadata": {},
   "outputs": [],
   "source": []
  }
 ],
 "metadata": {
  "kernelspec": {
   "display_name": "Python 3 (ipykernel)",
   "language": "python",
   "name": "python3"
  },
  "language_info": {
   "codemirror_mode": {
    "name": "ipython",
    "version": 3
   },
   "file_extension": ".py",
   "mimetype": "text/x-python",
   "name": "python",
   "nbconvert_exporter": "python",
   "pygments_lexer": "ipython3",
   "version": "3.8.10"
  }
 },
 "nbformat": 4,
 "nbformat_minor": 5
}
