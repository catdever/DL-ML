{
 "cells": [
  {
   "cell_type": "code",
   "execution_count": 1,
   "id": "ec83ccb5",
   "metadata": {},
   "outputs": [
    {
     "name": "stderr",
     "output_type": "stream",
     "text": [
      "/usr/local/lib/python3.8/dist-packages/tqdm/auto.py:22: TqdmWarning: IProgress not found. Please update jupyter and ipywidgets. See https://ipywidgets.readthedocs.io/en/stable/user_install.html\n",
      "  from .autonotebook import tqdm as notebook_tqdm\n"
     ]
    }
   ],
   "source": [
    "import os\n",
    "import sys\n",
    "sys.path.append(os.path.abspath(os.path.pardir))\n",
    "from argparse import ArgumentParser\n",
    "\n",
    "import torch\n",
    "from voltaml.compile import VoltaGPUCompiler\n",
    "from voltaml.inference import gpu_performance\n",
    "import torchvision\n",
    "import segmentation_models_pytorch as smp"
   ]
  },
  {
   "cell_type": "markdown",
   "id": "ff3892df",
   "metadata": {},
   "source": [
    "### Load Model "
   ]
  },
  {
   "cell_type": "code",
   "execution_count": 2,
   "id": "17ccc4c2-dd5c-4f8a-8eec-e60ce8392eb9",
   "metadata": {},
   "outputs": [
    {
     "name": "stderr",
     "output_type": "stream",
     "text": [
      "Using cache found in /root/.cache/torch/hub/pytorch_vision_v0.10.0\n"
     ]
    }
   ],
   "source": [
    "model = torch.hub.load('pytorch/vision:v0.10.0', 'deeplabv3_mobilenet_v3_large', pretrained=True)"
   ]
  },
  {
   "cell_type": "markdown",
   "id": "91758d3d",
   "metadata": {},
   "source": [
    "## Set parameters for FP16"
   ]
  },
  {
   "cell_type": "code",
   "execution_count": 3,
   "id": "ad6b0369",
   "metadata": {},
   "outputs": [],
   "source": [
    "input_shape = (1,3,224,224)\n",
    "precision = 'fp16'\n",
    "compiled_model_dir = 'deeplabv3_mobile.engine' ## Set Model dir\n",
    "throughput_batch_size = 1"
   ]
  },
  {
   "cell_type": "markdown",
   "id": "58f4f365",
   "metadata": {},
   "source": [
    "### Compile Model"
   ]
  },
  {
   "cell_type": "code",
   "execution_count": 4,
   "id": "d078430b",
   "metadata": {
    "scrolled": true
   },
   "outputs": [
    {
     "name": "stderr",
     "output_type": "stream",
     "text": [
      "WARNING: The shape inference of prim::Constant type is missing, so it may result in wrong shape inference for the exported graph. Please consider adding it in symbolic function.\n",
      "WARNING: The shape inference of prim::Constant type is missing, so it may result in wrong shape inference for the exported graph. Please consider adding it in symbolic function.\n",
      "WARNING: The shape inference of prim::Constant type is missing, so it may result in wrong shape inference for the exported graph. Please consider adding it in symbolic function.\n",
      "WARNING: The shape inference of prim::Constant type is missing, so it may result in wrong shape inference for the exported graph. Please consider adding it in symbolic function.\n",
      "WARNING: The shape inference of prim::Constant type is missing, so it may result in wrong shape inference for the exported graph. Please consider adding it in symbolic function.\n",
      "WARNING: The shape inference of prim::Constant type is missing, so it may result in wrong shape inference for the exported graph. Please consider adding it in symbolic function.\n",
      "WARNING: The shape inference of prim::Constant type is missing, so it may result in wrong shape inference for the exported graph. Please consider adding it in symbolic function.\n",
      "WARNING: The shape inference of prim::Constant type is missing, so it may result in wrong shape inference for the exported graph. Please consider adding it in symbolic function.\n",
      "WARNING: The shape inference of prim::Constant type is missing, so it may result in wrong shape inference for the exported graph. Please consider adding it in symbolic function.\n",
      "WARNING: The shape inference of prim::Constant type is missing, so it may result in wrong shape inference for the exported graph. Please consider adding it in symbolic function.\n",
      "WARNING: The shape inference of prim::Constant type is missing, so it may result in wrong shape inference for the exported graph. Please consider adding it in symbolic function.\n",
      "WARNING: The shape inference of prim::Constant type is missing, so it may result in wrong shape inference for the exported graph. Please consider adding it in symbolic function.\n",
      "WARNING: The shape inference of prim::Constant type is missing, so it may result in wrong shape inference for the exported graph. Please consider adding it in symbolic function.\n",
      "WARNING: The shape inference of prim::Constant type is missing, so it may result in wrong shape inference for the exported graph. Please consider adding it in symbolic function.\n",
      "WARNING: The shape inference of prim::Constant type is missing, so it may result in wrong shape inference for the exported graph. Please consider adding it in symbolic function.\n",
      "WARNING: The shape inference of prim::Constant type is missing, so it may result in wrong shape inference for the exported graph. Please consider adding it in symbolic function.\n",
      "WARNING: The shape inference of prim::Constant type is missing, so it may result in wrong shape inference for the exported graph. Please consider adding it in symbolic function.\n",
      "WARNING: The shape inference of prim::Constant type is missing, so it may result in wrong shape inference for the exported graph. Please consider adding it in symbolic function.\n"
     ]
    },
    {
     "name": "stdout",
     "output_type": "stream",
     "text": [
      "-------- Loading ONNX ---------------\n"
     ]
    },
    {
     "name": "stderr",
     "output_type": "stream",
     "text": [
      "INFO:EngineBuilder:Network Description\n",
      "Network Description\n",
      "Network Description\n",
      "INFO:EngineBuilder:Input 'onnx::Conv_0' with shape (1, 3, 224, 224) and dtype DataType.FLOAT\n",
      "Input 'onnx::Conv_0' with shape (1, 3, 224, 224) and dtype DataType.FLOAT\n",
      "Input 'onnx::Conv_0' with shape (1, 3, 224, 224) and dtype DataType.FLOAT\n",
      "INFO:EngineBuilder:Output '619' with shape (1, 21, 224, 224) and dtype DataType.FLOAT\n",
      "Output '619' with shape (1, 21, 224, 224) and dtype DataType.FLOAT\n",
      "Output '619' with shape (1, 21, 224, 224) and dtype DataType.FLOAT\n",
      "INFO:EngineBuilder:Output '638' with shape (1, 21, 224, 224) and dtype DataType.FLOAT\n",
      "Output '638' with shape (1, 21, 224, 224) and dtype DataType.FLOAT\n",
      "Output '638' with shape (1, 21, 224, 224) and dtype DataType.FLOAT\n",
      "INFO:EngineBuilder:Building fp16 Engine in /workspace/voltaML/demo/deeplabv3_mobile.engine\n",
      "Building fp16 Engine in /workspace/voltaML/demo/deeplabv3_mobile.engine\n",
      "Building fp16 Engine in /workspace/voltaML/demo/deeplabv3_mobile.engine\n"
     ]
    },
    {
     "name": "stdout",
     "output_type": "stream",
     "text": [
      "[08/23/2022-14:28:00] [TRT] [I] [MemUsageChange] Init CUDA: CPU +313, GPU +0, now: CPU 1111, GPU 682 (MiB)\n",
      "[08/23/2022-14:28:00] [TRT] [I] [MemUsageSnapshot] Begin constructing builder kernel library: CPU 1111 MiB, GPU 682 MiB\n",
      "[08/23/2022-14:28:01] [TRT] [I] [MemUsageSnapshot] End constructing builder kernel library: CPU 1246 MiB, GPU 716 MiB\n",
      "[08/23/2022-14:28:01] [TRT] [W] parsers/onnx/onnx2trt_utils.cpp:364: Your ONNX model has been generated with INT64 weights, while TensorRT does not natively support INT64. Attempting to cast down to INT32.\n",
      "[08/23/2022-14:28:01] [TRT] [I] [MemUsageChange] Init cuBLAS/cuBLASLt: CPU +513, GPU +224, now: CPU 1802, GPU 940 (MiB)\n",
      "[08/23/2022-14:28:01] [TRT] [I] [MemUsageChange] Init cuDNN: CPU +116, GPU +52, now: CPU 1918, GPU 992 (MiB)\n",
      "[08/23/2022-14:28:01] [TRT] [I] Local timing cache in use. Profiling results in this builder pass will not be stored.\n"
     ]
    },
    {
     "name": "stderr",
     "output_type": "stream",
     "text": [
      "INFO:EngineBuilder:Serializing engine to file: /workspace/voltaML/demo/deeplabv3_mobile.engine\n",
      "Serializing engine to file: /workspace/voltaML/demo/deeplabv3_mobile.engine\n",
      "Serializing engine to file: /workspace/voltaML/demo/deeplabv3_mobile.engine\n"
     ]
    },
    {
     "name": "stdout",
     "output_type": "stream",
     "text": [
      "[08/23/2022-14:30:05] [TRT] [I] Detected 1 inputs and 2 output network tensors.\n",
      "[08/23/2022-14:30:05] [TRT] [I] Total Host Persistent Memory: 131088\n",
      "[08/23/2022-14:30:05] [TRT] [I] Total Device Persistent Memory: 20725760\n",
      "[08/23/2022-14:30:05] [TRT] [I] Total Scratch Memory: 0\n",
      "[08/23/2022-14:30:05] [TRT] [I] [MemUsageStats] Peak memory usage of TRT CPU/GPU memory allocators: CPU 23 MiB, GPU 735 MiB\n",
      "[08/23/2022-14:30:05] [TRT] [I] [BlockAssignment] Algorithm ShiftNTopDown took 11.0196ms to assign 6 blocks to 128 nodes requiring 3462657 bytes.\n",
      "[08/23/2022-14:30:05] [TRT] [I] Total Activation Memory: 3462657\n",
      "[08/23/2022-14:30:05] [TRT] [I] [MemUsageChange] Init cuBLAS/cuBLASLt: CPU +0, GPU +8, now: CPU 2469, GPU 1236 (MiB)\n",
      "[08/23/2022-14:30:05] [TRT] [I] [MemUsageChange] Init cuDNN: CPU +0, GPU +8, now: CPU 2469, GPU 1244 (MiB)\n",
      "[08/23/2022-14:30:05] [TRT] [I] [MemUsageChange] TensorRT-managed allocation in building engine: CPU +21, GPU +22, now: CPU 21, GPU 22 (MiB)\n"
     ]
    }
   ],
   "source": [
    "compiler = VoltaGPUCompiler(\n",
    "    model=model,\n",
    "    output_dir=compiled_model_dir,\n",
    "    input_shape=input_shape,\n",
    "    precision=precision,\n",
    "    simplify=True\n",
    ")\n",
    "\n",
    "compiled_model = compiler.compile()"
   ]
  },
  {
   "cell_type": "code",
   "execution_count": 5,
   "id": "a4fdbf14",
   "metadata": {},
   "outputs": [
    {
     "name": "stderr",
     "output_type": "stream",
     "text": [
      "calculating latency...: 100%|█████████████████████████████████████████████████████████████████████████████████████████████████████████████████████████████████████████| 1000/1000 [00:05<00:00, 172.48it/s]\n",
      "calculating throughput: 100%|███████████████████████████████████████████████████████████████████████████████████████████████████████████████████████████████████████████| 100/100 [00:00<00:00, 173.32it/s]\n"
     ]
    },
    {
     "name": "stdout",
     "output_type": "stream",
     "text": [
      "Latency:\n",
      "--------------------------------------------------\n",
      "VoltaML GPU Inference Latency: 1.58 ms / sample\n",
      "PyTorch Inference Latency: 5.80 ms / sample\n",
      "\n",
      "\n",
      "Throughput:\n",
      "--------------------------------------------------\n",
      "VoltaML GPU Inference Throughput: 659.81 samples / s\n",
      "PyTorch Inference Throughput: 174.35 samples / s\n"
     ]
    }
   ],
   "source": [
    "gpu_performance(compiled_model_dir, model, input_shape=input_shape, throughput_batch_size=throughput_batch_size, is_yolo=False)"
   ]
  },
  {
   "cell_type": "markdown",
   "id": "3341b48d",
   "metadata": {},
   "source": [
    "### Set parameters for INT8"
   ]
  },
  {
   "cell_type": "code",
   "execution_count": 3,
   "id": "2a2a0731",
   "metadata": {},
   "outputs": [],
   "source": [
    "input_shape = (1,3,224,224)\n",
    "precision = 'int8'\n",
    "compiled_model_dir = 'deeplabv3_mobile_int8.engine' ## Compiled model directory\n",
    "throughput_batch_size = 1\n",
    "calib_input = '/workspace/val2017/' ## Calib input images path\n",
    "calib_cache = '' ## Cache name\n",
    "calib_num_images=25000\n",
    "calib_batch_size=8\n",
    "calib_preprocessor='V1MS'"
   ]
  },
  {
   "cell_type": "markdown",
   "id": "e966cfb9",
   "metadata": {},
   "source": [
    "### Compile Model"
   ]
  },
  {
   "cell_type": "code",
   "execution_count": null,
   "id": "3b0a64c5",
   "metadata": {
    "scrolled": true
   },
   "outputs": [
    {
     "name": "stderr",
     "output_type": "stream",
     "text": [
      "WARNING: The shape inference of prim::Constant type is missing, so it may result in wrong shape inference for the exported graph. Please consider adding it in symbolic function.\n",
      "WARNING: The shape inference of prim::Constant type is missing, so it may result in wrong shape inference for the exported graph. Please consider adding it in symbolic function.\n",
      "WARNING: The shape inference of prim::Constant type is missing, so it may result in wrong shape inference for the exported graph. Please consider adding it in symbolic function.\n",
      "WARNING: The shape inference of prim::Constant type is missing, so it may result in wrong shape inference for the exported graph. Please consider adding it in symbolic function.\n",
      "WARNING: The shape inference of prim::Constant type is missing, so it may result in wrong shape inference for the exported graph. Please consider adding it in symbolic function.\n",
      "WARNING: The shape inference of prim::Constant type is missing, so it may result in wrong shape inference for the exported graph. Please consider adding it in symbolic function.\n",
      "WARNING: The shape inference of prim::Constant type is missing, so it may result in wrong shape inference for the exported graph. Please consider adding it in symbolic function.\n",
      "WARNING: The shape inference of prim::Constant type is missing, so it may result in wrong shape inference for the exported graph. Please consider adding it in symbolic function.\n",
      "WARNING: The shape inference of prim::Constant type is missing, so it may result in wrong shape inference for the exported graph. Please consider adding it in symbolic function.\n",
      "WARNING: The shape inference of prim::Constant type is missing, so it may result in wrong shape inference for the exported graph. Please consider adding it in symbolic function.\n",
      "WARNING: The shape inference of prim::Constant type is missing, so it may result in wrong shape inference for the exported graph. Please consider adding it in symbolic function.\n",
      "WARNING: The shape inference of prim::Constant type is missing, so it may result in wrong shape inference for the exported graph. Please consider adding it in symbolic function.\n",
      "WARNING: The shape inference of prim::Constant type is missing, so it may result in wrong shape inference for the exported graph. Please consider adding it in symbolic function.\n",
      "WARNING: The shape inference of prim::Constant type is missing, so it may result in wrong shape inference for the exported graph. Please consider adding it in symbolic function.\n",
      "WARNING: The shape inference of prim::Constant type is missing, so it may result in wrong shape inference for the exported graph. Please consider adding it in symbolic function.\n",
      "WARNING: The shape inference of prim::Constant type is missing, so it may result in wrong shape inference for the exported graph. Please consider adding it in symbolic function.\n",
      "WARNING: The shape inference of prim::Constant type is missing, so it may result in wrong shape inference for the exported graph. Please consider adding it in symbolic function.\n",
      "WARNING: The shape inference of prim::Constant type is missing, so it may result in wrong shape inference for the exported graph. Please consider adding it in symbolic function.\n",
      "INFO:EngineBuilder:Network Description\n",
      "Network Description\n",
      "Network Description\n",
      "INFO:EngineBuilder:Input 'onnx::Conv_0' with shape (1, 3, 224, 224) and dtype DataType.FLOAT\n",
      "Input 'onnx::Conv_0' with shape (1, 3, 224, 224) and dtype DataType.FLOAT\n",
      "Input 'onnx::Conv_0' with shape (1, 3, 224, 224) and dtype DataType.FLOAT\n",
      "INFO:EngineBuilder:Output '619' with shape (1, 21, 224, 224) and dtype DataType.FLOAT\n",
      "Output '619' with shape (1, 21, 224, 224) and dtype DataType.FLOAT\n",
      "Output '619' with shape (1, 21, 224, 224) and dtype DataType.FLOAT\n",
      "INFO:EngineBuilder:Output '638' with shape (1, 21, 224, 224) and dtype DataType.FLOAT\n",
      "Output '638' with shape (1, 21, 224, 224) and dtype DataType.FLOAT\n",
      "Output '638' with shape (1, 21, 224, 224) and dtype DataType.FLOAT\n",
      "INFO:EngineBuilder:Building int8 Engine in /workspace/voltaML/demo/deeplabv3_mobile_int8.engine\n",
      "Building int8 Engine in /workspace/voltaML/demo/deeplabv3_mobile_int8.engine\n",
      "Building int8 Engine in /workspace/voltaML/demo/deeplabv3_mobile_int8.engine\n"
     ]
    },
    {
     "name": "stdout",
     "output_type": "stream",
     "text": [
      "[08/23/2022-14:40:15] [TRT] [I] [MemUsageChange] Init CUDA: CPU +313, GPU +0, now: CPU 1062, GPU 687 (MiB)\n",
      "[08/23/2022-14:40:15] [TRT] [I] [MemUsageSnapshot] Begin constructing builder kernel library: CPU 1062 MiB, GPU 687 MiB\n",
      "[08/23/2022-14:40:16] [TRT] [I] [MemUsageSnapshot] End constructing builder kernel library: CPU 1197 MiB, GPU 721 MiB\n",
      "[08/23/2022-14:40:16] [TRT] [W] parsers/onnx/onnx2trt_utils.cpp:364: Your ONNX model has been generated with INT64 weights, while TensorRT does not natively support INT64. Attempting to cast down to INT32.\n",
      "[08/23/2022-14:40:16] [TRT] [I] [MemUsageChange] Init cuBLAS/cuBLASLt: CPU +514, GPU +224, now: CPU 1754, GPU 951 (MiB)\n",
      "[08/23/2022-14:40:16] [TRT] [I] [MemUsageChange] Init cuDNN: CPU +115, GPU +52, now: CPU 1869, GPU 1003 (MiB)\n",
      "[08/23/2022-14:40:16] [TRT] [I] Timing cache disabled. Turning it on will improve builder speed.\n"
     ]
    },
    {
     "name": "stderr",
     "output_type": "stream",
     "text": [
      "INFO:EngineBuilder:Calibrating image 8 / 5000\n",
      "Calibrating image 8 / 5000\n",
      "Calibrating image 8 / 5000\n"
     ]
    },
    {
     "name": "stdout",
     "output_type": "stream",
     "text": [
      "[08/23/2022-14:40:17] [TRT] [I] Detected 1 inputs and 2 output network tensors.\n",
      "[08/23/2022-14:40:17] [TRT] [I] Total Host Persistent Memory: 16000\n",
      "[08/23/2022-14:40:17] [TRT] [I] Total Device Persistent Memory: 0\n",
      "[08/23/2022-14:40:17] [TRT] [I] Total Scratch Memory: 0\n",
      "[08/23/2022-14:40:17] [TRT] [I] [MemUsageStats] Peak memory usage of TRT CPU/GPU memory allocators: CPU 0 MiB, GPU 43 MiB\n",
      "[08/23/2022-14:40:17] [TRT] [I] [BlockAssignment] Algorithm ShiftNTopDown took 21.8467ms to assign 7 blocks to 176 nodes requiring 7831552 bytes.\n",
      "[08/23/2022-14:40:17] [TRT] [I] Total Activation Memory: 7831552\n",
      "[08/23/2022-14:40:18] [TRT] [I] [MemUsageChange] Init cuBLAS/cuBLASLt: CPU +1, GPU +8, now: CPU 2390, GPU 1273 (MiB)\n",
      "[08/23/2022-14:40:18] [TRT] [I] [MemUsageChange] Init cuDNN: CPU +0, GPU +8, now: CPU 2390, GPU 1281 (MiB)\n",
      "[08/23/2022-14:40:18] [TRT] [I] [MemUsageChange] Init cuBLAS/cuBLASLt: CPU +0, GPU +10, now: CPU 2389, GPU 1257 (MiB)\n",
      "[08/23/2022-14:40:18] [TRT] [I] [MemUsageChange] Init cuDNN: CPU +0, GPU +8, now: CPU 2389, GPU 1265 (MiB)\n",
      "[08/23/2022-14:40:18] [TRT] [I] [MemUsageChange] TensorRT-managed allocation in IExecutionContext creation: CPU +0, GPU +7, now: CPU 0, GPU 50 (MiB)\n",
      "[08/23/2022-14:40:18] [TRT] [I] Starting Calibration.\n",
      "[08/23/2022-14:40:18] [TRT] [I]   Calibrated batch 0 in 0.0271821 seconds.\n"
     ]
    },
    {
     "name": "stderr",
     "output_type": "stream",
     "text": [
      "INFO:EngineBuilder:Calibrating image 16 / 5000\n",
      "Calibrating image 16 / 5000\n",
      "Calibrating image 16 / 5000\n",
      "INFO:EngineBuilder:Calibrating image 24 / 5000\n",
      "Calibrating image 24 / 5000\n",
      "Calibrating image 24 / 5000\n",
      "INFO:EngineBuilder:Calibrating image 32 / 5000\n",
      "Calibrating image 32 / 5000\n",
      "Calibrating image 32 / 5000\n",
      "INFO:EngineBuilder:Calibrating image 40 / 5000\n",
      "Calibrating image 40 / 5000\n",
      "Calibrating image 40 / 5000\n"
     ]
    },
    {
     "name": "stdout",
     "output_type": "stream",
     "text": [
      "[08/23/2022-14:40:18] [TRT] [I]   Calibrated batch 1 in 0.0250768 seconds.\n",
      "[08/23/2022-14:40:18] [TRT] [I]   Calibrated batch 2 in 0.0232552 seconds.\n",
      "[08/23/2022-14:40:18] [TRT] [I]   Calibrated batch 3 in 0.0221321 seconds.\n"
     ]
    },
    {
     "name": "stderr",
     "output_type": "stream",
     "text": [
      "INFO:EngineBuilder:Calibrating image 48 / 5000\n",
      "Calibrating image 48 / 5000\n",
      "Calibrating image 48 / 5000\n",
      "INFO:EngineBuilder:Calibrating image 56 / 5000\n",
      "Calibrating image 56 / 5000\n",
      "Calibrating image 56 / 5000\n",
      "INFO:EngineBuilder:Calibrating image 64 / 5000\n",
      "Calibrating image 64 / 5000\n",
      "Calibrating image 64 / 5000\n"
     ]
    },
    {
     "name": "stdout",
     "output_type": "stream",
     "text": [
      "[08/23/2022-14:40:18] [TRT] [I]   Calibrated batch 4 in 0.0240379 seconds.\n",
      "[08/23/2022-14:40:18] [TRT] [I]   Calibrated batch 5 in 0.0229098 seconds.\n",
      "[08/23/2022-14:40:18] [TRT] [I]   Calibrated batch 6 in 0.0219619 seconds.\n",
      "[08/23/2022-14:40:18] [TRT] [I]   Calibrated batch 7 in 0.0236868 seconds.\n"
     ]
    },
    {
     "name": "stderr",
     "output_type": "stream",
     "text": [
      "INFO:EngineBuilder:Calibrating image 72 / 5000\n",
      "Calibrating image 72 / 5000\n",
      "Calibrating image 72 / 5000\n",
      "INFO:EngineBuilder:Calibrating image 80 / 5000\n",
      "Calibrating image 80 / 5000\n",
      "Calibrating image 80 / 5000\n",
      "INFO:EngineBuilder:Calibrating image 88 / 5000\n",
      "Calibrating image 88 / 5000\n",
      "Calibrating image 88 / 5000\n",
      "INFO:EngineBuilder:Calibrating image 96 / 5000\n",
      "Calibrating image 96 / 5000\n",
      "Calibrating image 96 / 5000\n"
     ]
    },
    {
     "name": "stdout",
     "output_type": "stream",
     "text": [
      "[08/23/2022-14:40:18] [TRT] [I]   Calibrated batch 8 in 0.0234568 seconds.\n",
      "[08/23/2022-14:40:18] [TRT] [I]   Calibrated batch 9 in 0.0219877 seconds.\n",
      "[08/23/2022-14:40:18] [TRT] [I]   Calibrated batch 10 in 0.0226528 seconds.\n"
     ]
    },
    {
     "name": "stderr",
     "output_type": "stream",
     "text": [
      "INFO:EngineBuilder:Calibrating image 104 / 5000\n",
      "Calibrating image 104 / 5000\n",
      "Calibrating image 104 / 5000\n",
      "INFO:EngineBuilder:Calibrating image 112 / 5000\n",
      "Calibrating image 112 / 5000\n",
      "Calibrating image 112 / 5000\n",
      "INFO:EngineBuilder:Calibrating image 120 / 5000\n",
      "Calibrating image 120 / 5000\n",
      "Calibrating image 120 / 5000\n"
     ]
    },
    {
     "name": "stdout",
     "output_type": "stream",
     "text": [
      "[08/23/2022-14:40:18] [TRT] [I]   Calibrated batch 11 in 0.0229091 seconds.\n",
      "[08/23/2022-14:40:18] [TRT] [I]   Calibrated batch 12 in 0.022165 seconds.\n",
      "[08/23/2022-14:40:18] [TRT] [I]   Calibrated batch 13 in 0.0217785 seconds.\n"
     ]
    },
    {
     "name": "stderr",
     "output_type": "stream",
     "text": [
      "INFO:EngineBuilder:Calibrating image 128 / 5000\n",
      "Calibrating image 128 / 5000\n",
      "Calibrating image 128 / 5000\n",
      "INFO:EngineBuilder:Calibrating image 136 / 5000\n",
      "Calibrating image 136 / 5000\n",
      "Calibrating image 136 / 5000\n",
      "INFO:EngineBuilder:Calibrating image 144 / 5000\n",
      "Calibrating image 144 / 5000\n",
      "Calibrating image 144 / 5000\n"
     ]
    },
    {
     "name": "stdout",
     "output_type": "stream",
     "text": [
      "[08/23/2022-14:40:19] [TRT] [I]   Calibrated batch 14 in 0.0215419 seconds.\n",
      "[08/23/2022-14:40:19] [TRT] [I]   Calibrated batch 15 in 0.02197 seconds.\n",
      "[08/23/2022-14:40:19] [TRT] [I]   Calibrated batch 16 in 0.0215839 seconds.\n"
     ]
    },
    {
     "name": "stderr",
     "output_type": "stream",
     "text": [
      "INFO:EngineBuilder:Calibrating image 152 / 5000\n",
      "Calibrating image 152 / 5000\n",
      "Calibrating image 152 / 5000\n",
      "INFO:EngineBuilder:Calibrating image 160 / 5000\n",
      "Calibrating image 160 / 5000\n",
      "Calibrating image 160 / 5000\n",
      "INFO:EngineBuilder:Calibrating image 168 / 5000\n",
      "Calibrating image 168 / 5000\n",
      "Calibrating image 168 / 5000\n"
     ]
    },
    {
     "name": "stdout",
     "output_type": "stream",
     "text": [
      "[08/23/2022-14:40:19] [TRT] [I]   Calibrated batch 17 in 0.0234726 seconds.\n",
      "[08/23/2022-14:40:19] [TRT] [I]   Calibrated batch 18 in 0.0216946 seconds.\n",
      "[08/23/2022-14:40:19] [TRT] [I]   Calibrated batch 19 in 0.0231638 seconds.\n"
     ]
    },
    {
     "name": "stderr",
     "output_type": "stream",
     "text": [
      "INFO:EngineBuilder:Calibrating image 176 / 5000\n",
      "Calibrating image 176 / 5000\n",
      "Calibrating image 176 / 5000\n",
      "INFO:EngineBuilder:Calibrating image 184 / 5000\n",
      "Calibrating image 184 / 5000\n",
      "Calibrating image 184 / 5000\n",
      "INFO:EngineBuilder:Calibrating image 192 / 5000\n",
      "Calibrating image 192 / 5000\n",
      "Calibrating image 192 / 5000\n"
     ]
    },
    {
     "name": "stdout",
     "output_type": "stream",
     "text": [
      "[08/23/2022-14:40:19] [TRT] [I]   Calibrated batch 20 in 0.0244224 seconds.\n",
      "[08/23/2022-14:40:19] [TRT] [I]   Calibrated batch 21 in 0.0235477 seconds.\n",
      "[08/23/2022-14:40:19] [TRT] [I]   Calibrated batch 22 in 0.0231104 seconds.\n"
     ]
    },
    {
     "name": "stderr",
     "output_type": "stream",
     "text": [
      "INFO:EngineBuilder:Calibrating image 200 / 5000\n",
      "Calibrating image 200 / 5000\n",
      "Calibrating image 200 / 5000\n",
      "INFO:EngineBuilder:Calibrating image 208 / 5000\n",
      "Calibrating image 208 / 5000\n",
      "Calibrating image 208 / 5000\n",
      "INFO:EngineBuilder:Calibrating image 216 / 5000\n",
      "Calibrating image 216 / 5000\n",
      "Calibrating image 216 / 5000\n"
     ]
    },
    {
     "name": "stdout",
     "output_type": "stream",
     "text": [
      "[08/23/2022-14:40:19] [TRT] [I]   Calibrated batch 23 in 0.0243966 seconds.\n",
      "[08/23/2022-14:40:19] [TRT] [I]   Calibrated batch 24 in 0.023316 seconds.\n",
      "[08/23/2022-14:40:19] [TRT] [I]   Calibrated batch 25 in 0.023052 seconds.\n",
      "[08/23/2022-14:40:19] [TRT] [I]   Calibrated batch 26 in 0.0242363 seconds.\n"
     ]
    },
    {
     "name": "stderr",
     "output_type": "stream",
     "text": [
      "INFO:EngineBuilder:Calibrating image 224 / 5000\n",
      "Calibrating image 224 / 5000\n",
      "Calibrating image 224 / 5000\n",
      "INFO:EngineBuilder:Calibrating image 232 / 5000\n",
      "Calibrating image 232 / 5000\n",
      "Calibrating image 232 / 5000\n",
      "INFO:EngineBuilder:Calibrating image 240 / 5000\n",
      "Calibrating image 240 / 5000\n",
      "Calibrating image 240 / 5000\n",
      "INFO:EngineBuilder:Calibrating image 248 / 5000\n",
      "Calibrating image 248 / 5000\n",
      "Calibrating image 248 / 5000\n"
     ]
    },
    {
     "name": "stdout",
     "output_type": "stream",
     "text": [
      "[08/23/2022-14:40:19] [TRT] [I]   Calibrated batch 27 in 0.0226129 seconds.\n",
      "[08/23/2022-14:40:20] [TRT] [I]   Calibrated batch 28 in 0.0215976 seconds.\n",
      "[08/23/2022-14:40:20] [TRT] [I]   Calibrated batch 29 in 0.0236262 seconds.\n"
     ]
    },
    {
     "name": "stderr",
     "output_type": "stream",
     "text": [
      "INFO:EngineBuilder:Calibrating image 256 / 5000\n",
      "Calibrating image 256 / 5000\n",
      "Calibrating image 256 / 5000\n",
      "INFO:EngineBuilder:Calibrating image 264 / 5000\n",
      "Calibrating image 264 / 5000\n",
      "Calibrating image 264 / 5000\n",
      "INFO:EngineBuilder:Calibrating image 272 / 5000\n",
      "Calibrating image 272 / 5000\n",
      "Calibrating image 272 / 5000\n"
     ]
    },
    {
     "name": "stdout",
     "output_type": "stream",
     "text": [
      "[08/23/2022-14:40:20] [TRT] [I]   Calibrated batch 30 in 0.0231266 seconds.\n",
      "[08/23/2022-14:40:20] [TRT] [I]   Calibrated batch 31 in 0.0222555 seconds.\n",
      "[08/23/2022-14:40:20] [TRT] [I]   Calibrated batch 32 in 0.0237869 seconds.\n"
     ]
    },
    {
     "name": "stderr",
     "output_type": "stream",
     "text": [
      "INFO:EngineBuilder:Calibrating image 280 / 5000\n",
      "Calibrating image 280 / 5000\n",
      "Calibrating image 280 / 5000\n",
      "INFO:EngineBuilder:Calibrating image 288 / 5000\n",
      "Calibrating image 288 / 5000\n",
      "Calibrating image 288 / 5000\n",
      "INFO:EngineBuilder:Calibrating image 296 / 5000\n",
      "Calibrating image 296 / 5000\n",
      "Calibrating image 296 / 5000\n"
     ]
    },
    {
     "name": "stdout",
     "output_type": "stream",
     "text": [
      "[08/23/2022-14:40:20] [TRT] [I]   Calibrated batch 33 in 0.0221932 seconds.\n",
      "[08/23/2022-14:40:20] [TRT] [I]   Calibrated batch 34 in 0.0239111 seconds.\n",
      "[08/23/2022-14:40:20] [TRT] [I]   Calibrated batch 35 in 0.0220915 seconds.\n"
     ]
    },
    {
     "name": "stderr",
     "output_type": "stream",
     "text": [
      "INFO:EngineBuilder:Calibrating image 304 / 5000\n",
      "Calibrating image 304 / 5000\n",
      "Calibrating image 304 / 5000\n",
      "INFO:EngineBuilder:Calibrating image 312 / 5000\n",
      "Calibrating image 312 / 5000\n",
      "Calibrating image 312 / 5000\n",
      "INFO:EngineBuilder:Calibrating image 320 / 5000\n",
      "Calibrating image 320 / 5000\n",
      "Calibrating image 320 / 5000\n"
     ]
    },
    {
     "name": "stdout",
     "output_type": "stream",
     "text": [
      "[08/23/2022-14:40:20] [TRT] [I]   Calibrated batch 36 in 0.0237204 seconds.\n",
      "[08/23/2022-14:40:20] [TRT] [I]   Calibrated batch 37 in 0.022731 seconds.\n",
      "[08/23/2022-14:40:20] [TRT] [I]   Calibrated batch 38 in 0.0227049 seconds.\n"
     ]
    },
    {
     "name": "stderr",
     "output_type": "stream",
     "text": [
      "INFO:EngineBuilder:Calibrating image 328 / 5000\n",
      "Calibrating image 328 / 5000\n",
      "Calibrating image 328 / 5000\n",
      "INFO:EngineBuilder:Calibrating image 336 / 5000\n",
      "Calibrating image 336 / 5000\n",
      "Calibrating image 336 / 5000\n",
      "INFO:EngineBuilder:Calibrating image 344 / 5000\n",
      "Calibrating image 344 / 5000\n",
      "Calibrating image 344 / 5000\n"
     ]
    },
    {
     "name": "stdout",
     "output_type": "stream",
     "text": [
      "[08/23/2022-14:40:20] [TRT] [I]   Calibrated batch 39 in 0.0253297 seconds.\n",
      "[08/23/2022-14:40:20] [TRT] [I]   Calibrated batch 40 in 0.0230094 seconds.\n",
      "[08/23/2022-14:40:20] [TRT] [I]   Calibrated batch 41 in 0.0226801 seconds.\n"
     ]
    },
    {
     "name": "stderr",
     "output_type": "stream",
     "text": [
      "INFO:EngineBuilder:Calibrating image 352 / 5000\n",
      "Calibrating image 352 / 5000\n",
      "Calibrating image 352 / 5000\n",
      "INFO:EngineBuilder:Calibrating image 360 / 5000\n",
      "Calibrating image 360 / 5000\n",
      "Calibrating image 360 / 5000\n",
      "INFO:EngineBuilder:Calibrating image 368 / 5000\n",
      "Calibrating image 368 / 5000\n",
      "Calibrating image 368 / 5000\n"
     ]
    },
    {
     "name": "stdout",
     "output_type": "stream",
     "text": [
      "[08/23/2022-14:40:20] [TRT] [I]   Calibrated batch 42 in 0.0238761 seconds.\n",
      "[08/23/2022-14:40:21] [TRT] [I]   Calibrated batch 43 in 0.0225768 seconds.\n",
      "[08/23/2022-14:40:21] [TRT] [I]   Calibrated batch 44 in 0.0229465 seconds.\n",
      "[08/23/2022-14:40:21] [TRT] [I]   Calibrated batch 45 in 0.0236454 seconds.\n"
     ]
    },
    {
     "name": "stderr",
     "output_type": "stream",
     "text": [
      "INFO:EngineBuilder:Calibrating image 376 / 5000\n",
      "Calibrating image 376 / 5000\n",
      "Calibrating image 376 / 5000\n",
      "INFO:EngineBuilder:Calibrating image 384 / 5000\n",
      "Calibrating image 384 / 5000\n",
      "Calibrating image 384 / 5000\n",
      "INFO:EngineBuilder:Calibrating image 392 / 5000\n",
      "Calibrating image 392 / 5000\n",
      "Calibrating image 392 / 5000\n",
      "INFO:EngineBuilder:Calibrating image 400 / 5000\n",
      "Calibrating image 400 / 5000\n",
      "Calibrating image 400 / 5000\n"
     ]
    },
    {
     "name": "stdout",
     "output_type": "stream",
     "text": [
      "[08/23/2022-14:40:21] [TRT] [I]   Calibrated batch 46 in 0.0238712 seconds.\n",
      "[08/23/2022-14:40:21] [TRT] [I]   Calibrated batch 47 in 0.0235109 seconds.\n",
      "[08/23/2022-14:40:21] [TRT] [I]   Calibrated batch 48 in 0.023901 seconds.\n"
     ]
    },
    {
     "name": "stderr",
     "output_type": "stream",
     "text": [
      "INFO:EngineBuilder:Calibrating image 408 / 5000\n",
      "Calibrating image 408 / 5000\n",
      "Calibrating image 408 / 5000\n",
      "INFO:EngineBuilder:Calibrating image 416 / 5000\n",
      "Calibrating image 416 / 5000\n",
      "Calibrating image 416 / 5000\n",
      "INFO:EngineBuilder:Calibrating image 424 / 5000\n",
      "Calibrating image 424 / 5000\n",
      "Calibrating image 424 / 5000\n"
     ]
    },
    {
     "name": "stdout",
     "output_type": "stream",
     "text": [
      "[08/23/2022-14:40:21] [TRT] [I]   Calibrated batch 49 in 0.024076 seconds.\n",
      "[08/23/2022-14:40:21] [TRT] [I]   Calibrated batch 50 in 0.0238545 seconds.\n",
      "[08/23/2022-14:40:21] [TRT] [I]   Calibrated batch 51 in 0.0242341 seconds.\n"
     ]
    },
    {
     "name": "stderr",
     "output_type": "stream",
     "text": [
      "INFO:EngineBuilder:Calibrating image 432 / 5000\n",
      "Calibrating image 432 / 5000\n",
      "Calibrating image 432 / 5000\n",
      "INFO:EngineBuilder:Calibrating image 440 / 5000\n",
      "Calibrating image 440 / 5000\n",
      "Calibrating image 440 / 5000\n",
      "INFO:EngineBuilder:Calibrating image 448 / 5000\n",
      "Calibrating image 448 / 5000\n",
      "Calibrating image 448 / 5000\n"
     ]
    },
    {
     "name": "stdout",
     "output_type": "stream",
     "text": [
      "[08/23/2022-14:40:21] [TRT] [I]   Calibrated batch 52 in 0.0243179 seconds.\n",
      "[08/23/2022-14:40:21] [TRT] [I]   Calibrated batch 53 in 0.0223711 seconds.\n",
      "[08/23/2022-14:40:21] [TRT] [I]   Calibrated batch 54 in 0.0237663 seconds.\n"
     ]
    },
    {
     "name": "stderr",
     "output_type": "stream",
     "text": [
      "INFO:EngineBuilder:Calibrating image 456 / 5000\n",
      "Calibrating image 456 / 5000\n",
      "Calibrating image 456 / 5000\n",
      "INFO:EngineBuilder:Calibrating image 464 / 5000\n",
      "Calibrating image 464 / 5000\n",
      "Calibrating image 464 / 5000\n",
      "INFO:EngineBuilder:Calibrating image 472 / 5000\n",
      "Calibrating image 472 / 5000\n",
      "Calibrating image 472 / 5000\n"
     ]
    },
    {
     "name": "stdout",
     "output_type": "stream",
     "text": [
      "[08/23/2022-14:40:21] [TRT] [I]   Calibrated batch 55 in 0.0242823 seconds.\n",
      "[08/23/2022-14:40:21] [TRT] [I]   Calibrated batch 56 in 0.0224856 seconds.\n",
      "[08/23/2022-14:40:22] [TRT] [I]   Calibrated batch 57 in 0.0228205 seconds.\n",
      "[08/23/2022-14:40:22] [TRT] [I]   Calibrated batch 58 in 0.0240983 seconds.\n"
     ]
    },
    {
     "name": "stderr",
     "output_type": "stream",
     "text": [
      "INFO:EngineBuilder:Calibrating image 480 / 5000\n",
      "Calibrating image 480 / 5000\n",
      "Calibrating image 480 / 5000\n",
      "INFO:EngineBuilder:Calibrating image 488 / 5000\n",
      "Calibrating image 488 / 5000\n",
      "Calibrating image 488 / 5000\n",
      "INFO:EngineBuilder:Calibrating image 496 / 5000\n",
      "Calibrating image 496 / 5000\n",
      "Calibrating image 496 / 5000\n",
      "INFO:EngineBuilder:Calibrating image 504 / 5000\n",
      "Calibrating image 504 / 5000\n",
      "Calibrating image 504 / 5000\n"
     ]
    },
    {
     "name": "stdout",
     "output_type": "stream",
     "text": [
      "[08/23/2022-14:40:22] [TRT] [I]   Calibrated batch 59 in 0.0225861 seconds.\n",
      "[08/23/2022-14:40:22] [TRT] [I]   Calibrated batch 60 in 0.0219899 seconds.\n",
      "[08/23/2022-14:40:22] [TRT] [I]   Calibrated batch 61 in 0.0230215 seconds.\n"
     ]
    },
    {
     "name": "stderr",
     "output_type": "stream",
     "text": [
      "INFO:EngineBuilder:Calibrating image 512 / 5000\n",
      "Calibrating image 512 / 5000\n",
      "Calibrating image 512 / 5000\n",
      "INFO:EngineBuilder:Calibrating image 520 / 5000\n",
      "Calibrating image 520 / 5000\n",
      "Calibrating image 520 / 5000\n",
      "INFO:EngineBuilder:Calibrating image 528 / 5000\n",
      "Calibrating image 528 / 5000\n",
      "Calibrating image 528 / 5000\n"
     ]
    },
    {
     "name": "stdout",
     "output_type": "stream",
     "text": [
      "[08/23/2022-14:40:22] [TRT] [I]   Calibrated batch 62 in 0.0228581 seconds.\n",
      "[08/23/2022-14:40:22] [TRT] [I]   Calibrated batch 63 in 0.0220443 seconds.\n",
      "[08/23/2022-14:40:22] [TRT] [I]   Calibrated batch 64 in 0.0234173 seconds.\n"
     ]
    },
    {
     "name": "stderr",
     "output_type": "stream",
     "text": [
      "INFO:EngineBuilder:Calibrating image 536 / 5000\n",
      "Calibrating image 536 / 5000\n",
      "Calibrating image 536 / 5000\n",
      "INFO:EngineBuilder:Calibrating image 544 / 5000\n",
      "Calibrating image 544 / 5000\n",
      "Calibrating image 544 / 5000\n",
      "INFO:EngineBuilder:Calibrating image 552 / 5000\n",
      "Calibrating image 552 / 5000\n",
      "Calibrating image 552 / 5000\n"
     ]
    },
    {
     "name": "stdout",
     "output_type": "stream",
     "text": [
      "[08/23/2022-14:40:22] [TRT] [I]   Calibrated batch 65 in 0.0249826 seconds.\n",
      "[08/23/2022-14:40:22] [TRT] [I]   Calibrated batch 66 in 0.0242922 seconds.\n",
      "[08/23/2022-14:40:22] [TRT] [I]   Calibrated batch 67 in 0.0238065 seconds.\n"
     ]
    },
    {
     "name": "stderr",
     "output_type": "stream",
     "text": [
      "INFO:EngineBuilder:Calibrating image 560 / 5000\n",
      "Calibrating image 560 / 5000\n",
      "Calibrating image 560 / 5000\n",
      "INFO:EngineBuilder:Calibrating image 568 / 5000\n",
      "Calibrating image 568 / 5000\n",
      "Calibrating image 568 / 5000\n",
      "INFO:EngineBuilder:Calibrating image 576 / 5000\n",
      "Calibrating image 576 / 5000\n",
      "Calibrating image 576 / 5000\n"
     ]
    },
    {
     "name": "stdout",
     "output_type": "stream",
     "text": [
      "[08/23/2022-14:40:22] [TRT] [I]   Calibrated batch 68 in 0.022466 seconds.\n",
      "[08/23/2022-14:40:22] [TRT] [I]   Calibrated batch 69 in 0.021777 seconds.\n",
      "[08/23/2022-14:40:22] [TRT] [I]   Calibrated batch 70 in 0.0233026 seconds.\n"
     ]
    },
    {
     "name": "stderr",
     "output_type": "stream",
     "text": [
      "INFO:EngineBuilder:Calibrating image 584 / 5000\n",
      "Calibrating image 584 / 5000\n",
      "Calibrating image 584 / 5000\n",
      "INFO:EngineBuilder:Calibrating image 592 / 5000\n",
      "Calibrating image 592 / 5000\n",
      "Calibrating image 592 / 5000\n",
      "INFO:EngineBuilder:Calibrating image 600 / 5000\n",
      "Calibrating image 600 / 5000\n",
      "Calibrating image 600 / 5000\n"
     ]
    },
    {
     "name": "stdout",
     "output_type": "stream",
     "text": [
      "[08/23/2022-14:40:22] [TRT] [I]   Calibrated batch 71 in 0.0226771 seconds.\n",
      "[08/23/2022-14:40:23] [TRT] [I]   Calibrated batch 72 in 0.0218423 seconds.\n",
      "[08/23/2022-14:40:23] [TRT] [I]   Calibrated batch 73 in 0.0227688 seconds.\n"
     ]
    },
    {
     "name": "stderr",
     "output_type": "stream",
     "text": [
      "INFO:EngineBuilder:Calibrating image 608 / 5000\n",
      "Calibrating image 608 / 5000\n",
      "Calibrating image 608 / 5000\n",
      "INFO:EngineBuilder:Calibrating image 616 / 5000\n",
      "Calibrating image 616 / 5000\n",
      "Calibrating image 616 / 5000\n",
      "INFO:EngineBuilder:Calibrating image 624 / 5000\n",
      "Calibrating image 624 / 5000\n",
      "Calibrating image 624 / 5000\n"
     ]
    },
    {
     "name": "stdout",
     "output_type": "stream",
     "text": [
      "[08/23/2022-14:40:23] [TRT] [I]   Calibrated batch 74 in 0.0222412 seconds.\n",
      "[08/23/2022-14:40:23] [TRT] [I]   Calibrated batch 75 in 0.021811 seconds.\n",
      "[08/23/2022-14:40:23] [TRT] [I]   Calibrated batch 76 in 0.0220803 seconds.\n",
      "[08/23/2022-14:40:23] [TRT] [I]   Calibrated batch 77 in 0.0224771 seconds.\n"
     ]
    },
    {
     "name": "stderr",
     "output_type": "stream",
     "text": [
      "INFO:EngineBuilder:Calibrating image 632 / 5000\n",
      "Calibrating image 632 / 5000\n",
      "Calibrating image 632 / 5000\n",
      "INFO:EngineBuilder:Calibrating image 640 / 5000\n",
      "Calibrating image 640 / 5000\n",
      "Calibrating image 640 / 5000\n",
      "INFO:EngineBuilder:Calibrating image 648 / 5000\n",
      "Calibrating image 648 / 5000\n",
      "Calibrating image 648 / 5000\n",
      "INFO:EngineBuilder:Calibrating image 656 / 5000\n",
      "Calibrating image 656 / 5000\n",
      "Calibrating image 656 / 5000\n"
     ]
    },
    {
     "name": "stdout",
     "output_type": "stream",
     "text": [
      "[08/23/2022-14:40:23] [TRT] [I]   Calibrated batch 78 in 0.0215518 seconds.\n",
      "[08/23/2022-14:40:23] [TRT] [I]   Calibrated batch 79 in 0.0224855 seconds.\n",
      "[08/23/2022-14:40:23] [TRT] [I]   Calibrated batch 80 in 0.0215323 seconds.\n",
      "[08/23/2022-14:40:23] [TRT] [I]   Calibrated batch 81 in 0.0219922 seconds.\n"
     ]
    },
    {
     "name": "stderr",
     "output_type": "stream",
     "text": [
      "INFO:EngineBuilder:Calibrating image 664 / 5000\n",
      "Calibrating image 664 / 5000\n",
      "Calibrating image 664 / 5000\n",
      "INFO:EngineBuilder:Calibrating image 672 / 5000\n",
      "Calibrating image 672 / 5000\n",
      "Calibrating image 672 / 5000\n",
      "INFO:EngineBuilder:Calibrating image 680 / 5000\n",
      "Calibrating image 680 / 5000\n",
      "Calibrating image 680 / 5000\n",
      "INFO:EngineBuilder:Calibrating image 688 / 5000\n",
      "Calibrating image 688 / 5000\n",
      "Calibrating image 688 / 5000\n"
     ]
    },
    {
     "name": "stdout",
     "output_type": "stream",
     "text": [
      "[08/23/2022-14:40:23] [TRT] [I]   Calibrated batch 82 in 0.0226116 seconds.\n",
      "[08/23/2022-14:40:23] [TRT] [I]   Calibrated batch 83 in 0.0218991 seconds.\n",
      "[08/23/2022-14:40:23] [TRT] [I]   Calibrated batch 84 in 0.0248279 seconds.\n"
     ]
    },
    {
     "name": "stderr",
     "output_type": "stream",
     "text": [
      "INFO:EngineBuilder:Calibrating image 696 / 5000\n",
      "Calibrating image 696 / 5000\n",
      "Calibrating image 696 / 5000\n",
      "INFO:EngineBuilder:Calibrating image 704 / 5000\n",
      "Calibrating image 704 / 5000\n",
      "Calibrating image 704 / 5000\n",
      "INFO:EngineBuilder:Calibrating image 712 / 5000\n",
      "Calibrating image 712 / 5000\n",
      "Calibrating image 712 / 5000\n"
     ]
    },
    {
     "name": "stdout",
     "output_type": "stream",
     "text": [
      "[08/23/2022-14:40:23] [TRT] [I]   Calibrated batch 85 in 0.0220469 seconds.\n",
      "[08/23/2022-14:40:24] [TRT] [I]   Calibrated batch 86 in 0.0239899 seconds.\n",
      "[08/23/2022-14:40:24] [TRT] [I]   Calibrated batch 87 in 0.0239525 seconds.\n"
     ]
    },
    {
     "name": "stderr",
     "output_type": "stream",
     "text": [
      "INFO:EngineBuilder:Calibrating image 720 / 5000\n",
      "Calibrating image 720 / 5000\n",
      "Calibrating image 720 / 5000\n",
      "INFO:EngineBuilder:Calibrating image 728 / 5000\n",
      "Calibrating image 728 / 5000\n",
      "Calibrating image 728 / 5000\n",
      "INFO:EngineBuilder:Calibrating image 736 / 5000\n",
      "Calibrating image 736 / 5000\n",
      "Calibrating image 736 / 5000\n"
     ]
    },
    {
     "name": "stdout",
     "output_type": "stream",
     "text": [
      "[08/23/2022-14:40:24] [TRT] [I]   Calibrated batch 88 in 0.0231788 seconds.\n",
      "[08/23/2022-14:40:24] [TRT] [I]   Calibrated batch 89 in 0.021689 seconds.\n",
      "[08/23/2022-14:40:24] [TRT] [I]   Calibrated batch 90 in 0.0215135 seconds.\n",
      "[08/23/2022-14:40:24] [TRT] [I]   Calibrated batch 91 in 0.023106 seconds.\n"
     ]
    },
    {
     "name": "stderr",
     "output_type": "stream",
     "text": [
      "INFO:EngineBuilder:Calibrating image 744 / 5000\n",
      "Calibrating image 744 / 5000\n",
      "Calibrating image 744 / 5000\n",
      "INFO:EngineBuilder:Calibrating image 752 / 5000\n",
      "Calibrating image 752 / 5000\n",
      "Calibrating image 752 / 5000\n",
      "INFO:EngineBuilder:Calibrating image 760 / 5000\n",
      "Calibrating image 760 / 5000\n",
      "Calibrating image 760 / 5000\n",
      "INFO:EngineBuilder:Calibrating image 768 / 5000\n",
      "Calibrating image 768 / 5000\n",
      "Calibrating image 768 / 5000\n"
     ]
    },
    {
     "name": "stdout",
     "output_type": "stream",
     "text": [
      "[08/23/2022-14:40:24] [TRT] [I]   Calibrated batch 92 in 0.0234505 seconds.\n",
      "[08/23/2022-14:40:24] [TRT] [I]   Calibrated batch 93 in 0.0215386 seconds.\n",
      "[08/23/2022-14:40:24] [TRT] [I]   Calibrated batch 94 in 0.0239566 seconds.\n"
     ]
    },
    {
     "name": "stderr",
     "output_type": "stream",
     "text": [
      "INFO:EngineBuilder:Calibrating image 776 / 5000\n",
      "Calibrating image 776 / 5000\n",
      "Calibrating image 776 / 5000\n",
      "INFO:EngineBuilder:Calibrating image 784 / 5000\n",
      "Calibrating image 784 / 5000\n",
      "Calibrating image 784 / 5000\n",
      "INFO:EngineBuilder:Calibrating image 792 / 5000\n",
      "Calibrating image 792 / 5000\n",
      "Calibrating image 792 / 5000\n"
     ]
    },
    {
     "name": "stdout",
     "output_type": "stream",
     "text": [
      "[08/23/2022-14:40:24] [TRT] [I]   Calibrated batch 95 in 0.022389 seconds.\n",
      "[08/23/2022-14:40:24] [TRT] [I]   Calibrated batch 96 in 0.0230584 seconds.\n",
      "[08/23/2022-14:40:24] [TRT] [I]   Calibrated batch 97 in 0.023683 seconds.\n"
     ]
    },
    {
     "name": "stderr",
     "output_type": "stream",
     "text": [
      "INFO:EngineBuilder:Calibrating image 800 / 5000\n",
      "Calibrating image 800 / 5000\n",
      "Calibrating image 800 / 5000\n",
      "INFO:EngineBuilder:Calibrating image 808 / 5000\n",
      "Calibrating image 808 / 5000\n",
      "Calibrating image 808 / 5000\n",
      "INFO:EngineBuilder:Calibrating image 816 / 5000\n",
      "Calibrating image 816 / 5000\n",
      "Calibrating image 816 / 5000\n"
     ]
    },
    {
     "name": "stdout",
     "output_type": "stream",
     "text": [
      "[08/23/2022-14:40:24] [TRT] [I]   Calibrated batch 98 in 0.0233715 seconds.\n",
      "[08/23/2022-14:40:24] [TRT] [I]   Calibrated batch 99 in 0.0257719 seconds.\n",
      "[08/23/2022-14:40:24] [TRT] [I]   Calibrated batch 100 in 0.023542 seconds.\n"
     ]
    },
    {
     "name": "stderr",
     "output_type": "stream",
     "text": [
      "INFO:EngineBuilder:Calibrating image 824 / 5000\n",
      "Calibrating image 824 / 5000\n",
      "Calibrating image 824 / 5000\n",
      "INFO:EngineBuilder:Calibrating image 832 / 5000\n",
      "Calibrating image 832 / 5000\n",
      "Calibrating image 832 / 5000\n",
      "INFO:EngineBuilder:Calibrating image 840 / 5000\n",
      "Calibrating image 840 / 5000\n",
      "Calibrating image 840 / 5000\n"
     ]
    },
    {
     "name": "stdout",
     "output_type": "stream",
     "text": [
      "[08/23/2022-14:40:25] [TRT] [I]   Calibrated batch 101 in 0.0235906 seconds.\n",
      "[08/23/2022-14:40:25] [TRT] [I]   Calibrated batch 102 in 0.0233921 seconds.\n",
      "[08/23/2022-14:40:25] [TRT] [I]   Calibrated batch 103 in 0.0249576 seconds.\n"
     ]
    },
    {
     "name": "stderr",
     "output_type": "stream",
     "text": [
      "INFO:EngineBuilder:Calibrating image 848 / 5000\n",
      "Calibrating image 848 / 5000\n",
      "Calibrating image 848 / 5000\n",
      "INFO:EngineBuilder:Calibrating image 856 / 5000\n",
      "Calibrating image 856 / 5000\n",
      "Calibrating image 856 / 5000\n",
      "INFO:EngineBuilder:Calibrating image 864 / 5000\n",
      "Calibrating image 864 / 5000\n",
      "Calibrating image 864 / 5000\n"
     ]
    },
    {
     "name": "stdout",
     "output_type": "stream",
     "text": [
      "[08/23/2022-14:40:25] [TRT] [I]   Calibrated batch 104 in 0.0256142 seconds.\n",
      "[08/23/2022-14:40:25] [TRT] [I]   Calibrated batch 105 in 0.0228347 seconds.\n",
      "[08/23/2022-14:40:25] [TRT] [I]   Calibrated batch 106 in 0.0218058 seconds.\n"
     ]
    },
    {
     "name": "stderr",
     "output_type": "stream",
     "text": [
      "INFO:EngineBuilder:Calibrating image 872 / 5000\n",
      "Calibrating image 872 / 5000\n",
      "Calibrating image 872 / 5000\n",
      "INFO:EngineBuilder:Calibrating image 880 / 5000\n",
      "Calibrating image 880 / 5000\n",
      "Calibrating image 880 / 5000\n",
      "INFO:EngineBuilder:Calibrating image 888 / 5000\n",
      "Calibrating image 888 / 5000\n",
      "Calibrating image 888 / 5000\n"
     ]
    },
    {
     "name": "stdout",
     "output_type": "stream",
     "text": [
      "[08/23/2022-14:40:25] [TRT] [I]   Calibrated batch 107 in 0.0229212 seconds.\n",
      "[08/23/2022-14:40:25] [TRT] [I]   Calibrated batch 108 in 0.0216633 seconds.\n",
      "[08/23/2022-14:40:25] [TRT] [I]   Calibrated batch 109 in 0.0216925 seconds.\n",
      "[08/23/2022-14:40:25] [TRT] [I]   Calibrated batch 110 in 0.021963 seconds.\n"
     ]
    },
    {
     "name": "stderr",
     "output_type": "stream",
     "text": [
      "INFO:EngineBuilder:Calibrating image 896 / 5000\n",
      "Calibrating image 896 / 5000\n",
      "Calibrating image 896 / 5000\n",
      "INFO:EngineBuilder:Calibrating image 904 / 5000\n",
      "Calibrating image 904 / 5000\n",
      "Calibrating image 904 / 5000\n",
      "INFO:EngineBuilder:Calibrating image 912 / 5000\n",
      "Calibrating image 912 / 5000\n",
      "Calibrating image 912 / 5000\n",
      "INFO:EngineBuilder:Calibrating image 920 / 5000\n",
      "Calibrating image 920 / 5000\n",
      "Calibrating image 920 / 5000\n"
     ]
    },
    {
     "name": "stdout",
     "output_type": "stream",
     "text": [
      "[08/23/2022-14:40:25] [TRT] [I]   Calibrated batch 111 in 0.0223783 seconds.\n",
      "[08/23/2022-14:40:25] [TRT] [I]   Calibrated batch 112 in 0.0214668 seconds.\n",
      "[08/23/2022-14:40:25] [TRT] [I]   Calibrated batch 113 in 0.0219823 seconds.\n",
      "[08/23/2022-14:40:25] [TRT] [I]   Calibrated batch 114 in 0.0217095 seconds.\n"
     ]
    },
    {
     "name": "stderr",
     "output_type": "stream",
     "text": [
      "INFO:EngineBuilder:Calibrating image 928 / 5000\n",
      "Calibrating image 928 / 5000\n",
      "Calibrating image 928 / 5000\n",
      "INFO:EngineBuilder:Calibrating image 936 / 5000\n",
      "Calibrating image 936 / 5000\n",
      "Calibrating image 936 / 5000\n",
      "INFO:EngineBuilder:Calibrating image 944 / 5000\n",
      "Calibrating image 944 / 5000\n",
      "Calibrating image 944 / 5000\n",
      "INFO:EngineBuilder:Calibrating image 952 / 5000\n",
      "Calibrating image 952 / 5000\n",
      "Calibrating image 952 / 5000\n"
     ]
    },
    {
     "name": "stdout",
     "output_type": "stream",
     "text": [
      "[08/23/2022-14:40:25] [TRT] [I]   Calibrated batch 115 in 0.0217888 seconds.\n",
      "[08/23/2022-14:40:26] [TRT] [I]   Calibrated batch 116 in 0.0214519 seconds.\n",
      "[08/23/2022-14:40:26] [TRT] [I]   Calibrated batch 117 in 0.0215061 seconds.\n",
      "[08/23/2022-14:40:26] [TRT] [I]   Calibrated batch 118 in 0.0216884 seconds.\n"
     ]
    },
    {
     "name": "stderr",
     "output_type": "stream",
     "text": [
      "INFO:EngineBuilder:Calibrating image 960 / 5000\n",
      "Calibrating image 960 / 5000\n",
      "Calibrating image 960 / 5000\n",
      "INFO:EngineBuilder:Calibrating image 968 / 5000\n",
      "Calibrating image 968 / 5000\n",
      "Calibrating image 968 / 5000\n",
      "INFO:EngineBuilder:Calibrating image 976 / 5000\n",
      "Calibrating image 976 / 5000\n",
      "Calibrating image 976 / 5000\n",
      "INFO:EngineBuilder:Calibrating image 984 / 5000\n",
      "Calibrating image 984 / 5000\n",
      "Calibrating image 984 / 5000\n"
     ]
    },
    {
     "name": "stdout",
     "output_type": "stream",
     "text": [
      "[08/23/2022-14:40:26] [TRT] [I]   Calibrated batch 119 in 0.0215229 seconds.\n",
      "[08/23/2022-14:40:26] [TRT] [I]   Calibrated batch 120 in 0.0212986 seconds.\n",
      "[08/23/2022-14:40:26] [TRT] [I]   Calibrated batch 121 in 0.0215133 seconds.\n",
      "[08/23/2022-14:40:26] [TRT] [I]   Calibrated batch 122 in 0.0232971 seconds.\n"
     ]
    },
    {
     "name": "stderr",
     "output_type": "stream",
     "text": [
      "INFO:EngineBuilder:Calibrating image 992 / 5000\n",
      "Calibrating image 992 / 5000\n",
      "Calibrating image 992 / 5000\n",
      "INFO:EngineBuilder:Calibrating image 1000 / 5000\n",
      "Calibrating image 1000 / 5000\n",
      "Calibrating image 1000 / 5000\n",
      "INFO:EngineBuilder:Calibrating image 1008 / 5000\n",
      "Calibrating image 1008 / 5000\n",
      "Calibrating image 1008 / 5000\n",
      "INFO:EngineBuilder:Calibrating image 1016 / 5000\n",
      "Calibrating image 1016 / 5000\n",
      "Calibrating image 1016 / 5000\n"
     ]
    },
    {
     "name": "stdout",
     "output_type": "stream",
     "text": [
      "[08/23/2022-14:40:26] [TRT] [I]   Calibrated batch 123 in 0.0213377 seconds.\n",
      "[08/23/2022-14:40:26] [TRT] [I]   Calibrated batch 124 in 0.0215609 seconds.\n",
      "[08/23/2022-14:40:26] [TRT] [I]   Calibrated batch 125 in 0.022126 seconds.\n",
      "[08/23/2022-14:40:26] [TRT] [I]   Calibrated batch 126 in 0.0215096 seconds.\n"
     ]
    },
    {
     "name": "stderr",
     "output_type": "stream",
     "text": [
      "INFO:EngineBuilder:Calibrating image 1024 / 5000\n",
      "Calibrating image 1024 / 5000\n",
      "Calibrating image 1024 / 5000\n",
      "INFO:EngineBuilder:Calibrating image 1032 / 5000\n",
      "Calibrating image 1032 / 5000\n",
      "Calibrating image 1032 / 5000\n",
      "INFO:EngineBuilder:Calibrating image 1040 / 5000\n",
      "Calibrating image 1040 / 5000\n",
      "Calibrating image 1040 / 5000\n",
      "INFO:EngineBuilder:Calibrating image 1048 / 5000\n",
      "Calibrating image 1048 / 5000\n",
      "Calibrating image 1048 / 5000\n"
     ]
    },
    {
     "name": "stdout",
     "output_type": "stream",
     "text": [
      "[08/23/2022-14:40:26] [TRT] [I]   Calibrated batch 127 in 0.0216147 seconds.\n",
      "[08/23/2022-14:40:26] [TRT] [I]   Calibrated batch 128 in 0.0221634 seconds.\n",
      "[08/23/2022-14:40:26] [TRT] [I]   Calibrated batch 129 in 0.0213432 seconds.\n",
      "[08/23/2022-14:40:26] [TRT] [I]   Calibrated batch 130 in 0.022199 seconds.\n"
     ]
    },
    {
     "name": "stderr",
     "output_type": "stream",
     "text": [
      "INFO:EngineBuilder:Calibrating image 1056 / 5000\n",
      "Calibrating image 1056 / 5000\n",
      "Calibrating image 1056 / 5000\n",
      "INFO:EngineBuilder:Calibrating image 1064 / 5000\n",
      "Calibrating image 1064 / 5000\n",
      "Calibrating image 1064 / 5000\n",
      "INFO:EngineBuilder:Calibrating image 1072 / 5000\n",
      "Calibrating image 1072 / 5000\n",
      "Calibrating image 1072 / 5000\n",
      "INFO:EngineBuilder:Calibrating image 1080 / 5000\n",
      "Calibrating image 1080 / 5000\n",
      "Calibrating image 1080 / 5000\n"
     ]
    },
    {
     "name": "stdout",
     "output_type": "stream",
     "text": [
      "[08/23/2022-14:40:27] [TRT] [I]   Calibrated batch 131 in 0.0215407 seconds.\n",
      "[08/23/2022-14:40:27] [TRT] [I]   Calibrated batch 132 in 0.0215456 seconds.\n",
      "[08/23/2022-14:40:27] [TRT] [I]   Calibrated batch 133 in 0.021492 seconds.\n",
      "[08/23/2022-14:40:27] [TRT] [I]   Calibrated batch 134 in 0.0214623 seconds.\n"
     ]
    },
    {
     "name": "stderr",
     "output_type": "stream",
     "text": [
      "INFO:EngineBuilder:Calibrating image 1088 / 5000\n",
      "Calibrating image 1088 / 5000\n",
      "Calibrating image 1088 / 5000\n",
      "INFO:EngineBuilder:Calibrating image 1096 / 5000\n",
      "Calibrating image 1096 / 5000\n",
      "Calibrating image 1096 / 5000\n",
      "INFO:EngineBuilder:Calibrating image 1104 / 5000\n",
      "Calibrating image 1104 / 5000\n",
      "Calibrating image 1104 / 5000\n",
      "INFO:EngineBuilder:Calibrating image 1112 / 5000\n",
      "Calibrating image 1112 / 5000\n",
      "Calibrating image 1112 / 5000\n"
     ]
    },
    {
     "name": "stdout",
     "output_type": "stream",
     "text": [
      "[08/23/2022-14:40:27] [TRT] [I]   Calibrated batch 135 in 0.0214894 seconds.\n",
      "[08/23/2022-14:40:27] [TRT] [I]   Calibrated batch 136 in 0.0214646 seconds.\n",
      "[08/23/2022-14:40:27] [TRT] [I]   Calibrated batch 137 in 0.0216009 seconds.\n",
      "[08/23/2022-14:40:27] [TRT] [I]   Calibrated batch 138 in 0.0217047 seconds.\n"
     ]
    },
    {
     "name": "stderr",
     "output_type": "stream",
     "text": [
      "INFO:EngineBuilder:Calibrating image 1120 / 5000\n",
      "Calibrating image 1120 / 5000\n",
      "Calibrating image 1120 / 5000\n",
      "INFO:EngineBuilder:Calibrating image 1128 / 5000\n",
      "Calibrating image 1128 / 5000\n",
      "Calibrating image 1128 / 5000\n",
      "INFO:EngineBuilder:Calibrating image 1136 / 5000\n",
      "Calibrating image 1136 / 5000\n",
      "Calibrating image 1136 / 5000\n",
      "INFO:EngineBuilder:Calibrating image 1144 / 5000\n",
      "Calibrating image 1144 / 5000\n",
      "Calibrating image 1144 / 5000\n"
     ]
    },
    {
     "name": "stdout",
     "output_type": "stream",
     "text": [
      "[08/23/2022-14:40:27] [TRT] [I]   Calibrated batch 139 in 0.021562 seconds.\n",
      "[08/23/2022-14:40:27] [TRT] [I]   Calibrated batch 140 in 0.0214578 seconds.\n",
      "[08/23/2022-14:40:27] [TRT] [I]   Calibrated batch 141 in 0.0214842 seconds.\n",
      "[08/23/2022-14:40:27] [TRT] [I]   Calibrated batch 142 in 0.022442 seconds.\n"
     ]
    },
    {
     "name": "stderr",
     "output_type": "stream",
     "text": [
      "INFO:EngineBuilder:Calibrating image 1152 / 5000\n",
      "Calibrating image 1152 / 5000\n",
      "Calibrating image 1152 / 5000\n",
      "INFO:EngineBuilder:Calibrating image 1160 / 5000\n",
      "Calibrating image 1160 / 5000\n",
      "Calibrating image 1160 / 5000\n",
      "INFO:EngineBuilder:Calibrating image 1168 / 5000\n",
      "Calibrating image 1168 / 5000\n",
      "Calibrating image 1168 / 5000\n",
      "INFO:EngineBuilder:Calibrating image 1176 / 5000\n",
      "Calibrating image 1176 / 5000\n",
      "Calibrating image 1176 / 5000\n"
     ]
    },
    {
     "name": "stdout",
     "output_type": "stream",
     "text": [
      "[08/23/2022-14:40:27] [TRT] [I]   Calibrated batch 143 in 0.021315 seconds.\n",
      "[08/23/2022-14:40:27] [TRT] [I]   Calibrated batch 144 in 0.021401 seconds.\n",
      "[08/23/2022-14:40:27] [TRT] [I]   Calibrated batch 145 in 0.022302 seconds.\n",
      "[08/23/2022-14:40:28] [TRT] [I]   Calibrated batch 146 in 0.0231658 seconds.\n"
     ]
    },
    {
     "name": "stderr",
     "output_type": "stream",
     "text": [
      "INFO:EngineBuilder:Calibrating image 1184 / 5000\n",
      "Calibrating image 1184 / 5000\n",
      "Calibrating image 1184 / 5000\n",
      "INFO:EngineBuilder:Calibrating image 1192 / 5000\n",
      "Calibrating image 1192 / 5000\n",
      "Calibrating image 1192 / 5000\n",
      "INFO:EngineBuilder:Calibrating image 1200 / 5000\n",
      "Calibrating image 1200 / 5000\n",
      "Calibrating image 1200 / 5000\n",
      "INFO:EngineBuilder:Calibrating image 1208 / 5000\n",
      "Calibrating image 1208 / 5000\n",
      "Calibrating image 1208 / 5000\n"
     ]
    },
    {
     "name": "stdout",
     "output_type": "stream",
     "text": [
      "[08/23/2022-14:40:28] [TRT] [I]   Calibrated batch 147 in 0.0228011 seconds.\n",
      "[08/23/2022-14:40:28] [TRT] [I]   Calibrated batch 148 in 0.022509 seconds.\n",
      "[08/23/2022-14:40:28] [TRT] [I]   Calibrated batch 149 in 0.0215307 seconds.\n"
     ]
    },
    {
     "name": "stderr",
     "output_type": "stream",
     "text": [
      "INFO:EngineBuilder:Calibrating image 1216 / 5000\n",
      "Calibrating image 1216 / 5000\n",
      "Calibrating image 1216 / 5000\n",
      "INFO:EngineBuilder:Calibrating image 1224 / 5000\n",
      "Calibrating image 1224 / 5000\n",
      "Calibrating image 1224 / 5000\n",
      "INFO:EngineBuilder:Calibrating image 1232 / 5000\n",
      "Calibrating image 1232 / 5000\n",
      "Calibrating image 1232 / 5000\n"
     ]
    },
    {
     "name": "stdout",
     "output_type": "stream",
     "text": [
      "[08/23/2022-14:40:28] [TRT] [I]   Calibrated batch 150 in 0.0217968 seconds.\n",
      "[08/23/2022-14:40:28] [TRT] [I]   Calibrated batch 151 in 0.0223343 seconds.\n",
      "[08/23/2022-14:40:28] [TRT] [I]   Calibrated batch 152 in 0.021271 seconds.\n",
      "[08/23/2022-14:40:28] [TRT] [I]   Calibrated batch 153 in 0.0215422 seconds.\n"
     ]
    },
    {
     "name": "stderr",
     "output_type": "stream",
     "text": [
      "INFO:EngineBuilder:Calibrating image 1240 / 5000\n",
      "Calibrating image 1240 / 5000\n",
      "Calibrating image 1240 / 5000\n",
      "INFO:EngineBuilder:Calibrating image 1248 / 5000\n",
      "Calibrating image 1248 / 5000\n",
      "Calibrating image 1248 / 5000\n",
      "INFO:EngineBuilder:Calibrating image 1256 / 5000\n",
      "Calibrating image 1256 / 5000\n",
      "Calibrating image 1256 / 5000\n",
      "INFO:EngineBuilder:Calibrating image 1264 / 5000\n",
      "Calibrating image 1264 / 5000\n",
      "Calibrating image 1264 / 5000\n"
     ]
    },
    {
     "name": "stdout",
     "output_type": "stream",
     "text": [
      "[08/23/2022-14:40:28] [TRT] [I]   Calibrated batch 154 in 0.0223416 seconds.\n",
      "[08/23/2022-14:40:28] [TRT] [I]   Calibrated batch 155 in 0.021356 seconds.\n",
      "[08/23/2022-14:40:28] [TRT] [I]   Calibrated batch 156 in 0.0217255 seconds.\n",
      "[08/23/2022-14:40:28] [TRT] [I]   Calibrated batch 157 in 0.0222841 seconds.\n"
     ]
    },
    {
     "name": "stderr",
     "output_type": "stream",
     "text": [
      "INFO:EngineBuilder:Calibrating image 1272 / 5000\n",
      "Calibrating image 1272 / 5000\n",
      "Calibrating image 1272 / 5000\n",
      "INFO:EngineBuilder:Calibrating image 1280 / 5000\n",
      "Calibrating image 1280 / 5000\n",
      "Calibrating image 1280 / 5000\n",
      "INFO:EngineBuilder:Calibrating image 1288 / 5000\n",
      "Calibrating image 1288 / 5000\n",
      "Calibrating image 1288 / 5000\n",
      "INFO:EngineBuilder:Calibrating image 1296 / 5000\n",
      "Calibrating image 1296 / 5000\n",
      "Calibrating image 1296 / 5000\n"
     ]
    },
    {
     "name": "stdout",
     "output_type": "stream",
     "text": [
      "[08/23/2022-14:40:28] [TRT] [I]   Calibrated batch 158 in 0.021583 seconds.\n",
      "[08/23/2022-14:40:28] [TRT] [I]   Calibrated batch 159 in 0.0216182 seconds.\n",
      "[08/23/2022-14:40:28] [TRT] [I]   Calibrated batch 160 in 0.0220017 seconds.\n",
      "[08/23/2022-14:40:29] [TRT] [I]   Calibrated batch 161 in 0.021328 seconds.\n"
     ]
    },
    {
     "name": "stderr",
     "output_type": "stream",
     "text": [
      "INFO:EngineBuilder:Calibrating image 1304 / 5000\n",
      "Calibrating image 1304 / 5000\n",
      "Calibrating image 1304 / 5000\n",
      "INFO:EngineBuilder:Calibrating image 1312 / 5000\n",
      "Calibrating image 1312 / 5000\n",
      "Calibrating image 1312 / 5000\n",
      "INFO:EngineBuilder:Calibrating image 1320 / 5000\n",
      "Calibrating image 1320 / 5000\n",
      "Calibrating image 1320 / 5000\n",
      "INFO:EngineBuilder:Calibrating image 1328 / 5000\n",
      "Calibrating image 1328 / 5000\n",
      "Calibrating image 1328 / 5000\n"
     ]
    },
    {
     "name": "stdout",
     "output_type": "stream",
     "text": [
      "[08/23/2022-14:40:29] [TRT] [I]   Calibrated batch 162 in 0.021606 seconds.\n",
      "[08/23/2022-14:40:29] [TRT] [I]   Calibrated batch 163 in 0.0221813 seconds.\n",
      "[08/23/2022-14:40:29] [TRT] [I]   Calibrated batch 164 in 0.0215079 seconds.\n",
      "[08/23/2022-14:40:29] [TRT] [I]   Calibrated batch 165 in 0.0218917 seconds.\n"
     ]
    },
    {
     "name": "stderr",
     "output_type": "stream",
     "text": [
      "INFO:EngineBuilder:Calibrating image 1336 / 5000\n",
      "Calibrating image 1336 / 5000\n",
      "Calibrating image 1336 / 5000\n",
      "INFO:EngineBuilder:Calibrating image 1344 / 5000\n",
      "Calibrating image 1344 / 5000\n",
      "Calibrating image 1344 / 5000\n",
      "INFO:EngineBuilder:Calibrating image 1352 / 5000\n",
      "Calibrating image 1352 / 5000\n",
      "Calibrating image 1352 / 5000\n",
      "INFO:EngineBuilder:Calibrating image 1360 / 5000\n",
      "Calibrating image 1360 / 5000\n",
      "Calibrating image 1360 / 5000\n"
     ]
    },
    {
     "name": "stdout",
     "output_type": "stream",
     "text": [
      "[08/23/2022-14:40:29] [TRT] [I]   Calibrated batch 166 in 0.0230242 seconds.\n",
      "[08/23/2022-14:40:29] [TRT] [I]   Calibrated batch 167 in 0.0216542 seconds.\n",
      "[08/23/2022-14:40:29] [TRT] [I]   Calibrated batch 168 in 0.0215188 seconds.\n"
     ]
    },
    {
     "name": "stderr",
     "output_type": "stream",
     "text": [
      "INFO:EngineBuilder:Calibrating image 1368 / 5000\n",
      "Calibrating image 1368 / 5000\n",
      "Calibrating image 1368 / 5000\n",
      "INFO:EngineBuilder:Calibrating image 1376 / 5000\n",
      "Calibrating image 1376 / 5000\n",
      "Calibrating image 1376 / 5000\n",
      "INFO:EngineBuilder:Calibrating image 1384 / 5000\n",
      "Calibrating image 1384 / 5000\n",
      "Calibrating image 1384 / 5000\n"
     ]
    },
    {
     "name": "stdout",
     "output_type": "stream",
     "text": [
      "[08/23/2022-14:40:29] [TRT] [I]   Calibrated batch 169 in 0.0223859 seconds.\n",
      "[08/23/2022-14:40:29] [TRT] [I]   Calibrated batch 170 in 0.0214603 seconds.\n",
      "[08/23/2022-14:40:29] [TRT] [I]   Calibrated batch 171 in 0.0216752 seconds.\n",
      "[08/23/2022-14:40:29] [TRT] [I]   Calibrated batch 172 in 0.0223181 seconds.\n"
     ]
    },
    {
     "name": "stderr",
     "output_type": "stream",
     "text": [
      "INFO:EngineBuilder:Calibrating image 1392 / 5000\n",
      "Calibrating image 1392 / 5000\n",
      "Calibrating image 1392 / 5000\n",
      "INFO:EngineBuilder:Calibrating image 1400 / 5000\n",
      "Calibrating image 1400 / 5000\n",
      "Calibrating image 1400 / 5000\n",
      "INFO:EngineBuilder:Calibrating image 1408 / 5000\n",
      "Calibrating image 1408 / 5000\n",
      "Calibrating image 1408 / 5000\n",
      "INFO:EngineBuilder:Calibrating image 1416 / 5000\n",
      "Calibrating image 1416 / 5000\n",
      "Calibrating image 1416 / 5000\n"
     ]
    },
    {
     "name": "stdout",
     "output_type": "stream",
     "text": [
      "[08/23/2022-14:40:29] [TRT] [I]   Calibrated batch 173 in 0.0214931 seconds.\n",
      "[08/23/2022-14:40:29] [TRT] [I]   Calibrated batch 174 in 0.0213741 seconds.\n",
      "[08/23/2022-14:40:29] [TRT] [I]   Calibrated batch 175 in 0.0221924 seconds.\n",
      "[08/23/2022-14:40:29] [TRT] [I]   Calibrated batch 176 in 0.0216483 seconds.\n"
     ]
    },
    {
     "name": "stderr",
     "output_type": "stream",
     "text": [
      "INFO:EngineBuilder:Calibrating image 1424 / 5000\n",
      "Calibrating image 1424 / 5000\n",
      "Calibrating image 1424 / 5000\n",
      "INFO:EngineBuilder:Calibrating image 1432 / 5000\n",
      "Calibrating image 1432 / 5000\n",
      "Calibrating image 1432 / 5000\n",
      "INFO:EngineBuilder:Calibrating image 1440 / 5000\n",
      "Calibrating image 1440 / 5000\n",
      "Calibrating image 1440 / 5000\n",
      "INFO:EngineBuilder:Calibrating image 1448 / 5000\n",
      "Calibrating image 1448 / 5000\n",
      "Calibrating image 1448 / 5000\n"
     ]
    },
    {
     "name": "stdout",
     "output_type": "stream",
     "text": [
      "[08/23/2022-14:40:30] [TRT] [I]   Calibrated batch 177 in 0.0216347 seconds.\n",
      "[08/23/2022-14:40:30] [TRT] [I]   Calibrated batch 178 in 0.0224193 seconds.\n",
      "[08/23/2022-14:40:30] [TRT] [I]   Calibrated batch 179 in 0.0285581 seconds.\n"
     ]
    },
    {
     "name": "stderr",
     "output_type": "stream",
     "text": [
      "INFO:EngineBuilder:Calibrating image 1456 / 5000\n",
      "Calibrating image 1456 / 5000\n",
      "Calibrating image 1456 / 5000\n",
      "INFO:EngineBuilder:Calibrating image 1464 / 5000\n",
      "Calibrating image 1464 / 5000\n",
      "Calibrating image 1464 / 5000\n",
      "INFO:EngineBuilder:Calibrating image 1472 / 5000\n",
      "Calibrating image 1472 / 5000\n",
      "Calibrating image 1472 / 5000\n"
     ]
    },
    {
     "name": "stdout",
     "output_type": "stream",
     "text": [
      "[08/23/2022-14:40:30] [TRT] [I]   Calibrated batch 180 in 0.0243759 seconds.\n",
      "[08/23/2022-14:40:30] [TRT] [I]   Calibrated batch 181 in 0.0233027 seconds.\n",
      "[08/23/2022-14:40:30] [TRT] [I]   Calibrated batch 182 in 0.0192728 seconds.\n",
      "[08/23/2022-14:40:30] [TRT] [I]   Calibrated batch 183 in 0.0192776 seconds.\n"
     ]
    },
    {
     "name": "stderr",
     "output_type": "stream",
     "text": [
      "INFO:EngineBuilder:Calibrating image 1480 / 5000\n",
      "Calibrating image 1480 / 5000\n",
      "Calibrating image 1480 / 5000\n",
      "INFO:EngineBuilder:Calibrating image 1488 / 5000\n",
      "Calibrating image 1488 / 5000\n",
      "Calibrating image 1488 / 5000\n",
      "INFO:EngineBuilder:Calibrating image 1496 / 5000\n",
      "Calibrating image 1496 / 5000\n",
      "Calibrating image 1496 / 5000\n",
      "INFO:EngineBuilder:Calibrating image 1504 / 5000\n",
      "Calibrating image 1504 / 5000\n",
      "Calibrating image 1504 / 5000\n"
     ]
    },
    {
     "name": "stdout",
     "output_type": "stream",
     "text": [
      "[08/23/2022-14:40:30] [TRT] [I]   Calibrated batch 184 in 0.0190347 seconds.\n",
      "[08/23/2022-14:40:30] [TRT] [I]   Calibrated batch 185 in 0.0188787 seconds.\n",
      "[08/23/2022-14:40:30] [TRT] [I]   Calibrated batch 186 in 0.0190309 seconds.\n",
      "[08/23/2022-14:40:30] [TRT] [I]   Calibrated batch 187 in 0.0195448 seconds.\n"
     ]
    },
    {
     "name": "stderr",
     "output_type": "stream",
     "text": [
      "INFO:EngineBuilder:Calibrating image 1512 / 5000\n",
      "Calibrating image 1512 / 5000\n",
      "Calibrating image 1512 / 5000\n",
      "INFO:EngineBuilder:Calibrating image 1520 / 5000\n",
      "Calibrating image 1520 / 5000\n",
      "Calibrating image 1520 / 5000\n",
      "INFO:EngineBuilder:Calibrating image 1528 / 5000\n",
      "Calibrating image 1528 / 5000\n",
      "Calibrating image 1528 / 5000\n",
      "INFO:EngineBuilder:Calibrating image 1536 / 5000\n",
      "Calibrating image 1536 / 5000\n",
      "Calibrating image 1536 / 5000\n"
     ]
    },
    {
     "name": "stdout",
     "output_type": "stream",
     "text": [
      "[08/23/2022-14:40:30] [TRT] [I]   Calibrated batch 188 in 0.0189666 seconds.\n",
      "[08/23/2022-14:40:30] [TRT] [I]   Calibrated batch 189 in 0.0190814 seconds.\n",
      "[08/23/2022-14:40:30] [TRT] [I]   Calibrated batch 190 in 0.0195398 seconds.\n",
      "[08/23/2022-14:40:30] [TRT] [I]   Calibrated batch 191 in 0.0188666 seconds.\n"
     ]
    },
    {
     "name": "stderr",
     "output_type": "stream",
     "text": [
      "INFO:EngineBuilder:Calibrating image 1544 / 5000\n",
      "Calibrating image 1544 / 5000\n",
      "Calibrating image 1544 / 5000\n",
      "INFO:EngineBuilder:Calibrating image 1552 / 5000\n",
      "Calibrating image 1552 / 5000\n",
      "Calibrating image 1552 / 5000\n",
      "INFO:EngineBuilder:Calibrating image 1560 / 5000\n",
      "Calibrating image 1560 / 5000\n",
      "Calibrating image 1560 / 5000\n",
      "INFO:EngineBuilder:Calibrating image 1568 / 5000\n",
      "Calibrating image 1568 / 5000\n",
      "Calibrating image 1568 / 5000\n"
     ]
    },
    {
     "name": "stdout",
     "output_type": "stream",
     "text": [
      "[08/23/2022-14:40:31] [TRT] [I]   Calibrated batch 192 in 0.0190156 seconds.\n",
      "[08/23/2022-14:40:31] [TRT] [I]   Calibrated batch 193 in 0.0189404 seconds.\n",
      "[08/23/2022-14:40:31] [TRT] [I]   Calibrated batch 194 in 0.0191241 seconds.\n",
      "[08/23/2022-14:40:31] [TRT] [I]   Calibrated batch 195 in 0.0190684 seconds.\n"
     ]
    },
    {
     "name": "stderr",
     "output_type": "stream",
     "text": [
      "INFO:EngineBuilder:Calibrating image 1576 / 5000\n",
      "Calibrating image 1576 / 5000\n",
      "Calibrating image 1576 / 5000\n",
      "INFO:EngineBuilder:Calibrating image 1584 / 5000\n",
      "Calibrating image 1584 / 5000\n",
      "Calibrating image 1584 / 5000\n",
      "INFO:EngineBuilder:Calibrating image 1592 / 5000\n",
      "Calibrating image 1592 / 5000\n",
      "Calibrating image 1592 / 5000\n",
      "INFO:EngineBuilder:Calibrating image 1600 / 5000\n",
      "Calibrating image 1600 / 5000\n",
      "Calibrating image 1600 / 5000\n"
     ]
    },
    {
     "name": "stdout",
     "output_type": "stream",
     "text": [
      "[08/23/2022-14:40:31] [TRT] [I]   Calibrated batch 196 in 0.0190522 seconds.\n",
      "[08/23/2022-14:40:31] [TRT] [I]   Calibrated batch 197 in 0.019179 seconds.\n",
      "[08/23/2022-14:40:31] [TRT] [I]   Calibrated batch 198 in 0.0191452 seconds.\n",
      "[08/23/2022-14:40:31] [TRT] [I]   Calibrated batch 199 in 0.0190975 seconds.\n"
     ]
    },
    {
     "name": "stderr",
     "output_type": "stream",
     "text": [
      "INFO:EngineBuilder:Calibrating image 1608 / 5000\n",
      "Calibrating image 1608 / 5000\n",
      "Calibrating image 1608 / 5000\n",
      "INFO:EngineBuilder:Calibrating image 1616 / 5000\n",
      "Calibrating image 1616 / 5000\n",
      "Calibrating image 1616 / 5000\n",
      "INFO:EngineBuilder:Calibrating image 1624 / 5000\n",
      "Calibrating image 1624 / 5000\n",
      "Calibrating image 1624 / 5000\n",
      "INFO:EngineBuilder:Calibrating image 1632 / 5000\n",
      "Calibrating image 1632 / 5000\n",
      "Calibrating image 1632 / 5000\n"
     ]
    },
    {
     "name": "stdout",
     "output_type": "stream",
     "text": [
      "[08/23/2022-14:40:31] [TRT] [I]   Calibrated batch 200 in 0.0190903 seconds.\n",
      "[08/23/2022-14:40:31] [TRT] [I]   Calibrated batch 201 in 0.0188114 seconds.\n",
      "[08/23/2022-14:40:31] [TRT] [I]   Calibrated batch 202 in 0.0191972 seconds.\n",
      "[08/23/2022-14:40:31] [TRT] [I]   Calibrated batch 203 in 0.0197726 seconds.\n"
     ]
    },
    {
     "name": "stderr",
     "output_type": "stream",
     "text": [
      "INFO:EngineBuilder:Calibrating image 1640 / 5000\n",
      "Calibrating image 1640 / 5000\n",
      "Calibrating image 1640 / 5000\n",
      "INFO:EngineBuilder:Calibrating image 1648 / 5000\n",
      "Calibrating image 1648 / 5000\n",
      "Calibrating image 1648 / 5000\n",
      "INFO:EngineBuilder:Calibrating image 1656 / 5000\n",
      "Calibrating image 1656 / 5000\n",
      "Calibrating image 1656 / 5000\n",
      "INFO:EngineBuilder:Calibrating image 1664 / 5000\n",
      "Calibrating image 1664 / 5000\n",
      "Calibrating image 1664 / 5000\n"
     ]
    },
    {
     "name": "stdout",
     "output_type": "stream",
     "text": [
      "[08/23/2022-14:40:31] [TRT] [I]   Calibrated batch 204 in 0.0190424 seconds.\n",
      "[08/23/2022-14:40:31] [TRT] [I]   Calibrated batch 205 in 0.0190099 seconds.\n",
      "[08/23/2022-14:40:31] [TRT] [I]   Calibrated batch 206 in 0.0192056 seconds.\n",
      "[08/23/2022-14:40:31] [TRT] [I]   Calibrated batch 207 in 0.0191934 seconds.\n"
     ]
    },
    {
     "name": "stderr",
     "output_type": "stream",
     "text": [
      "INFO:EngineBuilder:Calibrating image 1672 / 5000\n",
      "Calibrating image 1672 / 5000\n",
      "Calibrating image 1672 / 5000\n",
      "INFO:EngineBuilder:Calibrating image 1680 / 5000\n",
      "Calibrating image 1680 / 5000\n",
      "Calibrating image 1680 / 5000\n",
      "INFO:EngineBuilder:Calibrating image 1688 / 5000\n",
      "Calibrating image 1688 / 5000\n",
      "Calibrating image 1688 / 5000\n",
      "INFO:EngineBuilder:Calibrating image 1696 / 5000\n",
      "Calibrating image 1696 / 5000\n",
      "Calibrating image 1696 / 5000\n"
     ]
    },
    {
     "name": "stdout",
     "output_type": "stream",
     "text": [
      "[08/23/2022-14:40:32] [TRT] [I]   Calibrated batch 208 in 0.0190296 seconds.\n",
      "[08/23/2022-14:40:32] [TRT] [I]   Calibrated batch 209 in 0.0188071 seconds.\n",
      "[08/23/2022-14:40:32] [TRT] [I]   Calibrated batch 210 in 0.0191393 seconds.\n",
      "[08/23/2022-14:40:32] [TRT] [I]   Calibrated batch 211 in 0.0228533 seconds.\n"
     ]
    },
    {
     "name": "stderr",
     "output_type": "stream",
     "text": [
      "INFO:EngineBuilder:Calibrating image 1704 / 5000\n",
      "Calibrating image 1704 / 5000\n",
      "Calibrating image 1704 / 5000\n",
      "INFO:EngineBuilder:Calibrating image 1712 / 5000\n",
      "Calibrating image 1712 / 5000\n",
      "Calibrating image 1712 / 5000\n",
      "INFO:EngineBuilder:Calibrating image 1720 / 5000\n",
      "Calibrating image 1720 / 5000\n",
      "Calibrating image 1720 / 5000\n",
      "INFO:EngineBuilder:Calibrating image 1728 / 5000\n",
      "Calibrating image 1728 / 5000\n",
      "Calibrating image 1728 / 5000\n"
     ]
    },
    {
     "name": "stdout",
     "output_type": "stream",
     "text": [
      "[08/23/2022-14:40:32] [TRT] [I]   Calibrated batch 212 in 0.0216096 seconds.\n",
      "[08/23/2022-14:40:32] [TRT] [I]   Calibrated batch 213 in 0.0216905 seconds.\n",
      "[08/23/2022-14:40:32] [TRT] [I]   Calibrated batch 214 in 0.0220844 seconds.\n",
      "[08/23/2022-14:40:32] [TRT] [I]   Calibrated batch 215 in 0.0213951 seconds.\n"
     ]
    },
    {
     "name": "stderr",
     "output_type": "stream",
     "text": [
      "INFO:EngineBuilder:Calibrating image 1736 / 5000\n",
      "Calibrating image 1736 / 5000\n",
      "Calibrating image 1736 / 5000\n",
      "INFO:EngineBuilder:Calibrating image 1744 / 5000\n",
      "Calibrating image 1744 / 5000\n",
      "Calibrating image 1744 / 5000\n",
      "INFO:EngineBuilder:Calibrating image 1752 / 5000\n",
      "Calibrating image 1752 / 5000\n",
      "Calibrating image 1752 / 5000\n",
      "INFO:EngineBuilder:Calibrating image 1760 / 5000\n",
      "Calibrating image 1760 / 5000\n",
      "Calibrating image 1760 / 5000\n"
     ]
    },
    {
     "name": "stdout",
     "output_type": "stream",
     "text": [
      "[08/23/2022-14:40:32] [TRT] [I]   Calibrated batch 216 in 0.0215079 seconds.\n",
      "[08/23/2022-14:40:32] [TRT] [I]   Calibrated batch 217 in 0.0219277 seconds.\n",
      "[08/23/2022-14:40:32] [TRT] [I]   Calibrated batch 218 in 0.0214171 seconds.\n",
      "[08/23/2022-14:40:32] [TRT] [I]   Calibrated batch 219 in 0.0214252 seconds.\n"
     ]
    },
    {
     "name": "stderr",
     "output_type": "stream",
     "text": [
      "INFO:EngineBuilder:Calibrating image 1768 / 5000\n",
      "Calibrating image 1768 / 5000\n",
      "Calibrating image 1768 / 5000\n",
      "INFO:EngineBuilder:Calibrating image 1776 / 5000\n",
      "Calibrating image 1776 / 5000\n",
      "Calibrating image 1776 / 5000\n",
      "INFO:EngineBuilder:Calibrating image 1784 / 5000\n",
      "Calibrating image 1784 / 5000\n",
      "Calibrating image 1784 / 5000\n",
      "INFO:EngineBuilder:Calibrating image 1792 / 5000\n",
      "Calibrating image 1792 / 5000\n",
      "Calibrating image 1792 / 5000\n"
     ]
    },
    {
     "name": "stdout",
     "output_type": "stream",
     "text": [
      "[08/23/2022-14:40:32] [TRT] [I]   Calibrated batch 220 in 0.0218835 seconds.\n",
      "[08/23/2022-14:40:32] [TRT] [I]   Calibrated batch 221 in 0.0216636 seconds.\n",
      "[08/23/2022-14:40:32] [TRT] [I]   Calibrated batch 222 in 0.0214007 seconds.\n",
      "[08/23/2022-14:40:33] [TRT] [I]   Calibrated batch 223 in 0.0221731 seconds.\n"
     ]
    },
    {
     "name": "stderr",
     "output_type": "stream",
     "text": [
      "INFO:EngineBuilder:Calibrating image 1800 / 5000\n",
      "Calibrating image 1800 / 5000\n",
      "Calibrating image 1800 / 5000\n",
      "INFO:EngineBuilder:Calibrating image 1808 / 5000\n",
      "Calibrating image 1808 / 5000\n",
      "Calibrating image 1808 / 5000\n",
      "INFO:EngineBuilder:Calibrating image 1816 / 5000\n",
      "Calibrating image 1816 / 5000\n",
      "Calibrating image 1816 / 5000\n",
      "INFO:EngineBuilder:Calibrating image 1824 / 5000\n",
      "Calibrating image 1824 / 5000\n",
      "Calibrating image 1824 / 5000\n"
     ]
    },
    {
     "name": "stdout",
     "output_type": "stream",
     "text": [
      "[08/23/2022-14:40:33] [TRT] [I]   Calibrated batch 224 in 0.0214351 seconds.\n",
      "[08/23/2022-14:40:33] [TRT] [I]   Calibrated batch 225 in 0.0214018 seconds.\n",
      "[08/23/2022-14:40:33] [TRT] [I]   Calibrated batch 226 in 0.021549 seconds.\n",
      "[08/23/2022-14:40:33] [TRT] [I]   Calibrated batch 227 in 0.0217059 seconds.\n"
     ]
    },
    {
     "name": "stderr",
     "output_type": "stream",
     "text": [
      "INFO:EngineBuilder:Calibrating image 1832 / 5000\n",
      "Calibrating image 1832 / 5000\n",
      "Calibrating image 1832 / 5000\n",
      "INFO:EngineBuilder:Calibrating image 1840 / 5000\n",
      "Calibrating image 1840 / 5000\n",
      "Calibrating image 1840 / 5000\n",
      "INFO:EngineBuilder:Calibrating image 1848 / 5000\n",
      "Calibrating image 1848 / 5000\n",
      "Calibrating image 1848 / 5000\n",
      "INFO:EngineBuilder:Calibrating image 1856 / 5000\n",
      "Calibrating image 1856 / 5000\n",
      "Calibrating image 1856 / 5000\n"
     ]
    },
    {
     "name": "stdout",
     "output_type": "stream",
     "text": [
      "[08/23/2022-14:40:33] [TRT] [I]   Calibrated batch 228 in 0.0221446 seconds.\n",
      "[08/23/2022-14:40:33] [TRT] [I]   Calibrated batch 229 in 0.0214908 seconds.\n",
      "[08/23/2022-14:40:33] [TRT] [I]   Calibrated batch 230 in 0.0214848 seconds.\n",
      "[08/23/2022-14:40:33] [TRT] [I]   Calibrated batch 231 in 0.0224494 seconds.\n"
     ]
    },
    {
     "name": "stderr",
     "output_type": "stream",
     "text": [
      "INFO:EngineBuilder:Calibrating image 1864 / 5000\n",
      "Calibrating image 1864 / 5000\n",
      "Calibrating image 1864 / 5000\n",
      "INFO:EngineBuilder:Calibrating image 1872 / 5000\n",
      "Calibrating image 1872 / 5000\n",
      "Calibrating image 1872 / 5000\n",
      "INFO:EngineBuilder:Calibrating image 1880 / 5000\n",
      "Calibrating image 1880 / 5000\n",
      "Calibrating image 1880 / 5000\n",
      "INFO:EngineBuilder:Calibrating image 1888 / 5000\n",
      "Calibrating image 1888 / 5000\n",
      "Calibrating image 1888 / 5000\n"
     ]
    },
    {
     "name": "stdout",
     "output_type": "stream",
     "text": [
      "[08/23/2022-14:40:33] [TRT] [I]   Calibrated batch 232 in 0.0213519 seconds.\n",
      "[08/23/2022-14:40:33] [TRT] [I]   Calibrated batch 233 in 0.0213805 seconds.\n",
      "[08/23/2022-14:40:33] [TRT] [I]   Calibrated batch 234 in 0.0224756 seconds.\n",
      "[08/23/2022-14:40:33] [TRT] [I]   Calibrated batch 235 in 0.0215721 seconds.\n"
     ]
    },
    {
     "name": "stderr",
     "output_type": "stream",
     "text": [
      "INFO:EngineBuilder:Calibrating image 1896 / 5000\n",
      "Calibrating image 1896 / 5000\n",
      "Calibrating image 1896 / 5000\n",
      "INFO:EngineBuilder:Calibrating image 1904 / 5000\n",
      "Calibrating image 1904 / 5000\n",
      "Calibrating image 1904 / 5000\n",
      "INFO:EngineBuilder:Calibrating image 1912 / 5000\n",
      "Calibrating image 1912 / 5000\n",
      "Calibrating image 1912 / 5000\n",
      "INFO:EngineBuilder:Calibrating image 1920 / 5000\n",
      "Calibrating image 1920 / 5000\n",
      "Calibrating image 1920 / 5000\n"
     ]
    },
    {
     "name": "stdout",
     "output_type": "stream",
     "text": [
      "[08/23/2022-14:40:33] [TRT] [I]   Calibrated batch 236 in 0.0214502 seconds.\n",
      "[08/23/2022-14:40:33] [TRT] [I]   Calibrated batch 237 in 0.0220962 seconds.\n",
      "[08/23/2022-14:40:33] [TRT] [I]   Calibrated batch 238 in 0.0213592 seconds.\n",
      "[08/23/2022-14:40:34] [TRT] [I]   Calibrated batch 239 in 0.0214775 seconds.\n"
     ]
    },
    {
     "name": "stderr",
     "output_type": "stream",
     "text": [
      "INFO:EngineBuilder:Calibrating image 1928 / 5000\n",
      "Calibrating image 1928 / 5000\n",
      "Calibrating image 1928 / 5000\n",
      "INFO:EngineBuilder:Calibrating image 1936 / 5000\n",
      "Calibrating image 1936 / 5000\n",
      "Calibrating image 1936 / 5000\n",
      "INFO:EngineBuilder:Calibrating image 1944 / 5000\n",
      "Calibrating image 1944 / 5000\n",
      "Calibrating image 1944 / 5000\n",
      "INFO:EngineBuilder:Calibrating image 1952 / 5000\n",
      "Calibrating image 1952 / 5000\n",
      "Calibrating image 1952 / 5000\n"
     ]
    },
    {
     "name": "stdout",
     "output_type": "stream",
     "text": [
      "[08/23/2022-14:40:34] [TRT] [I]   Calibrated batch 240 in 0.0223281 seconds.\n",
      "[08/23/2022-14:40:34] [TRT] [I]   Calibrated batch 241 in 0.0212848 seconds.\n",
      "[08/23/2022-14:40:34] [TRT] [I]   Calibrated batch 242 in 0.021459 seconds.\n",
      "[08/23/2022-14:40:34] [TRT] [I]   Calibrated batch 243 in 0.0218673 seconds.\n"
     ]
    },
    {
     "name": "stderr",
     "output_type": "stream",
     "text": [
      "INFO:EngineBuilder:Calibrating image 1960 / 5000\n",
      "Calibrating image 1960 / 5000\n",
      "Calibrating image 1960 / 5000\n",
      "INFO:EngineBuilder:Calibrating image 1968 / 5000\n",
      "Calibrating image 1968 / 5000\n",
      "Calibrating image 1968 / 5000\n",
      "INFO:EngineBuilder:Calibrating image 1976 / 5000\n",
      "Calibrating image 1976 / 5000\n",
      "Calibrating image 1976 / 5000\n",
      "INFO:EngineBuilder:Calibrating image 1984 / 5000\n",
      "Calibrating image 1984 / 5000\n",
      "Calibrating image 1984 / 5000\n"
     ]
    },
    {
     "name": "stdout",
     "output_type": "stream",
     "text": [
      "[08/23/2022-14:40:34] [TRT] [I]   Calibrated batch 244 in 0.0215751 seconds.\n",
      "[08/23/2022-14:40:34] [TRT] [I]   Calibrated batch 245 in 0.0216052 seconds.\n",
      "[08/23/2022-14:40:34] [TRT] [I]   Calibrated batch 246 in 0.021318 seconds.\n",
      "[08/23/2022-14:40:34] [TRT] [I]   Calibrated batch 247 in 0.0215156 seconds.\n"
     ]
    },
    {
     "name": "stderr",
     "output_type": "stream",
     "text": [
      "INFO:EngineBuilder:Calibrating image 1992 / 5000\n",
      "Calibrating image 1992 / 5000\n",
      "Calibrating image 1992 / 5000\n",
      "INFO:EngineBuilder:Calibrating image 2000 / 5000\n",
      "Calibrating image 2000 / 5000\n",
      "Calibrating image 2000 / 5000\n",
      "INFO:EngineBuilder:Calibrating image 2008 / 5000\n",
      "Calibrating image 2008 / 5000\n",
      "Calibrating image 2008 / 5000\n",
      "INFO:EngineBuilder:Calibrating image 2016 / 5000\n",
      "Calibrating image 2016 / 5000\n",
      "Calibrating image 2016 / 5000\n"
     ]
    },
    {
     "name": "stdout",
     "output_type": "stream",
     "text": [
      "[08/23/2022-14:40:34] [TRT] [I]   Calibrated batch 248 in 0.021611 seconds.\n",
      "[08/23/2022-14:40:34] [TRT] [I]   Calibrated batch 249 in 0.0212581 seconds.\n",
      "[08/23/2022-14:40:34] [TRT] [I]   Calibrated batch 250 in 0.021514 seconds.\n",
      "[08/23/2022-14:40:34] [TRT] [I]   Calibrated batch 251 in 0.0221382 seconds.\n"
     ]
    },
    {
     "name": "stderr",
     "output_type": "stream",
     "text": [
      "INFO:EngineBuilder:Calibrating image 2024 / 5000\n",
      "Calibrating image 2024 / 5000\n",
      "Calibrating image 2024 / 5000\n",
      "INFO:EngineBuilder:Calibrating image 2032 / 5000\n",
      "Calibrating image 2032 / 5000\n",
      "Calibrating image 2032 / 5000\n",
      "INFO:EngineBuilder:Calibrating image 2040 / 5000\n",
      "Calibrating image 2040 / 5000\n",
      "Calibrating image 2040 / 5000\n",
      "INFO:EngineBuilder:Calibrating image 2048 / 5000\n",
      "Calibrating image 2048 / 5000\n",
      "Calibrating image 2048 / 5000\n"
     ]
    },
    {
     "name": "stdout",
     "output_type": "stream",
     "text": [
      "[08/23/2022-14:40:34] [TRT] [I]   Calibrated batch 252 in 0.0216023 seconds.\n",
      "[08/23/2022-14:40:34] [TRT] [I]   Calibrated batch 253 in 0.0215266 seconds.\n",
      "[08/23/2022-14:40:35] [TRT] [I]   Calibrated batch 254 in 0.0222628 seconds.\n"
     ]
    },
    {
     "name": "stderr",
     "output_type": "stream",
     "text": [
      "INFO:EngineBuilder:Calibrating image 2056 / 5000\n",
      "Calibrating image 2056 / 5000\n",
      "Calibrating image 2056 / 5000\n",
      "INFO:EngineBuilder:Calibrating image 2064 / 5000\n",
      "Calibrating image 2064 / 5000\n",
      "Calibrating image 2064 / 5000\n",
      "INFO:EngineBuilder:Calibrating image 2072 / 5000\n",
      "Calibrating image 2072 / 5000\n",
      "Calibrating image 2072 / 5000\n"
     ]
    },
    {
     "name": "stdout",
     "output_type": "stream",
     "text": [
      "[08/23/2022-14:40:35] [TRT] [I]   Calibrated batch 255 in 0.0215103 seconds.\n",
      "[08/23/2022-14:40:35] [TRT] [I]   Calibrated batch 256 in 0.0215578 seconds.\n",
      "[08/23/2022-14:40:35] [TRT] [I]   Calibrated batch 257 in 0.0223848 seconds.\n",
      "[08/23/2022-14:40:35] [TRT] [I]   Calibrated batch 258 in 0.0216487 seconds.\n"
     ]
    },
    {
     "name": "stderr",
     "output_type": "stream",
     "text": [
      "INFO:EngineBuilder:Calibrating image 2080 / 5000\n",
      "Calibrating image 2080 / 5000\n",
      "Calibrating image 2080 / 5000\n",
      "INFO:EngineBuilder:Calibrating image 2088 / 5000\n",
      "Calibrating image 2088 / 5000\n",
      "Calibrating image 2088 / 5000\n",
      "INFO:EngineBuilder:Calibrating image 2096 / 5000\n",
      "Calibrating image 2096 / 5000\n",
      "Calibrating image 2096 / 5000\n",
      "INFO:EngineBuilder:Calibrating image 2104 / 5000\n",
      "Calibrating image 2104 / 5000\n",
      "Calibrating image 2104 / 5000\n"
     ]
    },
    {
     "name": "stdout",
     "output_type": "stream",
     "text": [
      "[08/23/2022-14:40:35] [TRT] [I]   Calibrated batch 259 in 0.0214455 seconds.\n",
      "[08/23/2022-14:40:35] [TRT] [I]   Calibrated batch 260 in 0.0222081 seconds.\n",
      "[08/23/2022-14:40:35] [TRT] [I]   Calibrated batch 261 in 0.0215324 seconds.\n",
      "[08/23/2022-14:40:35] [TRT] [I]   Calibrated batch 262 in 0.0216464 seconds.\n"
     ]
    },
    {
     "name": "stderr",
     "output_type": "stream",
     "text": [
      "INFO:EngineBuilder:Calibrating image 2112 / 5000\n",
      "Calibrating image 2112 / 5000\n",
      "Calibrating image 2112 / 5000\n",
      "INFO:EngineBuilder:Calibrating image 2120 / 5000\n",
      "Calibrating image 2120 / 5000\n",
      "Calibrating image 2120 / 5000\n",
      "INFO:EngineBuilder:Calibrating image 2128 / 5000\n",
      "Calibrating image 2128 / 5000\n",
      "Calibrating image 2128 / 5000\n",
      "INFO:EngineBuilder:Calibrating image 2136 / 5000\n",
      "Calibrating image 2136 / 5000\n",
      "Calibrating image 2136 / 5000\n"
     ]
    },
    {
     "name": "stdout",
     "output_type": "stream",
     "text": [
      "[08/23/2022-14:40:35] [TRT] [I]   Calibrated batch 263 in 0.0222134 seconds.\n",
      "[08/23/2022-14:40:35] [TRT] [I]   Calibrated batch 264 in 0.0215607 seconds.\n",
      "[08/23/2022-14:40:35] [TRT] [I]   Calibrated batch 265 in 0.0214545 seconds.\n",
      "[08/23/2022-14:40:35] [TRT] [I]   Calibrated batch 266 in 0.0214929 seconds.\n"
     ]
    },
    {
     "name": "stderr",
     "output_type": "stream",
     "text": [
      "INFO:EngineBuilder:Calibrating image 2144 / 5000\n",
      "Calibrating image 2144 / 5000\n",
      "Calibrating image 2144 / 5000\n",
      "INFO:EngineBuilder:Calibrating image 2152 / 5000\n",
      "Calibrating image 2152 / 5000\n",
      "Calibrating image 2152 / 5000\n",
      "INFO:EngineBuilder:Calibrating image 2160 / 5000\n",
      "Calibrating image 2160 / 5000\n",
      "Calibrating image 2160 / 5000\n",
      "INFO:EngineBuilder:Calibrating image 2168 / 5000\n",
      "Calibrating image 2168 / 5000\n",
      "Calibrating image 2168 / 5000\n"
     ]
    },
    {
     "name": "stdout",
     "output_type": "stream",
     "text": [
      "[08/23/2022-14:40:35] [TRT] [I]   Calibrated batch 267 in 0.0212991 seconds.\n",
      "[08/23/2022-14:40:35] [TRT] [I]   Calibrated batch 268 in 0.0213477 seconds.\n",
      "[08/23/2022-14:40:35] [TRT] [I]   Calibrated batch 269 in 0.0216969 seconds.\n",
      "[08/23/2022-14:40:36] [TRT] [I]   Calibrated batch 270 in 0.0215977 seconds.\n"
     ]
    },
    {
     "name": "stderr",
     "output_type": "stream",
     "text": [
      "INFO:EngineBuilder:Calibrating image 2176 / 5000\n",
      "Calibrating image 2176 / 5000\n",
      "Calibrating image 2176 / 5000\n",
      "INFO:EngineBuilder:Calibrating image 2184 / 5000\n",
      "Calibrating image 2184 / 5000\n",
      "Calibrating image 2184 / 5000\n",
      "INFO:EngineBuilder:Calibrating image 2192 / 5000\n",
      "Calibrating image 2192 / 5000\n",
      "Calibrating image 2192 / 5000\n",
      "INFO:EngineBuilder:Calibrating image 2200 / 5000\n",
      "Calibrating image 2200 / 5000\n",
      "Calibrating image 2200 / 5000\n"
     ]
    },
    {
     "name": "stdout",
     "output_type": "stream",
     "text": [
      "[08/23/2022-14:40:36] [TRT] [I]   Calibrated batch 271 in 0.0224941 seconds.\n",
      "[08/23/2022-14:40:36] [TRT] [I]   Calibrated batch 272 in 0.0214781 seconds.\n",
      "[08/23/2022-14:40:36] [TRT] [I]   Calibrated batch 273 in 0.0213769 seconds.\n",
      "[08/23/2022-14:40:36] [TRT] [I]   Calibrated batch 274 in 0.0228142 seconds.\n"
     ]
    },
    {
     "name": "stderr",
     "output_type": "stream",
     "text": [
      "INFO:EngineBuilder:Calibrating image 2208 / 5000\n",
      "Calibrating image 2208 / 5000\n",
      "Calibrating image 2208 / 5000\n",
      "INFO:EngineBuilder:Calibrating image 2216 / 5000\n",
      "Calibrating image 2216 / 5000\n",
      "Calibrating image 2216 / 5000\n",
      "INFO:EngineBuilder:Calibrating image 2224 / 5000\n",
      "Calibrating image 2224 / 5000\n",
      "Calibrating image 2224 / 5000\n",
      "INFO:EngineBuilder:Calibrating image 2232 / 5000\n",
      "Calibrating image 2232 / 5000\n",
      "Calibrating image 2232 / 5000\n"
     ]
    },
    {
     "name": "stdout",
     "output_type": "stream",
     "text": [
      "[08/23/2022-14:40:36] [TRT] [I]   Calibrated batch 275 in 0.021467 seconds.\n",
      "[08/23/2022-14:40:36] [TRT] [I]   Calibrated batch 276 in 0.0214699 seconds.\n",
      "[08/23/2022-14:40:36] [TRT] [I]   Calibrated batch 277 in 0.0223816 seconds.\n",
      "[08/23/2022-14:40:36] [TRT] [I]   Calibrated batch 278 in 0.0214415 seconds.\n"
     ]
    },
    {
     "name": "stderr",
     "output_type": "stream",
     "text": [
      "INFO:EngineBuilder:Calibrating image 2240 / 5000\n",
      "Calibrating image 2240 / 5000\n",
      "Calibrating image 2240 / 5000\n",
      "INFO:EngineBuilder:Calibrating image 2248 / 5000\n",
      "Calibrating image 2248 / 5000\n",
      "Calibrating image 2248 / 5000\n",
      "INFO:EngineBuilder:Calibrating image 2256 / 5000\n",
      "Calibrating image 2256 / 5000\n",
      "Calibrating image 2256 / 5000\n",
      "INFO:EngineBuilder:Calibrating image 2264 / 5000\n",
      "Calibrating image 2264 / 5000\n",
      "Calibrating image 2264 / 5000\n"
     ]
    },
    {
     "name": "stdout",
     "output_type": "stream",
     "text": [
      "[08/23/2022-14:40:36] [TRT] [I]   Calibrated batch 279 in 0.0215644 seconds.\n",
      "[08/23/2022-14:40:36] [TRT] [I]   Calibrated batch 280 in 0.0214067 seconds.\n",
      "[08/23/2022-14:40:36] [TRT] [I]   Calibrated batch 281 in 0.0213928 seconds.\n",
      "[08/23/2022-14:40:36] [TRT] [I]   Calibrated batch 282 in 0.0215771 seconds.\n"
     ]
    },
    {
     "name": "stderr",
     "output_type": "stream",
     "text": [
      "INFO:EngineBuilder:Calibrating image 2272 / 5000\n",
      "Calibrating image 2272 / 5000\n",
      "Calibrating image 2272 / 5000\n",
      "INFO:EngineBuilder:Calibrating image 2280 / 5000\n",
      "Calibrating image 2280 / 5000\n",
      "Calibrating image 2280 / 5000\n",
      "INFO:EngineBuilder:Calibrating image 2288 / 5000\n",
      "Calibrating image 2288 / 5000\n",
      "Calibrating image 2288 / 5000\n",
      "INFO:EngineBuilder:Calibrating image 2296 / 5000\n",
      "Calibrating image 2296 / 5000\n",
      "Calibrating image 2296 / 5000\n"
     ]
    },
    {
     "name": "stdout",
     "output_type": "stream",
     "text": [
      "[08/23/2022-14:40:36] [TRT] [I]   Calibrated batch 283 in 0.0217455 seconds.\n",
      "[08/23/2022-14:40:36] [TRT] [I]   Calibrated batch 284 in 0.0213382 seconds.\n",
      "[08/23/2022-14:40:37] [TRT] [I]   Calibrated batch 285 in 0.0224736 seconds.\n",
      "[08/23/2022-14:40:37] [TRT] [I]   Calibrated batch 286 in 0.0215583 seconds.\n"
     ]
    },
    {
     "name": "stderr",
     "output_type": "stream",
     "text": [
      "INFO:EngineBuilder:Calibrating image 2304 / 5000\n",
      "Calibrating image 2304 / 5000\n",
      "Calibrating image 2304 / 5000\n",
      "INFO:EngineBuilder:Calibrating image 2312 / 5000\n",
      "Calibrating image 2312 / 5000\n",
      "Calibrating image 2312 / 5000\n",
      "INFO:EngineBuilder:Calibrating image 2320 / 5000\n",
      "Calibrating image 2320 / 5000\n",
      "Calibrating image 2320 / 5000\n",
      "INFO:EngineBuilder:Calibrating image 2328 / 5000\n",
      "Calibrating image 2328 / 5000\n",
      "Calibrating image 2328 / 5000\n"
     ]
    },
    {
     "name": "stdout",
     "output_type": "stream",
     "text": [
      "[08/23/2022-14:40:37] [TRT] [I]   Calibrated batch 287 in 0.0215149 seconds.\n",
      "[08/23/2022-14:40:37] [TRT] [I]   Calibrated batch 288 in 0.0214155 seconds.\n",
      "[08/23/2022-14:40:37] [TRT] [I]   Calibrated batch 289 in 0.0214762 seconds.\n",
      "[08/23/2022-14:40:37] [TRT] [I]   Calibrated batch 290 in 0.0214633 seconds.\n"
     ]
    },
    {
     "name": "stderr",
     "output_type": "stream",
     "text": [
      "INFO:EngineBuilder:Calibrating image 2336 / 5000\n",
      "Calibrating image 2336 / 5000\n",
      "Calibrating image 2336 / 5000\n",
      "INFO:EngineBuilder:Calibrating image 2344 / 5000\n",
      "Calibrating image 2344 / 5000\n",
      "Calibrating image 2344 / 5000\n",
      "INFO:EngineBuilder:Calibrating image 2352 / 5000\n",
      "Calibrating image 2352 / 5000\n",
      "Calibrating image 2352 / 5000\n",
      "INFO:EngineBuilder:Calibrating image 2360 / 5000\n",
      "Calibrating image 2360 / 5000\n",
      "Calibrating image 2360 / 5000\n"
     ]
    },
    {
     "name": "stdout",
     "output_type": "stream",
     "text": [
      "[08/23/2022-14:40:37] [TRT] [I]   Calibrated batch 291 in 0.0223937 seconds.\n",
      "[08/23/2022-14:40:37] [TRT] [I]   Calibrated batch 292 in 0.0213563 seconds.\n",
      "[08/23/2022-14:40:37] [TRT] [I]   Calibrated batch 293 in 0.0216919 seconds.\n",
      "[08/23/2022-14:40:37] [TRT] [I]   Calibrated batch 294 in 0.0223465 seconds.\n"
     ]
    },
    {
     "name": "stderr",
     "output_type": "stream",
     "text": [
      "INFO:EngineBuilder:Calibrating image 2368 / 5000\n",
      "Calibrating image 2368 / 5000\n",
      "Calibrating image 2368 / 5000\n",
      "INFO:EngineBuilder:Calibrating image 2376 / 5000\n",
      "Calibrating image 2376 / 5000\n",
      "Calibrating image 2376 / 5000\n",
      "INFO:EngineBuilder:Calibrating image 2384 / 5000\n",
      "Calibrating image 2384 / 5000\n",
      "Calibrating image 2384 / 5000\n",
      "INFO:EngineBuilder:Calibrating image 2392 / 5000\n",
      "Calibrating image 2392 / 5000\n",
      "Calibrating image 2392 / 5000\n"
     ]
    },
    {
     "name": "stdout",
     "output_type": "stream",
     "text": [
      "[08/23/2022-14:40:37] [TRT] [I]   Calibrated batch 295 in 0.0218283 seconds.\n",
      "[08/23/2022-14:40:37] [TRT] [I]   Calibrated batch 296 in 0.0215482 seconds.\n",
      "[08/23/2022-14:40:37] [TRT] [I]   Calibrated batch 297 in 0.0222488 seconds.\n"
     ]
    },
    {
     "name": "stderr",
     "output_type": "stream",
     "text": [
      "INFO:EngineBuilder:Calibrating image 2400 / 5000\n",
      "Calibrating image 2400 / 5000\n",
      "Calibrating image 2400 / 5000\n",
      "INFO:EngineBuilder:Calibrating image 2408 / 5000\n",
      "Calibrating image 2408 / 5000\n",
      "Calibrating image 2408 / 5000\n",
      "INFO:EngineBuilder:Calibrating image 2416 / 5000\n",
      "Calibrating image 2416 / 5000\n",
      "Calibrating image 2416 / 5000\n"
     ]
    },
    {
     "name": "stdout",
     "output_type": "stream",
     "text": [
      "[08/23/2022-14:40:37] [TRT] [I]   Calibrated batch 298 in 0.0214546 seconds.\n",
      "[08/23/2022-14:40:37] [TRT] [I]   Calibrated batch 299 in 0.0215212 seconds.\n",
      "[08/23/2022-14:40:37] [TRT] [I]   Calibrated batch 300 in 0.0221104 seconds.\n",
      "[08/23/2022-14:40:38] [TRT] [I]   Calibrated batch 301 in 0.0215087 seconds.\n"
     ]
    },
    {
     "name": "stderr",
     "output_type": "stream",
     "text": [
      "INFO:EngineBuilder:Calibrating image 2424 / 5000\n",
      "Calibrating image 2424 / 5000\n",
      "Calibrating image 2424 / 5000\n",
      "INFO:EngineBuilder:Calibrating image 2432 / 5000\n",
      "Calibrating image 2432 / 5000\n",
      "Calibrating image 2432 / 5000\n",
      "INFO:EngineBuilder:Calibrating image 2440 / 5000\n",
      "Calibrating image 2440 / 5000\n",
      "Calibrating image 2440 / 5000\n",
      "INFO:EngineBuilder:Calibrating image 2448 / 5000\n",
      "Calibrating image 2448 / 5000\n",
      "Calibrating image 2448 / 5000\n"
     ]
    },
    {
     "name": "stdout",
     "output_type": "stream",
     "text": [
      "[08/23/2022-14:40:38] [TRT] [I]   Calibrated batch 302 in 0.0213692 seconds.\n",
      "[08/23/2022-14:40:38] [TRT] [I]   Calibrated batch 303 in 0.0216865 seconds.\n",
      "[08/23/2022-14:40:38] [TRT] [I]   Calibrated batch 304 in 0.0215308 seconds.\n",
      "[08/23/2022-14:40:38] [TRT] [I]   Calibrated batch 305 in 0.0215478 seconds.\n"
     ]
    },
    {
     "name": "stderr",
     "output_type": "stream",
     "text": [
      "INFO:EngineBuilder:Calibrating image 2456 / 5000\n",
      "Calibrating image 2456 / 5000\n",
      "Calibrating image 2456 / 5000\n",
      "INFO:EngineBuilder:Calibrating image 2464 / 5000\n",
      "Calibrating image 2464 / 5000\n",
      "Calibrating image 2464 / 5000\n",
      "INFO:EngineBuilder:Calibrating image 2472 / 5000\n",
      "Calibrating image 2472 / 5000\n",
      "Calibrating image 2472 / 5000\n",
      "INFO:EngineBuilder:Calibrating image 2480 / 5000\n",
      "Calibrating image 2480 / 5000\n",
      "Calibrating image 2480 / 5000\n"
     ]
    },
    {
     "name": "stdout",
     "output_type": "stream",
     "text": [
      "[08/23/2022-14:40:38] [TRT] [I]   Calibrated batch 306 in 0.0214483 seconds.\n",
      "[08/23/2022-14:40:38] [TRT] [I]   Calibrated batch 307 in 0.0215361 seconds.\n",
      "[08/23/2022-14:40:38] [TRT] [I]   Calibrated batch 308 in 0.02143 seconds.\n",
      "[08/23/2022-14:40:38] [TRT] [I]   Calibrated batch 309 in 0.0214959 seconds.\n"
     ]
    },
    {
     "name": "stderr",
     "output_type": "stream",
     "text": [
      "INFO:EngineBuilder:Calibrating image 2488 / 5000\n",
      "Calibrating image 2488 / 5000\n",
      "Calibrating image 2488 / 5000\n",
      "INFO:EngineBuilder:Calibrating image 2496 / 5000\n",
      "Calibrating image 2496 / 5000\n",
      "Calibrating image 2496 / 5000\n",
      "INFO:EngineBuilder:Calibrating image 2504 / 5000\n",
      "Calibrating image 2504 / 5000\n",
      "Calibrating image 2504 / 5000\n",
      "INFO:EngineBuilder:Calibrating image 2512 / 5000\n",
      "Calibrating image 2512 / 5000\n",
      "Calibrating image 2512 / 5000\n"
     ]
    },
    {
     "name": "stdout",
     "output_type": "stream",
     "text": [
      "[08/23/2022-14:40:38] [TRT] [I]   Calibrated batch 310 in 0.0216283 seconds.\n",
      "[08/23/2022-14:40:38] [TRT] [I]   Calibrated batch 311 in 0.0213317 seconds.\n",
      "[08/23/2022-14:40:38] [TRT] [I]   Calibrated batch 312 in 0.0222344 seconds.\n",
      "[08/23/2022-14:40:38] [TRT] [I]   Calibrated batch 313 in 0.0218535 seconds.\n"
     ]
    },
    {
     "name": "stderr",
     "output_type": "stream",
     "text": [
      "INFO:EngineBuilder:Calibrating image 2520 / 5000\n",
      "Calibrating image 2520 / 5000\n",
      "Calibrating image 2520 / 5000\n",
      "INFO:EngineBuilder:Calibrating image 2528 / 5000\n",
      "Calibrating image 2528 / 5000\n",
      "Calibrating image 2528 / 5000\n",
      "INFO:EngineBuilder:Calibrating image 2536 / 5000\n",
      "Calibrating image 2536 / 5000\n",
      "Calibrating image 2536 / 5000\n",
      "INFO:EngineBuilder:Calibrating image 2544 / 5000\n",
      "Calibrating image 2544 / 5000\n",
      "Calibrating image 2544 / 5000\n"
     ]
    },
    {
     "name": "stdout",
     "output_type": "stream",
     "text": [
      "[08/23/2022-14:40:38] [TRT] [I]   Calibrated batch 314 in 0.0216415 seconds.\n",
      "[08/23/2022-14:40:38] [TRT] [I]   Calibrated batch 315 in 0.0216784 seconds.\n",
      "[08/23/2022-14:40:39] [TRT] [I]   Calibrated batch 316 in 0.0215928 seconds.\n",
      "[08/23/2022-14:40:39] [TRT] [I]   Calibrated batch 317 in 0.0216186 seconds.\n"
     ]
    },
    {
     "name": "stderr",
     "output_type": "stream",
     "text": [
      "INFO:EngineBuilder:Calibrating image 2552 / 5000\n",
      "Calibrating image 2552 / 5000\n",
      "Calibrating image 2552 / 5000\n",
      "INFO:EngineBuilder:Calibrating image 2560 / 5000\n",
      "Calibrating image 2560 / 5000\n",
      "Calibrating image 2560 / 5000\n",
      "INFO:EngineBuilder:Calibrating image 2568 / 5000\n",
      "Calibrating image 2568 / 5000\n",
      "Calibrating image 2568 / 5000\n",
      "INFO:EngineBuilder:Calibrating image 2576 / 5000\n",
      "Calibrating image 2576 / 5000\n",
      "Calibrating image 2576 / 5000\n"
     ]
    },
    {
     "name": "stdout",
     "output_type": "stream",
     "text": [
      "[08/23/2022-14:40:39] [TRT] [I]   Calibrated batch 318 in 0.0216964 seconds.\n",
      "[08/23/2022-14:40:39] [TRT] [I]   Calibrated batch 319 in 0.0214416 seconds.\n",
      "[08/23/2022-14:40:39] [TRT] [I]   Calibrated batch 320 in 0.02161 seconds.\n",
      "[08/23/2022-14:40:39] [TRT] [I]   Calibrated batch 321 in 0.0214997 seconds.\n"
     ]
    },
    {
     "name": "stderr",
     "output_type": "stream",
     "text": [
      "INFO:EngineBuilder:Calibrating image 2584 / 5000\n",
      "Calibrating image 2584 / 5000\n",
      "Calibrating image 2584 / 5000\n",
      "INFO:EngineBuilder:Calibrating image 2592 / 5000\n",
      "Calibrating image 2592 / 5000\n",
      "Calibrating image 2592 / 5000\n",
      "INFO:EngineBuilder:Calibrating image 2600 / 5000\n",
      "Calibrating image 2600 / 5000\n",
      "Calibrating image 2600 / 5000\n",
      "INFO:EngineBuilder:Calibrating image 2608 / 5000\n",
      "Calibrating image 2608 / 5000\n",
      "Calibrating image 2608 / 5000\n"
     ]
    },
    {
     "name": "stdout",
     "output_type": "stream",
     "text": [
      "[08/23/2022-14:40:39] [TRT] [I]   Calibrated batch 322 in 0.0215445 seconds.\n",
      "[08/23/2022-14:40:39] [TRT] [I]   Calibrated batch 323 in 0.021613 seconds.\n",
      "[08/23/2022-14:40:39] [TRT] [I]   Calibrated batch 324 in 0.0212377 seconds.\n",
      "[08/23/2022-14:40:39] [TRT] [I]   Calibrated batch 325 in 0.021795 seconds.\n"
     ]
    },
    {
     "name": "stderr",
     "output_type": "stream",
     "text": [
      "INFO:EngineBuilder:Calibrating image 2616 / 5000\n",
      "Calibrating image 2616 / 5000\n",
      "Calibrating image 2616 / 5000\n",
      "INFO:EngineBuilder:Calibrating image 2624 / 5000\n",
      "Calibrating image 2624 / 5000\n",
      "Calibrating image 2624 / 5000\n",
      "INFO:EngineBuilder:Calibrating image 2632 / 5000\n",
      "Calibrating image 2632 / 5000\n",
      "Calibrating image 2632 / 5000\n",
      "INFO:EngineBuilder:Calibrating image 2640 / 5000\n",
      "Calibrating image 2640 / 5000\n",
      "Calibrating image 2640 / 5000\n"
     ]
    },
    {
     "name": "stdout",
     "output_type": "stream",
     "text": [
      "[08/23/2022-14:40:39] [TRT] [I]   Calibrated batch 326 in 0.0226121 seconds.\n",
      "[08/23/2022-14:40:39] [TRT] [I]   Calibrated batch 327 in 0.0214305 seconds.\n",
      "[08/23/2022-14:40:39] [TRT] [I]   Calibrated batch 328 in 0.0216453 seconds.\n",
      "[08/23/2022-14:40:39] [TRT] [I]   Calibrated batch 329 in 0.0221961 seconds.\n"
     ]
    },
    {
     "name": "stderr",
     "output_type": "stream",
     "text": [
      "INFO:EngineBuilder:Calibrating image 2648 / 5000\n",
      "Calibrating image 2648 / 5000\n",
      "Calibrating image 2648 / 5000\n",
      "INFO:EngineBuilder:Calibrating image 2656 / 5000\n",
      "Calibrating image 2656 / 5000\n",
      "Calibrating image 2656 / 5000\n",
      "INFO:EngineBuilder:Calibrating image 2664 / 5000\n",
      "Calibrating image 2664 / 5000\n",
      "Calibrating image 2664 / 5000\n",
      "INFO:EngineBuilder:Calibrating image 2672 / 5000\n",
      "Calibrating image 2672 / 5000\n",
      "Calibrating image 2672 / 5000\n"
     ]
    },
    {
     "name": "stdout",
     "output_type": "stream",
     "text": [
      "[08/23/2022-14:40:39] [TRT] [I]   Calibrated batch 330 in 0.0214029 seconds.\n",
      "[08/23/2022-14:40:40] [TRT] [I]   Calibrated batch 331 in 0.0215537 seconds.\n",
      "[08/23/2022-14:40:40] [TRT] [I]   Calibrated batch 332 in 0.0222096 seconds.\n",
      "[08/23/2022-14:40:40] [TRT] [I]   Calibrated batch 333 in 0.0215203 seconds.\n"
     ]
    },
    {
     "name": "stderr",
     "output_type": "stream",
     "text": [
      "INFO:EngineBuilder:Calibrating image 2680 / 5000\n",
      "Calibrating image 2680 / 5000\n",
      "Calibrating image 2680 / 5000\n",
      "INFO:EngineBuilder:Calibrating image 2688 / 5000\n",
      "Calibrating image 2688 / 5000\n",
      "Calibrating image 2688 / 5000\n",
      "INFO:EngineBuilder:Calibrating image 2696 / 5000\n",
      "Calibrating image 2696 / 5000\n",
      "Calibrating image 2696 / 5000\n",
      "INFO:EngineBuilder:Calibrating image 2704 / 5000\n",
      "Calibrating image 2704 / 5000\n",
      "Calibrating image 2704 / 5000\n"
     ]
    },
    {
     "name": "stdout",
     "output_type": "stream",
     "text": [
      "[08/23/2022-14:40:40] [TRT] [I]   Calibrated batch 334 in 0.0215543 seconds.\n",
      "[08/23/2022-14:40:40] [TRT] [I]   Calibrated batch 335 in 0.0213831 seconds.\n",
      "[08/23/2022-14:40:40] [TRT] [I]   Calibrated batch 336 in 0.0215502 seconds.\n",
      "[08/23/2022-14:40:40] [TRT] [I]   Calibrated batch 337 in 0.0218277 seconds.\n"
     ]
    },
    {
     "name": "stderr",
     "output_type": "stream",
     "text": [
      "INFO:EngineBuilder:Calibrating image 2712 / 5000\n",
      "Calibrating image 2712 / 5000\n",
      "Calibrating image 2712 / 5000\n",
      "INFO:EngineBuilder:Calibrating image 2720 / 5000\n",
      "Calibrating image 2720 / 5000\n",
      "Calibrating image 2720 / 5000\n",
      "INFO:EngineBuilder:Calibrating image 2728 / 5000\n",
      "Calibrating image 2728 / 5000\n",
      "Calibrating image 2728 / 5000\n",
      "INFO:EngineBuilder:Calibrating image 2736 / 5000\n",
      "Calibrating image 2736 / 5000\n",
      "Calibrating image 2736 / 5000\n"
     ]
    },
    {
     "name": "stdout",
     "output_type": "stream",
     "text": [
      "[08/23/2022-14:40:40] [TRT] [I]   Calibrated batch 338 in 0.021472 seconds.\n",
      "[08/23/2022-14:40:40] [TRT] [I]   Calibrated batch 339 in 0.0215823 seconds.\n",
      "[08/23/2022-14:40:40] [TRT] [I]   Calibrated batch 340 in 0.0219771 seconds.\n",
      "[08/23/2022-14:40:40] [TRT] [I]   Calibrated batch 341 in 0.0214566 seconds.\n"
     ]
    },
    {
     "name": "stderr",
     "output_type": "stream",
     "text": [
      "INFO:EngineBuilder:Calibrating image 2744 / 5000\n",
      "Calibrating image 2744 / 5000\n",
      "Calibrating image 2744 / 5000\n",
      "INFO:EngineBuilder:Calibrating image 2752 / 5000\n",
      "Calibrating image 2752 / 5000\n",
      "Calibrating image 2752 / 5000\n",
      "INFO:EngineBuilder:Calibrating image 2760 / 5000\n",
      "Calibrating image 2760 / 5000\n",
      "Calibrating image 2760 / 5000\n",
      "INFO:EngineBuilder:Calibrating image 2768 / 5000\n",
      "Calibrating image 2768 / 5000\n",
      "Calibrating image 2768 / 5000\n"
     ]
    },
    {
     "name": "stdout",
     "output_type": "stream",
     "text": [
      "[08/23/2022-14:40:40] [TRT] [I]   Calibrated batch 342 in 0.0226035 seconds.\n",
      "[08/23/2022-14:40:40] [TRT] [I]   Calibrated batch 343 in 0.0225352 seconds.\n",
      "[08/23/2022-14:40:40] [TRT] [I]   Calibrated batch 344 in 0.0214985 seconds.\n",
      "[08/23/2022-14:40:40] [TRT] [I]   Calibrated batch 345 in 0.0219328 seconds.\n"
     ]
    },
    {
     "name": "stderr",
     "output_type": "stream",
     "text": [
      "INFO:EngineBuilder:Calibrating image 2776 / 5000\n",
      "Calibrating image 2776 / 5000\n",
      "Calibrating image 2776 / 5000\n",
      "INFO:EngineBuilder:Calibrating image 2784 / 5000\n",
      "Calibrating image 2784 / 5000\n",
      "Calibrating image 2784 / 5000\n",
      "INFO:EngineBuilder:Calibrating image 2792 / 5000\n",
      "Calibrating image 2792 / 5000\n",
      "Calibrating image 2792 / 5000\n",
      "INFO:EngineBuilder:Calibrating image 2800 / 5000\n",
      "Calibrating image 2800 / 5000\n",
      "Calibrating image 2800 / 5000\n"
     ]
    },
    {
     "name": "stdout",
     "output_type": "stream",
     "text": [
      "[08/23/2022-14:40:40] [TRT] [I]   Calibrated batch 346 in 0.0224071 seconds.\n",
      "[08/23/2022-14:40:41] [TRT] [I]   Calibrated batch 347 in 0.021716 seconds.\n",
      "[08/23/2022-14:40:41] [TRT] [I]   Calibrated batch 348 in 0.021623 seconds.\n"
     ]
    },
    {
     "name": "stderr",
     "output_type": "stream",
     "text": [
      "INFO:EngineBuilder:Calibrating image 2808 / 5000\n",
      "Calibrating image 2808 / 5000\n",
      "Calibrating image 2808 / 5000\n",
      "INFO:EngineBuilder:Calibrating image 2816 / 5000\n",
      "Calibrating image 2816 / 5000\n",
      "Calibrating image 2816 / 5000\n",
      "INFO:EngineBuilder:Calibrating image 2824 / 5000\n",
      "Calibrating image 2824 / 5000\n",
      "Calibrating image 2824 / 5000\n"
     ]
    },
    {
     "name": "stdout",
     "output_type": "stream",
     "text": [
      "[08/23/2022-14:40:41] [TRT] [I]   Calibrated batch 349 in 0.0218413 seconds.\n",
      "[08/23/2022-14:40:41] [TRT] [I]   Calibrated batch 350 in 0.0217198 seconds.\n",
      "[08/23/2022-14:40:41] [TRT] [I]   Calibrated batch 351 in 0.021637 seconds.\n",
      "[08/23/2022-14:40:41] [TRT] [I]   Calibrated batch 352 in 0.0225703 seconds.\n"
     ]
    },
    {
     "name": "stderr",
     "output_type": "stream",
     "text": [
      "INFO:EngineBuilder:Calibrating image 2832 / 5000\n",
      "Calibrating image 2832 / 5000\n",
      "Calibrating image 2832 / 5000\n",
      "INFO:EngineBuilder:Calibrating image 2840 / 5000\n",
      "Calibrating image 2840 / 5000\n",
      "Calibrating image 2840 / 5000\n",
      "INFO:EngineBuilder:Calibrating image 2848 / 5000\n",
      "Calibrating image 2848 / 5000\n",
      "Calibrating image 2848 / 5000\n",
      "INFO:EngineBuilder:Calibrating image 2856 / 5000\n",
      "Calibrating image 2856 / 5000\n",
      "Calibrating image 2856 / 5000\n"
     ]
    },
    {
     "name": "stdout",
     "output_type": "stream",
     "text": [
      "[08/23/2022-14:40:41] [TRT] [I]   Calibrated batch 353 in 0.0215263 seconds.\n",
      "[08/23/2022-14:40:41] [TRT] [I]   Calibrated batch 354 in 0.021536 seconds.\n",
      "[08/23/2022-14:40:41] [TRT] [I]   Calibrated batch 355 in 0.0223654 seconds.\n",
      "[08/23/2022-14:40:41] [TRT] [I]   Calibrated batch 356 in 0.0217033 seconds.\n"
     ]
    },
    {
     "name": "stderr",
     "output_type": "stream",
     "text": [
      "INFO:EngineBuilder:Calibrating image 2864 / 5000\n",
      "Calibrating image 2864 / 5000\n",
      "Calibrating image 2864 / 5000\n",
      "INFO:EngineBuilder:Calibrating image 2872 / 5000\n",
      "Calibrating image 2872 / 5000\n",
      "Calibrating image 2872 / 5000\n",
      "INFO:EngineBuilder:Calibrating image 2880 / 5000\n",
      "Calibrating image 2880 / 5000\n",
      "Calibrating image 2880 / 5000\n",
      "INFO:EngineBuilder:Calibrating image 2888 / 5000\n",
      "Calibrating image 2888 / 5000\n",
      "Calibrating image 2888 / 5000\n"
     ]
    },
    {
     "name": "stdout",
     "output_type": "stream",
     "text": [
      "[08/23/2022-14:40:41] [TRT] [I]   Calibrated batch 357 in 0.0215965 seconds.\n",
      "[08/23/2022-14:40:41] [TRT] [I]   Calibrated batch 358 in 0.022701 seconds.\n",
      "[08/23/2022-14:40:41] [TRT] [I]   Calibrated batch 359 in 0.0212993 seconds.\n",
      "[08/23/2022-14:40:41] [TRT] [I]   Calibrated batch 360 in 0.0214741 seconds.\n"
     ]
    },
    {
     "name": "stderr",
     "output_type": "stream",
     "text": [
      "INFO:EngineBuilder:Calibrating image 2896 / 5000\n",
      "Calibrating image 2896 / 5000\n",
      "Calibrating image 2896 / 5000\n",
      "INFO:EngineBuilder:Calibrating image 2904 / 5000\n",
      "Calibrating image 2904 / 5000\n",
      "Calibrating image 2904 / 5000\n",
      "INFO:EngineBuilder:Calibrating image 2912 / 5000\n",
      "Calibrating image 2912 / 5000\n",
      "Calibrating image 2912 / 5000\n",
      "INFO:EngineBuilder:Calibrating image 2920 / 5000\n",
      "Calibrating image 2920 / 5000\n",
      "Calibrating image 2920 / 5000\n"
     ]
    },
    {
     "name": "stdout",
     "output_type": "stream",
     "text": [
      "[08/23/2022-14:40:41] [TRT] [I]   Calibrated batch 361 in 0.0221509 seconds.\n",
      "[08/23/2022-14:40:42] [TRT] [I]   Calibrated batch 362 in 0.0215229 seconds.\n",
      "[08/23/2022-14:40:42] [TRT] [I]   Calibrated batch 363 in 0.0219554 seconds.\n"
     ]
    },
    {
     "name": "stderr",
     "output_type": "stream",
     "text": [
      "INFO:EngineBuilder:Calibrating image 2928 / 5000\n",
      "Calibrating image 2928 / 5000\n",
      "Calibrating image 2928 / 5000\n",
      "INFO:EngineBuilder:Calibrating image 2936 / 5000\n",
      "Calibrating image 2936 / 5000\n",
      "Calibrating image 2936 / 5000\n",
      "INFO:EngineBuilder:Calibrating image 2944 / 5000\n",
      "Calibrating image 2944 / 5000\n",
      "Calibrating image 2944 / 5000\n"
     ]
    },
    {
     "name": "stdout",
     "output_type": "stream",
     "text": [
      "[08/23/2022-14:40:42] [TRT] [I]   Calibrated batch 364 in 0.0222553 seconds.\n",
      "[08/23/2022-14:40:42] [TRT] [I]   Calibrated batch 365 in 0.021331 seconds.\n",
      "[08/23/2022-14:40:42] [TRT] [I]   Calibrated batch 366 in 0.0215888 seconds.\n",
      "[08/23/2022-14:40:42] [TRT] [I]   Calibrated batch 367 in 0.0217672 seconds.\n"
     ]
    },
    {
     "name": "stderr",
     "output_type": "stream",
     "text": [
      "INFO:EngineBuilder:Calibrating image 2952 / 5000\n",
      "Calibrating image 2952 / 5000\n",
      "Calibrating image 2952 / 5000\n",
      "INFO:EngineBuilder:Calibrating image 2960 / 5000\n",
      "Calibrating image 2960 / 5000\n",
      "Calibrating image 2960 / 5000\n",
      "INFO:EngineBuilder:Calibrating image 2968 / 5000\n",
      "Calibrating image 2968 / 5000\n",
      "Calibrating image 2968 / 5000\n",
      "INFO:EngineBuilder:Calibrating image 2976 / 5000\n",
      "Calibrating image 2976 / 5000\n",
      "Calibrating image 2976 / 5000\n"
     ]
    },
    {
     "name": "stdout",
     "output_type": "stream",
     "text": [
      "[08/23/2022-14:40:42] [TRT] [I]   Calibrated batch 368 in 0.0215459 seconds.\n",
      "[08/23/2022-14:40:42] [TRT] [I]   Calibrated batch 369 in 0.0215566 seconds.\n",
      "[08/23/2022-14:40:42] [TRT] [I]   Calibrated batch 370 in 0.0215124 seconds.\n",
      "[08/23/2022-14:40:42] [TRT] [I]   Calibrated batch 371 in 0.0215395 seconds.\n"
     ]
    },
    {
     "name": "stderr",
     "output_type": "stream",
     "text": [
      "INFO:EngineBuilder:Calibrating image 2984 / 5000\n",
      "Calibrating image 2984 / 5000\n",
      "Calibrating image 2984 / 5000\n",
      "INFO:EngineBuilder:Calibrating image 2992 / 5000\n",
      "Calibrating image 2992 / 5000\n",
      "Calibrating image 2992 / 5000\n",
      "INFO:EngineBuilder:Calibrating image 3000 / 5000\n",
      "Calibrating image 3000 / 5000\n",
      "Calibrating image 3000 / 5000\n",
      "INFO:EngineBuilder:Calibrating image 3008 / 5000\n",
      "Calibrating image 3008 / 5000\n",
      "Calibrating image 3008 / 5000\n"
     ]
    },
    {
     "name": "stdout",
     "output_type": "stream",
     "text": [
      "[08/23/2022-14:40:42] [TRT] [I]   Calibrated batch 372 in 0.0215468 seconds.\n",
      "[08/23/2022-14:40:42] [TRT] [I]   Calibrated batch 373 in 0.0215317 seconds.\n",
      "[08/23/2022-14:40:42] [TRT] [I]   Calibrated batch 374 in 0.0213686 seconds.\n",
      "[08/23/2022-14:40:42] [TRT] [I]   Calibrated batch 375 in 0.0223467 seconds.\n"
     ]
    },
    {
     "name": "stderr",
     "output_type": "stream",
     "text": [
      "INFO:EngineBuilder:Calibrating image 3016 / 5000\n",
      "Calibrating image 3016 / 5000\n",
      "Calibrating image 3016 / 5000\n",
      "INFO:EngineBuilder:Calibrating image 3024 / 5000\n",
      "Calibrating image 3024 / 5000\n",
      "Calibrating image 3024 / 5000\n",
      "INFO:EngineBuilder:Calibrating image 3032 / 5000\n",
      "Calibrating image 3032 / 5000\n",
      "Calibrating image 3032 / 5000\n",
      "INFO:EngineBuilder:Calibrating image 3040 / 5000\n",
      "Calibrating image 3040 / 5000\n",
      "Calibrating image 3040 / 5000\n"
     ]
    },
    {
     "name": "stdout",
     "output_type": "stream",
     "text": [
      "[08/23/2022-14:40:42] [TRT] [I]   Calibrated batch 376 in 0.0214485 seconds.\n",
      "[08/23/2022-14:40:42] [TRT] [I]   Calibrated batch 377 in 0.0214179 seconds.\n",
      "[08/23/2022-14:40:43] [TRT] [I]   Calibrated batch 378 in 0.0222436 seconds.\n",
      "[08/23/2022-14:40:43] [TRT] [I]   Calibrated batch 379 in 0.0214587 seconds.\n"
     ]
    },
    {
     "name": "stderr",
     "output_type": "stream",
     "text": [
      "INFO:EngineBuilder:Calibrating image 3048 / 5000\n",
      "Calibrating image 3048 / 5000\n",
      "Calibrating image 3048 / 5000\n",
      "INFO:EngineBuilder:Calibrating image 3056 / 5000\n",
      "Calibrating image 3056 / 5000\n",
      "Calibrating image 3056 / 5000\n",
      "INFO:EngineBuilder:Calibrating image 3064 / 5000\n",
      "Calibrating image 3064 / 5000\n",
      "Calibrating image 3064 / 5000\n",
      "INFO:EngineBuilder:Calibrating image 3072 / 5000\n",
      "Calibrating image 3072 / 5000\n",
      "Calibrating image 3072 / 5000\n"
     ]
    },
    {
     "name": "stdout",
     "output_type": "stream",
     "text": [
      "[08/23/2022-14:40:43] [TRT] [I]   Calibrated batch 380 in 0.0215935 seconds.\n",
      "[08/23/2022-14:40:43] [TRT] [I]   Calibrated batch 381 in 0.0222156 seconds.\n",
      "[08/23/2022-14:40:43] [TRT] [I]   Calibrated batch 382 in 0.0211847 seconds.\n",
      "[08/23/2022-14:40:43] [TRT] [I]   Calibrated batch 383 in 0.0215304 seconds.\n"
     ]
    },
    {
     "name": "stderr",
     "output_type": "stream",
     "text": [
      "INFO:EngineBuilder:Calibrating image 3080 / 5000\n",
      "Calibrating image 3080 / 5000\n",
      "Calibrating image 3080 / 5000\n",
      "INFO:EngineBuilder:Calibrating image 3088 / 5000\n",
      "Calibrating image 3088 / 5000\n",
      "Calibrating image 3088 / 5000\n",
      "INFO:EngineBuilder:Calibrating image 3096 / 5000\n",
      "Calibrating image 3096 / 5000\n",
      "Calibrating image 3096 / 5000\n",
      "INFO:EngineBuilder:Calibrating image 3104 / 5000\n",
      "Calibrating image 3104 / 5000\n",
      "Calibrating image 3104 / 5000\n"
     ]
    },
    {
     "name": "stdout",
     "output_type": "stream",
     "text": [
      "[08/23/2022-14:40:43] [TRT] [I]   Calibrated batch 384 in 0.0213186 seconds.\n",
      "[08/23/2022-14:40:43] [TRT] [I]   Calibrated batch 385 in 0.0215241 seconds.\n",
      "[08/23/2022-14:40:43] [TRT] [I]   Calibrated batch 386 in 0.0214403 seconds.\n",
      "[08/23/2022-14:40:43] [TRT] [I]   Calibrated batch 387 in 0.0215787 seconds.\n"
     ]
    },
    {
     "name": "stderr",
     "output_type": "stream",
     "text": [
      "INFO:EngineBuilder:Calibrating image 3112 / 5000\n",
      "Calibrating image 3112 / 5000\n",
      "Calibrating image 3112 / 5000\n",
      "INFO:EngineBuilder:Calibrating image 3120 / 5000\n",
      "Calibrating image 3120 / 5000\n",
      "Calibrating image 3120 / 5000\n",
      "INFO:EngineBuilder:Calibrating image 3128 / 5000\n",
      "Calibrating image 3128 / 5000\n",
      "Calibrating image 3128 / 5000\n",
      "INFO:EngineBuilder:Calibrating image 3136 / 5000\n",
      "Calibrating image 3136 / 5000\n",
      "Calibrating image 3136 / 5000\n"
     ]
    },
    {
     "name": "stdout",
     "output_type": "stream",
     "text": [
      "[08/23/2022-14:40:43] [TRT] [I]   Calibrated batch 388 in 0.0215391 seconds.\n",
      "[08/23/2022-14:40:43] [TRT] [I]   Calibrated batch 389 in 0.0214537 seconds.\n",
      "[08/23/2022-14:40:43] [TRT] [I]   Calibrated batch 390 in 0.0212822 seconds.\n",
      "[08/23/2022-14:40:43] [TRT] [I]   Calibrated batch 391 in 0.0214539 seconds.\n"
     ]
    },
    {
     "name": "stderr",
     "output_type": "stream",
     "text": [
      "INFO:EngineBuilder:Calibrating image 3144 / 5000\n",
      "Calibrating image 3144 / 5000\n",
      "Calibrating image 3144 / 5000\n",
      "INFO:EngineBuilder:Calibrating image 3152 / 5000\n",
      "Calibrating image 3152 / 5000\n",
      "Calibrating image 3152 / 5000\n",
      "INFO:EngineBuilder:Calibrating image 3160 / 5000\n",
      "Calibrating image 3160 / 5000\n",
      "Calibrating image 3160 / 5000\n",
      "INFO:EngineBuilder:Calibrating image 3168 / 5000\n",
      "Calibrating image 3168 / 5000\n",
      "Calibrating image 3168 / 5000\n"
     ]
    },
    {
     "name": "stdout",
     "output_type": "stream",
     "text": [
      "[08/23/2022-14:40:43] [TRT] [I]   Calibrated batch 392 in 0.0215791 seconds.\n",
      "[08/23/2022-14:40:44] [TRT] [I]   Calibrated batch 393 in 0.0213458 seconds.\n",
      "[08/23/2022-14:40:44] [TRT] [I]   Calibrated batch 394 in 0.0215961 seconds.\n",
      "[08/23/2022-14:40:44] [TRT] [I]   Calibrated batch 395 in 0.0223386 seconds.\n"
     ]
    },
    {
     "name": "stderr",
     "output_type": "stream",
     "text": [
      "INFO:EngineBuilder:Calibrating image 3176 / 5000\n",
      "Calibrating image 3176 / 5000\n",
      "Calibrating image 3176 / 5000\n",
      "INFO:EngineBuilder:Calibrating image 3184 / 5000\n",
      "Calibrating image 3184 / 5000\n",
      "Calibrating image 3184 / 5000\n",
      "INFO:EngineBuilder:Calibrating image 3192 / 5000\n",
      "Calibrating image 3192 / 5000\n",
      "Calibrating image 3192 / 5000\n",
      "INFO:EngineBuilder:Calibrating image 3200 / 5000\n",
      "Calibrating image 3200 / 5000\n",
      "Calibrating image 3200 / 5000\n"
     ]
    },
    {
     "name": "stdout",
     "output_type": "stream",
     "text": [
      "[08/23/2022-14:40:44] [TRT] [I]   Calibrated batch 396 in 0.0215155 seconds.\n",
      "[08/23/2022-14:40:44] [TRT] [I]   Calibrated batch 397 in 0.0215389 seconds.\n",
      "[08/23/2022-14:40:44] [TRT] [I]   Calibrated batch 398 in 0.0221779 seconds.\n",
      "[08/23/2022-14:40:44] [TRT] [I]   Calibrated batch 399 in 0.0218446 seconds.\n"
     ]
    },
    {
     "name": "stderr",
     "output_type": "stream",
     "text": [
      "INFO:EngineBuilder:Calibrating image 3208 / 5000\n",
      "Calibrating image 3208 / 5000\n",
      "Calibrating image 3208 / 5000\n",
      "INFO:EngineBuilder:Calibrating image 3216 / 5000\n",
      "Calibrating image 3216 / 5000\n",
      "Calibrating image 3216 / 5000\n",
      "INFO:EngineBuilder:Calibrating image 3224 / 5000\n",
      "Calibrating image 3224 / 5000\n",
      "Calibrating image 3224 / 5000\n",
      "INFO:EngineBuilder:Calibrating image 3232 / 5000\n",
      "Calibrating image 3232 / 5000\n",
      "Calibrating image 3232 / 5000\n"
     ]
    },
    {
     "name": "stdout",
     "output_type": "stream",
     "text": [
      "[08/23/2022-14:40:44] [TRT] [I]   Calibrated batch 400 in 0.0217541 seconds.\n",
      "[08/23/2022-14:40:44] [TRT] [I]   Calibrated batch 401 in 0.0222362 seconds.\n",
      "[08/23/2022-14:40:44] [TRT] [I]   Calibrated batch 402 in 0.0214375 seconds.\n",
      "[08/23/2022-14:40:44] [TRT] [I]   Calibrated batch 403 in 0.0215141 seconds.\n"
     ]
    },
    {
     "name": "stderr",
     "output_type": "stream",
     "text": [
      "INFO:EngineBuilder:Calibrating image 3240 / 5000\n",
      "Calibrating image 3240 / 5000\n",
      "Calibrating image 3240 / 5000\n",
      "INFO:EngineBuilder:Calibrating image 3248 / 5000\n",
      "Calibrating image 3248 / 5000\n",
      "Calibrating image 3248 / 5000\n",
      "INFO:EngineBuilder:Calibrating image 3256 / 5000\n",
      "Calibrating image 3256 / 5000\n",
      "Calibrating image 3256 / 5000\n",
      "INFO:EngineBuilder:Calibrating image 3264 / 5000\n",
      "Calibrating image 3264 / 5000\n",
      "Calibrating image 3264 / 5000\n"
     ]
    },
    {
     "name": "stdout",
     "output_type": "stream",
     "text": [
      "[08/23/2022-14:40:44] [TRT] [I]   Calibrated batch 404 in 0.0223524 seconds.\n",
      "[08/23/2022-14:40:44] [TRT] [I]   Calibrated batch 405 in 0.0215505 seconds.\n",
      "[08/23/2022-14:40:44] [TRT] [I]   Calibrated batch 406 in 0.0214977 seconds.\n",
      "[08/23/2022-14:40:44] [TRT] [I]   Calibrated batch 407 in 0.0217237 seconds.\n"
     ]
    },
    {
     "name": "stderr",
     "output_type": "stream",
     "text": [
      "INFO:EngineBuilder:Calibrating image 3272 / 5000\n",
      "Calibrating image 3272 / 5000\n",
      "Calibrating image 3272 / 5000\n",
      "INFO:EngineBuilder:Calibrating image 3280 / 5000\n",
      "Calibrating image 3280 / 5000\n",
      "Calibrating image 3280 / 5000\n",
      "INFO:EngineBuilder:Calibrating image 3288 / 5000\n",
      "Calibrating image 3288 / 5000\n",
      "Calibrating image 3288 / 5000\n",
      "INFO:EngineBuilder:Calibrating image 3296 / 5000\n",
      "Calibrating image 3296 / 5000\n",
      "Calibrating image 3296 / 5000\n"
     ]
    },
    {
     "name": "stdout",
     "output_type": "stream",
     "text": [
      "[08/23/2022-14:40:45] [TRT] [I]   Calibrated batch 408 in 0.0214783 seconds.\n",
      "[08/23/2022-14:40:45] [TRT] [I]   Calibrated batch 409 in 0.0214593 seconds.\n",
      "[08/23/2022-14:40:45] [TRT] [I]   Calibrated batch 410 in 0.0217435 seconds.\n",
      "[08/23/2022-14:40:45] [TRT] [I]   Calibrated batch 411 in 0.0215358 seconds.\n"
     ]
    },
    {
     "name": "stderr",
     "output_type": "stream",
     "text": [
      "INFO:EngineBuilder:Calibrating image 3304 / 5000\n",
      "Calibrating image 3304 / 5000\n",
      "Calibrating image 3304 / 5000\n",
      "INFO:EngineBuilder:Calibrating image 3312 / 5000\n",
      "Calibrating image 3312 / 5000\n",
      "Calibrating image 3312 / 5000\n",
      "INFO:EngineBuilder:Calibrating image 3320 / 5000\n",
      "Calibrating image 3320 / 5000\n",
      "Calibrating image 3320 / 5000\n",
      "INFO:EngineBuilder:Calibrating image 3328 / 5000\n",
      "Calibrating image 3328 / 5000\n",
      "Calibrating image 3328 / 5000\n"
     ]
    },
    {
     "name": "stdout",
     "output_type": "stream",
     "text": [
      "[08/23/2022-14:40:45] [TRT] [I]   Calibrated batch 412 in 0.0217379 seconds.\n",
      "[08/23/2022-14:40:45] [TRT] [I]   Calibrated batch 413 in 0.0216132 seconds.\n",
      "[08/23/2022-14:40:45] [TRT] [I]   Calibrated batch 414 in 0.0214665 seconds.\n",
      "[08/23/2022-14:40:45] [TRT] [I]   Calibrated batch 415 in 0.0216426 seconds.\n"
     ]
    },
    {
     "name": "stderr",
     "output_type": "stream",
     "text": [
      "INFO:EngineBuilder:Calibrating image 3336 / 5000\n",
      "Calibrating image 3336 / 5000\n",
      "Calibrating image 3336 / 5000\n",
      "INFO:EngineBuilder:Calibrating image 3344 / 5000\n",
      "Calibrating image 3344 / 5000\n",
      "Calibrating image 3344 / 5000\n",
      "INFO:EngineBuilder:Calibrating image 3352 / 5000\n",
      "Calibrating image 3352 / 5000\n",
      "Calibrating image 3352 / 5000\n",
      "INFO:EngineBuilder:Calibrating image 3360 / 5000\n",
      "Calibrating image 3360 / 5000\n",
      "Calibrating image 3360 / 5000\n"
     ]
    },
    {
     "name": "stdout",
     "output_type": "stream",
     "text": [
      "[08/23/2022-14:40:45] [TRT] [I]   Calibrated batch 416 in 0.0214536 seconds.\n",
      "[08/23/2022-14:40:45] [TRT] [I]   Calibrated batch 417 in 0.021464 seconds.\n",
      "[08/23/2022-14:40:45] [TRT] [I]   Calibrated batch 418 in 0.0214887 seconds.\n",
      "[08/23/2022-14:40:45] [TRT] [I]   Calibrated batch 419 in 0.0215082 seconds.\n"
     ]
    },
    {
     "name": "stderr",
     "output_type": "stream",
     "text": [
      "INFO:EngineBuilder:Calibrating image 3368 / 5000\n",
      "Calibrating image 3368 / 5000\n",
      "Calibrating image 3368 / 5000\n",
      "INFO:EngineBuilder:Calibrating image 3376 / 5000\n",
      "Calibrating image 3376 / 5000\n",
      "Calibrating image 3376 / 5000\n",
      "INFO:EngineBuilder:Calibrating image 3384 / 5000\n",
      "Calibrating image 3384 / 5000\n",
      "Calibrating image 3384 / 5000\n",
      "INFO:EngineBuilder:Calibrating image 3392 / 5000\n",
      "Calibrating image 3392 / 5000\n",
      "Calibrating image 3392 / 5000\n"
     ]
    },
    {
     "name": "stdout",
     "output_type": "stream",
     "text": [
      "[08/23/2022-14:40:45] [TRT] [I]   Calibrated batch 420 in 0.0216469 seconds.\n",
      "[08/23/2022-14:40:45] [TRT] [I]   Calibrated batch 421 in 0.0221367 seconds.\n",
      "[08/23/2022-14:40:45] [TRT] [I]   Calibrated batch 422 in 0.0215067 seconds.\n",
      "[08/23/2022-14:40:45] [TRT] [I]   Calibrated batch 423 in 0.0216978 seconds.\n"
     ]
    },
    {
     "name": "stderr",
     "output_type": "stream",
     "text": [
      "INFO:EngineBuilder:Calibrating image 3400 / 5000\n",
      "Calibrating image 3400 / 5000\n",
      "Calibrating image 3400 / 5000\n",
      "INFO:EngineBuilder:Calibrating image 3408 / 5000\n",
      "Calibrating image 3408 / 5000\n",
      "Calibrating image 3408 / 5000\n",
      "INFO:EngineBuilder:Calibrating image 3416 / 5000\n",
      "Calibrating image 3416 / 5000\n",
      "Calibrating image 3416 / 5000\n",
      "INFO:EngineBuilder:Calibrating image 3424 / 5000\n",
      "Calibrating image 3424 / 5000\n",
      "Calibrating image 3424 / 5000\n"
     ]
    },
    {
     "name": "stdout",
     "output_type": "stream",
     "text": [
      "[08/23/2022-14:40:46] [TRT] [I]   Calibrated batch 424 in 0.0214699 seconds.\n",
      "[08/23/2022-14:40:46] [TRT] [I]   Calibrated batch 425 in 0.0214282 seconds.\n",
      "[08/23/2022-14:40:46] [TRT] [I]   Calibrated batch 426 in 0.0217047 seconds.\n",
      "[08/23/2022-14:40:46] [TRT] [I]   Calibrated batch 427 in 0.0224389 seconds.\n"
     ]
    },
    {
     "name": "stderr",
     "output_type": "stream",
     "text": [
      "INFO:EngineBuilder:Calibrating image 3432 / 5000\n",
      "Calibrating image 3432 / 5000\n",
      "Calibrating image 3432 / 5000\n",
      "INFO:EngineBuilder:Calibrating image 3440 / 5000\n",
      "Calibrating image 3440 / 5000\n",
      "Calibrating image 3440 / 5000\n",
      "INFO:EngineBuilder:Calibrating image 3448 / 5000\n",
      "Calibrating image 3448 / 5000\n",
      "Calibrating image 3448 / 5000\n",
      "INFO:EngineBuilder:Calibrating image 3456 / 5000\n",
      "Calibrating image 3456 / 5000\n",
      "Calibrating image 3456 / 5000\n"
     ]
    },
    {
     "name": "stdout",
     "output_type": "stream",
     "text": [
      "[08/23/2022-14:40:46] [TRT] [I]   Calibrated batch 428 in 0.021584 seconds.\n",
      "[08/23/2022-14:40:46] [TRT] [I]   Calibrated batch 429 in 0.0217063 seconds.\n",
      "[08/23/2022-14:40:46] [TRT] [I]   Calibrated batch 430 in 0.0225305 seconds.\n",
      "[08/23/2022-14:40:46] [TRT] [I]   Calibrated batch 431 in 0.02166 seconds.\n"
     ]
    },
    {
     "name": "stderr",
     "output_type": "stream",
     "text": [
      "INFO:EngineBuilder:Calibrating image 3464 / 5000\n",
      "Calibrating image 3464 / 5000\n",
      "Calibrating image 3464 / 5000\n",
      "INFO:EngineBuilder:Calibrating image 3472 / 5000\n",
      "Calibrating image 3472 / 5000\n",
      "Calibrating image 3472 / 5000\n",
      "INFO:EngineBuilder:Calibrating image 3480 / 5000\n",
      "Calibrating image 3480 / 5000\n",
      "Calibrating image 3480 / 5000\n",
      "INFO:EngineBuilder:Calibrating image 3488 / 5000\n",
      "Calibrating image 3488 / 5000\n",
      "Calibrating image 3488 / 5000\n"
     ]
    },
    {
     "name": "stdout",
     "output_type": "stream",
     "text": [
      "[08/23/2022-14:40:46] [TRT] [I]   Calibrated batch 432 in 0.0214717 seconds.\n",
      "[08/23/2022-14:40:46] [TRT] [I]   Calibrated batch 433 in 0.0220498 seconds.\n",
      "[08/23/2022-14:40:46] [TRT] [I]   Calibrated batch 434 in 0.0215263 seconds.\n",
      "[08/23/2022-14:40:46] [TRT] [I]   Calibrated batch 435 in 0.0215577 seconds.\n"
     ]
    },
    {
     "name": "stderr",
     "output_type": "stream",
     "text": [
      "INFO:EngineBuilder:Calibrating image 3496 / 5000\n",
      "Calibrating image 3496 / 5000\n",
      "Calibrating image 3496 / 5000\n",
      "INFO:EngineBuilder:Calibrating image 3504 / 5000\n",
      "Calibrating image 3504 / 5000\n",
      "Calibrating image 3504 / 5000\n",
      "INFO:EngineBuilder:Calibrating image 3512 / 5000\n",
      "Calibrating image 3512 / 5000\n",
      "Calibrating image 3512 / 5000\n",
      "INFO:EngineBuilder:Calibrating image 3520 / 5000\n",
      "Calibrating image 3520 / 5000\n",
      "Calibrating image 3520 / 5000\n"
     ]
    },
    {
     "name": "stdout",
     "output_type": "stream",
     "text": [
      "[08/23/2022-14:40:46] [TRT] [I]   Calibrated batch 436 in 0.0224012 seconds.\n",
      "[08/23/2022-14:40:46] [TRT] [I]   Calibrated batch 437 in 0.0214469 seconds.\n",
      "[08/23/2022-14:40:46] [TRT] [I]   Calibrated batch 438 in 0.0214894 seconds.\n",
      "[08/23/2022-14:40:47] [TRT] [I]   Calibrated batch 439 in 0.0217343 seconds.\n"
     ]
    },
    {
     "name": "stderr",
     "output_type": "stream",
     "text": [
      "INFO:EngineBuilder:Calibrating image 3528 / 5000\n",
      "Calibrating image 3528 / 5000\n",
      "Calibrating image 3528 / 5000\n",
      "INFO:EngineBuilder:Calibrating image 3536 / 5000\n",
      "Calibrating image 3536 / 5000\n",
      "Calibrating image 3536 / 5000\n",
      "INFO:EngineBuilder:Calibrating image 3544 / 5000\n",
      "Calibrating image 3544 / 5000\n",
      "Calibrating image 3544 / 5000\n",
      "INFO:EngineBuilder:Calibrating image 3552 / 5000\n",
      "Calibrating image 3552 / 5000\n",
      "Calibrating image 3552 / 5000\n"
     ]
    },
    {
     "name": "stdout",
     "output_type": "stream",
     "text": [
      "[08/23/2022-14:40:47] [TRT] [I]   Calibrated batch 440 in 0.0214651 seconds.\n",
      "[08/23/2022-14:40:47] [TRT] [I]   Calibrated batch 441 in 0.021395 seconds.\n",
      "[08/23/2022-14:40:47] [TRT] [I]   Calibrated batch 442 in 0.0216438 seconds.\n",
      "[08/23/2022-14:40:47] [TRT] [I]   Calibrated batch 443 in 0.0216595 seconds.\n"
     ]
    },
    {
     "name": "stderr",
     "output_type": "stream",
     "text": [
      "INFO:EngineBuilder:Calibrating image 3560 / 5000\n",
      "Calibrating image 3560 / 5000\n",
      "Calibrating image 3560 / 5000\n",
      "INFO:EngineBuilder:Calibrating image 3568 / 5000\n",
      "Calibrating image 3568 / 5000\n",
      "Calibrating image 3568 / 5000\n",
      "INFO:EngineBuilder:Calibrating image 3576 / 5000\n",
      "Calibrating image 3576 / 5000\n",
      "Calibrating image 3576 / 5000\n",
      "INFO:EngineBuilder:Calibrating image 3584 / 5000\n",
      "Calibrating image 3584 / 5000\n",
      "Calibrating image 3584 / 5000\n"
     ]
    },
    {
     "name": "stdout",
     "output_type": "stream",
     "text": [
      "[08/23/2022-14:40:47] [TRT] [I]   Calibrated batch 444 in 0.0217856 seconds.\n",
      "[08/23/2022-14:40:47] [TRT] [I]   Calibrated batch 445 in 0.0213499 seconds.\n",
      "[08/23/2022-14:40:47] [TRT] [I]   Calibrated batch 446 in 0.0213721 seconds.\n",
      "[08/23/2022-14:40:47] [TRT] [I]   Calibrated batch 447 in 0.0224157 seconds.\n"
     ]
    },
    {
     "name": "stderr",
     "output_type": "stream",
     "text": [
      "INFO:EngineBuilder:Calibrating image 3592 / 5000\n",
      "Calibrating image 3592 / 5000\n",
      "Calibrating image 3592 / 5000\n",
      "INFO:EngineBuilder:Calibrating image 3600 / 5000\n",
      "Calibrating image 3600 / 5000\n",
      "Calibrating image 3600 / 5000\n",
      "INFO:EngineBuilder:Calibrating image 3608 / 5000\n",
      "Calibrating image 3608 / 5000\n",
      "Calibrating image 3608 / 5000\n",
      "INFO:EngineBuilder:Calibrating image 3616 / 5000\n",
      "Calibrating image 3616 / 5000\n",
      "Calibrating image 3616 / 5000\n"
     ]
    },
    {
     "name": "stdout",
     "output_type": "stream",
     "text": [
      "[08/23/2022-14:40:47] [TRT] [I]   Calibrated batch 448 in 0.021691 seconds.\n",
      "[08/23/2022-14:40:47] [TRT] [I]   Calibrated batch 449 in 0.0213366 seconds.\n",
      "[08/23/2022-14:40:47] [TRT] [I]   Calibrated batch 450 in 0.0223981 seconds.\n",
      "[08/23/2022-14:40:47] [TRT] [I]   Calibrated batch 451 in 0.0214991 seconds.\n"
     ]
    },
    {
     "name": "stderr",
     "output_type": "stream",
     "text": [
      "INFO:EngineBuilder:Calibrating image 3624 / 5000\n",
      "Calibrating image 3624 / 5000\n",
      "Calibrating image 3624 / 5000\n",
      "INFO:EngineBuilder:Calibrating image 3632 / 5000\n",
      "Calibrating image 3632 / 5000\n",
      "Calibrating image 3632 / 5000\n",
      "INFO:EngineBuilder:Calibrating image 3640 / 5000\n",
      "Calibrating image 3640 / 5000\n",
      "Calibrating image 3640 / 5000\n",
      "INFO:EngineBuilder:Calibrating image 3648 / 5000\n",
      "Calibrating image 3648 / 5000\n",
      "Calibrating image 3648 / 5000\n"
     ]
    },
    {
     "name": "stdout",
     "output_type": "stream",
     "text": [
      "[08/23/2022-14:40:47] [TRT] [I]   Calibrated batch 452 in 0.0219367 seconds.\n",
      "[08/23/2022-14:40:47] [TRT] [I]   Calibrated batch 453 in 0.0222311 seconds.\n",
      "[08/23/2022-14:40:48] [TRT] [I]   Calibrated batch 454 in 0.0214228 seconds.\n",
      "[08/23/2022-14:40:48] [TRT] [I]   Calibrated batch 455 in 0.0215654 seconds.\n"
     ]
    },
    {
     "name": "stderr",
     "output_type": "stream",
     "text": [
      "INFO:EngineBuilder:Calibrating image 3656 / 5000\n",
      "Calibrating image 3656 / 5000\n",
      "Calibrating image 3656 / 5000\n",
      "INFO:EngineBuilder:Calibrating image 3664 / 5000\n",
      "Calibrating image 3664 / 5000\n",
      "Calibrating image 3664 / 5000\n",
      "INFO:EngineBuilder:Calibrating image 3672 / 5000\n",
      "Calibrating image 3672 / 5000\n",
      "Calibrating image 3672 / 5000\n",
      "INFO:EngineBuilder:Calibrating image 3680 / 5000\n",
      "Calibrating image 3680 / 5000\n",
      "Calibrating image 3680 / 5000\n"
     ]
    },
    {
     "name": "stdout",
     "output_type": "stream",
     "text": [
      "[08/23/2022-14:40:48] [TRT] [I]   Calibrated batch 456 in 0.0221781 seconds.\n",
      "[08/23/2022-14:40:48] [TRT] [I]   Calibrated batch 457 in 0.0213445 seconds.\n",
      "[08/23/2022-14:40:48] [TRT] [I]   Calibrated batch 458 in 0.0215341 seconds.\n",
      "[08/23/2022-14:40:48] [TRT] [I]   Calibrated batch 459 in 0.0216269 seconds.\n"
     ]
    },
    {
     "name": "stderr",
     "output_type": "stream",
     "text": [
      "INFO:EngineBuilder:Calibrating image 3688 / 5000\n",
      "Calibrating image 3688 / 5000\n",
      "Calibrating image 3688 / 5000\n",
      "INFO:EngineBuilder:Calibrating image 3696 / 5000\n",
      "Calibrating image 3696 / 5000\n",
      "Calibrating image 3696 / 5000\n",
      "INFO:EngineBuilder:Calibrating image 3704 / 5000\n",
      "Calibrating image 3704 / 5000\n",
      "Calibrating image 3704 / 5000\n",
      "INFO:EngineBuilder:Calibrating image 3712 / 5000\n",
      "Calibrating image 3712 / 5000\n",
      "Calibrating image 3712 / 5000\n"
     ]
    },
    {
     "name": "stdout",
     "output_type": "stream",
     "text": [
      "[08/23/2022-14:40:48] [TRT] [I]   Calibrated batch 460 in 0.0215872 seconds.\n",
      "[08/23/2022-14:40:48] [TRT] [I]   Calibrated batch 461 in 0.0215207 seconds.\n",
      "[08/23/2022-14:40:48] [TRT] [I]   Calibrated batch 462 in 0.021848 seconds.\n",
      "[08/23/2022-14:40:48] [TRT] [I]   Calibrated batch 463 in 0.0212521 seconds.\n"
     ]
    },
    {
     "name": "stderr",
     "output_type": "stream",
     "text": [
      "INFO:EngineBuilder:Calibrating image 3720 / 5000\n",
      "Calibrating image 3720 / 5000\n",
      "Calibrating image 3720 / 5000\n",
      "INFO:EngineBuilder:Calibrating image 3728 / 5000\n",
      "Calibrating image 3728 / 5000\n",
      "Calibrating image 3728 / 5000\n",
      "INFO:EngineBuilder:Calibrating image 3736 / 5000\n",
      "Calibrating image 3736 / 5000\n",
      "Calibrating image 3736 / 5000\n",
      "INFO:EngineBuilder:Calibrating image 3744 / 5000\n",
      "Calibrating image 3744 / 5000\n",
      "Calibrating image 3744 / 5000\n"
     ]
    },
    {
     "name": "stdout",
     "output_type": "stream",
     "text": [
      "[08/23/2022-14:40:48] [TRT] [I]   Calibrated batch 464 in 0.0214619 seconds.\n",
      "[08/23/2022-14:40:48] [TRT] [I]   Calibrated batch 465 in 0.0213858 seconds.\n",
      "[08/23/2022-14:40:48] [TRT] [I]   Calibrated batch 466 in 0.0216623 seconds.\n",
      "[08/23/2022-14:40:48] [TRT] [I]   Calibrated batch 467 in 0.0214101 seconds.\n"
     ]
    },
    {
     "name": "stderr",
     "output_type": "stream",
     "text": [
      "INFO:EngineBuilder:Calibrating image 3752 / 5000\n",
      "Calibrating image 3752 / 5000\n",
      "Calibrating image 3752 / 5000\n",
      "INFO:EngineBuilder:Calibrating image 3760 / 5000\n",
      "Calibrating image 3760 / 5000\n",
      "Calibrating image 3760 / 5000\n",
      "INFO:EngineBuilder:Calibrating image 3768 / 5000\n",
      "Calibrating image 3768 / 5000\n",
      "Calibrating image 3768 / 5000\n",
      "INFO:EngineBuilder:Calibrating image 3776 / 5000\n",
      "Calibrating image 3776 / 5000\n",
      "Calibrating image 3776 / 5000\n"
     ]
    },
    {
     "name": "stdout",
     "output_type": "stream",
     "text": [
      "[08/23/2022-14:40:48] [TRT] [I]   Calibrated batch 468 in 0.0213914 seconds.\n",
      "[08/23/2022-14:40:48] [TRT] [I]   Calibrated batch 469 in 0.0216626 seconds.\n",
      "[08/23/2022-14:40:49] [TRT] [I]   Calibrated batch 470 in 0.0214177 seconds.\n",
      "[08/23/2022-14:40:49] [TRT] [I]   Calibrated batch 471 in 0.0214018 seconds.\n"
     ]
    },
    {
     "name": "stderr",
     "output_type": "stream",
     "text": [
      "INFO:EngineBuilder:Calibrating image 3784 / 5000\n",
      "Calibrating image 3784 / 5000\n",
      "Calibrating image 3784 / 5000\n",
      "INFO:EngineBuilder:Calibrating image 3792 / 5000\n",
      "Calibrating image 3792 / 5000\n",
      "Calibrating image 3792 / 5000\n",
      "INFO:EngineBuilder:Calibrating image 3800 / 5000\n",
      "Calibrating image 3800 / 5000\n",
      "Calibrating image 3800 / 5000\n",
      "INFO:EngineBuilder:Calibrating image 3808 / 5000\n",
      "Calibrating image 3808 / 5000\n",
      "Calibrating image 3808 / 5000\n"
     ]
    },
    {
     "name": "stdout",
     "output_type": "stream",
     "text": [
      "[08/23/2022-14:40:49] [TRT] [I]   Calibrated batch 472 in 0.0215577 seconds.\n",
      "[08/23/2022-14:40:49] [TRT] [I]   Calibrated batch 473 in 0.0221434 seconds.\n",
      "[08/23/2022-14:40:49] [TRT] [I]   Calibrated batch 474 in 0.0215546 seconds.\n",
      "[08/23/2022-14:40:49] [TRT] [I]   Calibrated batch 475 in 0.0215491 seconds.\n"
     ]
    },
    {
     "name": "stderr",
     "output_type": "stream",
     "text": [
      "INFO:EngineBuilder:Calibrating image 3816 / 5000\n",
      "Calibrating image 3816 / 5000\n",
      "Calibrating image 3816 / 5000\n",
      "INFO:EngineBuilder:Calibrating image 3824 / 5000\n",
      "Calibrating image 3824 / 5000\n",
      "Calibrating image 3824 / 5000\n",
      "INFO:EngineBuilder:Calibrating image 3832 / 5000\n",
      "Calibrating image 3832 / 5000\n",
      "Calibrating image 3832 / 5000\n",
      "INFO:EngineBuilder:Calibrating image 3840 / 5000\n",
      "Calibrating image 3840 / 5000\n",
      "Calibrating image 3840 / 5000\n"
     ]
    },
    {
     "name": "stdout",
     "output_type": "stream",
     "text": [
      "[08/23/2022-14:40:49] [TRT] [I]   Calibrated batch 476 in 0.022318 seconds.\n",
      "[08/23/2022-14:40:49] [TRT] [I]   Calibrated batch 477 in 0.0216451 seconds.\n",
      "[08/23/2022-14:40:49] [TRT] [I]   Calibrated batch 478 in 0.021597 seconds.\n",
      "[08/23/2022-14:40:49] [TRT] [I]   Calibrated batch 479 in 0.0221665 seconds.\n"
     ]
    },
    {
     "name": "stderr",
     "output_type": "stream",
     "text": [
      "INFO:EngineBuilder:Calibrating image 3848 / 5000\n",
      "Calibrating image 3848 / 5000\n",
      "Calibrating image 3848 / 5000\n",
      "INFO:EngineBuilder:Calibrating image 3856 / 5000\n",
      "Calibrating image 3856 / 5000\n",
      "Calibrating image 3856 / 5000\n",
      "INFO:EngineBuilder:Calibrating image 3864 / 5000\n",
      "Calibrating image 3864 / 5000\n",
      "Calibrating image 3864 / 5000\n",
      "INFO:EngineBuilder:Calibrating image 3872 / 5000\n",
      "Calibrating image 3872 / 5000\n",
      "Calibrating image 3872 / 5000\n"
     ]
    },
    {
     "name": "stdout",
     "output_type": "stream",
     "text": [
      "[08/23/2022-14:40:49] [TRT] [I]   Calibrated batch 480 in 0.0214211 seconds.\n",
      "[08/23/2022-14:40:49] [TRT] [I]   Calibrated batch 481 in 0.0212956 seconds.\n",
      "[08/23/2022-14:40:49] [TRT] [I]   Calibrated batch 482 in 0.0222252 seconds.\n",
      "[08/23/2022-14:40:49] [TRT] [I]   Calibrated batch 483 in 0.0213697 seconds.\n"
     ]
    },
    {
     "name": "stderr",
     "output_type": "stream",
     "text": [
      "INFO:EngineBuilder:Calibrating image 3880 / 5000\n",
      "Calibrating image 3880 / 5000\n",
      "Calibrating image 3880 / 5000\n",
      "INFO:EngineBuilder:Calibrating image 3888 / 5000\n",
      "Calibrating image 3888 / 5000\n",
      "Calibrating image 3888 / 5000\n",
      "INFO:EngineBuilder:Calibrating image 3896 / 5000\n",
      "Calibrating image 3896 / 5000\n",
      "Calibrating image 3896 / 5000\n",
      "INFO:EngineBuilder:Calibrating image 3904 / 5000\n",
      "Calibrating image 3904 / 5000\n",
      "Calibrating image 3904 / 5000\n"
     ]
    },
    {
     "name": "stdout",
     "output_type": "stream",
     "text": [
      "[08/23/2022-14:40:49] [TRT] [I]   Calibrated batch 484 in 0.0216867 seconds.\n",
      "[08/23/2022-14:40:50] [TRT] [I]   Calibrated batch 485 in 0.0214724 seconds.\n",
      "[08/23/2022-14:40:50] [TRT] [I]   Calibrated batch 486 in 0.021431 seconds.\n",
      "[08/23/2022-14:40:50] [TRT] [I]   Calibrated batch 487 in 0.0214702 seconds.\n"
     ]
    },
    {
     "name": "stderr",
     "output_type": "stream",
     "text": [
      "INFO:EngineBuilder:Calibrating image 3912 / 5000\n",
      "Calibrating image 3912 / 5000\n",
      "Calibrating image 3912 / 5000\n",
      "INFO:EngineBuilder:Calibrating image 3920 / 5000\n",
      "Calibrating image 3920 / 5000\n",
      "Calibrating image 3920 / 5000\n",
      "INFO:EngineBuilder:Calibrating image 3928 / 5000\n",
      "Calibrating image 3928 / 5000\n",
      "Calibrating image 3928 / 5000\n",
      "INFO:EngineBuilder:Calibrating image 3936 / 5000\n",
      "Calibrating image 3936 / 5000\n",
      "Calibrating image 3936 / 5000\n"
     ]
    },
    {
     "name": "stdout",
     "output_type": "stream",
     "text": [
      "[08/23/2022-14:40:50] [TRT] [I]   Calibrated batch 488 in 0.0213789 seconds.\n",
      "[08/23/2022-14:40:50] [TRT] [I]   Calibrated batch 489 in 0.0214025 seconds.\n",
      "[08/23/2022-14:40:50] [TRT] [I]   Calibrated batch 490 in 0.0216164 seconds.\n",
      "[08/23/2022-14:40:50] [TRT] [I]   Calibrated batch 491 in 0.0220617 seconds.\n"
     ]
    },
    {
     "name": "stderr",
     "output_type": "stream",
     "text": [
      "INFO:EngineBuilder:Calibrating image 3944 / 5000\n",
      "Calibrating image 3944 / 5000\n",
      "Calibrating image 3944 / 5000\n",
      "INFO:EngineBuilder:Calibrating image 3952 / 5000\n",
      "Calibrating image 3952 / 5000\n",
      "Calibrating image 3952 / 5000\n",
      "INFO:EngineBuilder:Calibrating image 3960 / 5000\n",
      "Calibrating image 3960 / 5000\n",
      "Calibrating image 3960 / 5000\n",
      "INFO:EngineBuilder:Calibrating image 3968 / 5000\n",
      "Calibrating image 3968 / 5000\n",
      "Calibrating image 3968 / 5000\n"
     ]
    },
    {
     "name": "stdout",
     "output_type": "stream",
     "text": [
      "[08/23/2022-14:40:50] [TRT] [I]   Calibrated batch 492 in 0.0215637 seconds.\n",
      "[08/23/2022-14:40:50] [TRT] [I]   Calibrated batch 493 in 0.0226312 seconds.\n",
      "[08/23/2022-14:40:50] [TRT] [I]   Calibrated batch 494 in 0.0213136 seconds.\n",
      "[08/23/2022-14:40:50] [TRT] [I]   Calibrated batch 495 in 0.0216194 seconds.\n"
     ]
    },
    {
     "name": "stderr",
     "output_type": "stream",
     "text": [
      "INFO:EngineBuilder:Calibrating image 3976 / 5000\n",
      "Calibrating image 3976 / 5000\n",
      "Calibrating image 3976 / 5000\n",
      "INFO:EngineBuilder:Calibrating image 3984 / 5000\n",
      "Calibrating image 3984 / 5000\n",
      "Calibrating image 3984 / 5000\n",
      "INFO:EngineBuilder:Calibrating image 3992 / 5000\n",
      "Calibrating image 3992 / 5000\n",
      "Calibrating image 3992 / 5000\n",
      "INFO:EngineBuilder:Calibrating image 4000 / 5000\n",
      "Calibrating image 4000 / 5000\n",
      "Calibrating image 4000 / 5000\n"
     ]
    },
    {
     "name": "stdout",
     "output_type": "stream",
     "text": [
      "[08/23/2022-14:40:50] [TRT] [I]   Calibrated batch 496 in 0.0225702 seconds.\n",
      "[08/23/2022-14:40:50] [TRT] [I]   Calibrated batch 497 in 0.0213561 seconds.\n",
      "[08/23/2022-14:40:50] [TRT] [I]   Calibrated batch 498 in 0.02151 seconds.\n",
      "[08/23/2022-14:40:50] [TRT] [I]   Calibrated batch 499 in 0.0223742 seconds.\n"
     ]
    },
    {
     "name": "stderr",
     "output_type": "stream",
     "text": [
      "INFO:EngineBuilder:Calibrating image 4008 / 5000\n",
      "Calibrating image 4008 / 5000\n",
      "Calibrating image 4008 / 5000\n",
      "INFO:EngineBuilder:Calibrating image 4016 / 5000\n",
      "Calibrating image 4016 / 5000\n",
      "Calibrating image 4016 / 5000\n",
      "INFO:EngineBuilder:Calibrating image 4024 / 5000\n",
      "Calibrating image 4024 / 5000\n",
      "Calibrating image 4024 / 5000\n",
      "INFO:EngineBuilder:Calibrating image 4032 / 5000\n",
      "Calibrating image 4032 / 5000\n",
      "Calibrating image 4032 / 5000\n"
     ]
    },
    {
     "name": "stdout",
     "output_type": "stream",
     "text": [
      "[08/23/2022-14:40:50] [TRT] [I]   Calibrated batch 500 in 0.0214267 seconds.\n",
      "[08/23/2022-14:40:51] [TRT] [I]   Calibrated batch 501 in 0.021636 seconds.\n",
      "[08/23/2022-14:40:51] [TRT] [I]   Calibrated batch 502 in 0.0221018 seconds.\n",
      "[08/23/2022-14:40:51] [TRT] [I]   Calibrated batch 503 in 0.0214035 seconds.\n"
     ]
    },
    {
     "name": "stderr",
     "output_type": "stream",
     "text": [
      "INFO:EngineBuilder:Calibrating image 4040 / 5000\n",
      "Calibrating image 4040 / 5000\n",
      "Calibrating image 4040 / 5000\n",
      "INFO:EngineBuilder:Calibrating image 4048 / 5000\n",
      "Calibrating image 4048 / 5000\n",
      "Calibrating image 4048 / 5000\n",
      "INFO:EngineBuilder:Calibrating image 4056 / 5000\n",
      "Calibrating image 4056 / 5000\n",
      "Calibrating image 4056 / 5000\n",
      "INFO:EngineBuilder:Calibrating image 4064 / 5000\n",
      "Calibrating image 4064 / 5000\n",
      "Calibrating image 4064 / 5000\n"
     ]
    },
    {
     "name": "stdout",
     "output_type": "stream",
     "text": [
      "[08/23/2022-14:40:51] [TRT] [I]   Calibrated batch 504 in 0.0214645 seconds.\n",
      "[08/23/2022-14:40:51] [TRT] [I]   Calibrated batch 505 in 0.0216339 seconds.\n",
      "[08/23/2022-14:40:51] [TRT] [I]   Calibrated batch 506 in 0.02149 seconds.\n",
      "[08/23/2022-14:40:51] [TRT] [I]   Calibrated batch 507 in 0.0214885 seconds.\n"
     ]
    },
    {
     "name": "stderr",
     "output_type": "stream",
     "text": [
      "INFO:EngineBuilder:Calibrating image 4072 / 5000\n",
      "Calibrating image 4072 / 5000\n",
      "Calibrating image 4072 / 5000\n",
      "INFO:EngineBuilder:Calibrating image 4080 / 5000\n",
      "Calibrating image 4080 / 5000\n",
      "Calibrating image 4080 / 5000\n",
      "INFO:EngineBuilder:Calibrating image 4088 / 5000\n",
      "Calibrating image 4088 / 5000\n",
      "Calibrating image 4088 / 5000\n",
      "INFO:EngineBuilder:Calibrating image 4096 / 5000\n",
      "Calibrating image 4096 / 5000\n",
      "Calibrating image 4096 / 5000\n"
     ]
    },
    {
     "name": "stdout",
     "output_type": "stream",
     "text": [
      "[08/23/2022-14:40:51] [TRT] [I]   Calibrated batch 508 in 0.0223068 seconds.\n",
      "[08/23/2022-14:40:51] [TRT] [I]   Calibrated batch 509 in 0.0214431 seconds.\n",
      "[08/23/2022-14:40:51] [TRT] [I]   Calibrated batch 510 in 0.0213749 seconds.\n",
      "[08/23/2022-14:40:51] [TRT] [I]   Calibrated batch 511 in 0.0214161 seconds.\n"
     ]
    },
    {
     "name": "stderr",
     "output_type": "stream",
     "text": [
      "INFO:EngineBuilder:Calibrating image 4104 / 5000\n",
      "Calibrating image 4104 / 5000\n",
      "Calibrating image 4104 / 5000\n",
      "INFO:EngineBuilder:Calibrating image 4112 / 5000\n",
      "Calibrating image 4112 / 5000\n",
      "Calibrating image 4112 / 5000\n",
      "INFO:EngineBuilder:Calibrating image 4120 / 5000\n",
      "Calibrating image 4120 / 5000\n",
      "Calibrating image 4120 / 5000\n",
      "INFO:EngineBuilder:Calibrating image 4128 / 5000\n",
      "Calibrating image 4128 / 5000\n",
      "Calibrating image 4128 / 5000\n"
     ]
    },
    {
     "name": "stdout",
     "output_type": "stream",
     "text": [
      "[08/23/2022-14:40:51] [TRT] [I]   Calibrated batch 512 in 0.0215167 seconds.\n",
      "[08/23/2022-14:40:51] [TRT] [I]   Calibrated batch 513 in 0.0214552 seconds.\n",
      "[08/23/2022-14:40:51] [TRT] [I]   Calibrated batch 514 in 0.0213957 seconds.\n",
      "[08/23/2022-14:40:51] [TRT] [I]   Calibrated batch 515 in 0.0215153 seconds.\n"
     ]
    },
    {
     "name": "stderr",
     "output_type": "stream",
     "text": [
      "INFO:EngineBuilder:Calibrating image 4136 / 5000\n",
      "Calibrating image 4136 / 5000\n",
      "Calibrating image 4136 / 5000\n",
      "INFO:EngineBuilder:Calibrating image 4144 / 5000\n",
      "Calibrating image 4144 / 5000\n",
      "Calibrating image 4144 / 5000\n",
      "INFO:EngineBuilder:Calibrating image 4152 / 5000\n",
      "Calibrating image 4152 / 5000\n",
      "Calibrating image 4152 / 5000\n",
      "INFO:EngineBuilder:Calibrating image 4160 / 5000\n",
      "Calibrating image 4160 / 5000\n",
      "Calibrating image 4160 / 5000\n"
     ]
    },
    {
     "name": "stdout",
     "output_type": "stream",
     "text": [
      "[08/23/2022-14:40:52] [TRT] [I]   Calibrated batch 516 in 0.021601 seconds.\n",
      "[08/23/2022-14:40:52] [TRT] [I]   Calibrated batch 517 in 0.021479 seconds.\n",
      "[08/23/2022-14:40:52] [TRT] [I]   Calibrated batch 518 in 0.0214421 seconds.\n"
     ]
    },
    {
     "name": "stderr",
     "output_type": "stream",
     "text": [
      "INFO:EngineBuilder:Calibrating image 4168 / 5000\n",
      "Calibrating image 4168 / 5000\n",
      "Calibrating image 4168 / 5000\n",
      "INFO:EngineBuilder:Calibrating image 4176 / 5000\n",
      "Calibrating image 4176 / 5000\n",
      "Calibrating image 4176 / 5000\n",
      "INFO:EngineBuilder:Calibrating image 4184 / 5000\n",
      "Calibrating image 4184 / 5000\n",
      "Calibrating image 4184 / 5000\n"
     ]
    },
    {
     "name": "stdout",
     "output_type": "stream",
     "text": [
      "[08/23/2022-14:40:52] [TRT] [I]   Calibrated batch 519 in 0.0224001 seconds.\n",
      "[08/23/2022-14:40:52] [TRT] [I]   Calibrated batch 520 in 0.0223795 seconds.\n",
      "[08/23/2022-14:40:52] [TRT] [I]   Calibrated batch 521 in 0.0214743 seconds.\n"
     ]
    },
    {
     "name": "stderr",
     "output_type": "stream",
     "text": [
      "INFO:EngineBuilder:Calibrating image 4192 / 5000\n",
      "Calibrating image 4192 / 5000\n",
      "Calibrating image 4192 / 5000\n",
      "INFO:EngineBuilder:Calibrating image 4200 / 5000\n",
      "Calibrating image 4200 / 5000\n",
      "Calibrating image 4200 / 5000\n",
      "INFO:EngineBuilder:Calibrating image 4208 / 5000\n",
      "Calibrating image 4208 / 5000\n",
      "Calibrating image 4208 / 5000\n"
     ]
    },
    {
     "name": "stdout",
     "output_type": "stream",
     "text": [
      "[08/23/2022-14:40:52] [TRT] [I]   Calibrated batch 522 in 0.0215812 seconds.\n",
      "[08/23/2022-14:40:52] [TRT] [I]   Calibrated batch 523 in 0.022481 seconds.\n",
      "[08/23/2022-14:40:52] [TRT] [I]   Calibrated batch 524 in 0.0214845 seconds.\n",
      "[08/23/2022-14:40:52] [TRT] [I]   Calibrated batch 525 in 0.0216678 seconds.\n"
     ]
    },
    {
     "name": "stderr",
     "output_type": "stream",
     "text": [
      "INFO:EngineBuilder:Calibrating image 4216 / 5000\n",
      "Calibrating image 4216 / 5000\n",
      "Calibrating image 4216 / 5000\n",
      "INFO:EngineBuilder:Calibrating image 4224 / 5000\n",
      "Calibrating image 4224 / 5000\n",
      "Calibrating image 4224 / 5000\n",
      "INFO:EngineBuilder:Calibrating image 4232 / 5000\n",
      "Calibrating image 4232 / 5000\n",
      "Calibrating image 4232 / 5000\n",
      "INFO:EngineBuilder:Calibrating image 4240 / 5000\n",
      "Calibrating image 4240 / 5000\n",
      "Calibrating image 4240 / 5000\n"
     ]
    },
    {
     "name": "stdout",
     "output_type": "stream",
     "text": [
      "[08/23/2022-14:40:52] [TRT] [I]   Calibrated batch 526 in 0.0221885 seconds.\n",
      "[08/23/2022-14:40:52] [TRT] [I]   Calibrated batch 527 in 0.0213329 seconds.\n",
      "[08/23/2022-14:40:52] [TRT] [I]   Calibrated batch 528 in 0.0216412 seconds.\n",
      "[08/23/2022-14:40:52] [TRT] [I]   Calibrated batch 529 in 0.0214441 seconds.\n"
     ]
    },
    {
     "name": "stderr",
     "output_type": "stream",
     "text": [
      "INFO:EngineBuilder:Calibrating image 4248 / 5000\n",
      "Calibrating image 4248 / 5000\n",
      "Calibrating image 4248 / 5000\n",
      "INFO:EngineBuilder:Calibrating image 4256 / 5000\n",
      "Calibrating image 4256 / 5000\n",
      "Calibrating image 4256 / 5000\n",
      "INFO:EngineBuilder:Calibrating image 4264 / 5000\n",
      "Calibrating image 4264 / 5000\n",
      "Calibrating image 4264 / 5000\n",
      "INFO:EngineBuilder:Calibrating image 4272 / 5000\n",
      "Calibrating image 4272 / 5000\n",
      "Calibrating image 4272 / 5000\n"
     ]
    },
    {
     "name": "stdout",
     "output_type": "stream",
     "text": [
      "[08/23/2022-14:40:52] [TRT] [I]   Calibrated batch 530 in 0.021681 seconds.\n",
      "[08/23/2022-14:40:53] [TRT] [I]   Calibrated batch 531 in 0.0223516 seconds.\n",
      "[08/23/2022-14:40:53] [TRT] [I]   Calibrated batch 532 in 0.021537 seconds.\n",
      "[08/23/2022-14:40:53] [TRT] [I]   Calibrated batch 533 in 0.0215569 seconds.\n"
     ]
    },
    {
     "name": "stderr",
     "output_type": "stream",
     "text": [
      "INFO:EngineBuilder:Calibrating image 4280 / 5000\n",
      "Calibrating image 4280 / 5000\n",
      "Calibrating image 4280 / 5000\n",
      "INFO:EngineBuilder:Calibrating image 4288 / 5000\n",
      "Calibrating image 4288 / 5000\n",
      "Calibrating image 4288 / 5000\n",
      "INFO:EngineBuilder:Calibrating image 4296 / 5000\n",
      "Calibrating image 4296 / 5000\n",
      "Calibrating image 4296 / 5000\n",
      "INFO:EngineBuilder:Calibrating image 4304 / 5000\n",
      "Calibrating image 4304 / 5000\n",
      "Calibrating image 4304 / 5000\n"
     ]
    },
    {
     "name": "stdout",
     "output_type": "stream",
     "text": [
      "[08/23/2022-14:40:53] [TRT] [I]   Calibrated batch 534 in 0.0222823 seconds.\n",
      "[08/23/2022-14:40:53] [TRT] [I]   Calibrated batch 535 in 0.0223642 seconds.\n",
      "[08/23/2022-14:40:53] [TRT] [I]   Calibrated batch 536 in 0.0224588 seconds.\n",
      "[08/23/2022-14:40:53] [TRT] [I]   Calibrated batch 537 in 0.0223551 seconds.\n"
     ]
    },
    {
     "name": "stderr",
     "output_type": "stream",
     "text": [
      "INFO:EngineBuilder:Calibrating image 4312 / 5000\n",
      "Calibrating image 4312 / 5000\n",
      "Calibrating image 4312 / 5000\n",
      "INFO:EngineBuilder:Calibrating image 4320 / 5000\n",
      "Calibrating image 4320 / 5000\n",
      "Calibrating image 4320 / 5000\n",
      "INFO:EngineBuilder:Calibrating image 4328 / 5000\n",
      "Calibrating image 4328 / 5000\n",
      "Calibrating image 4328 / 5000\n",
      "INFO:EngineBuilder:Calibrating image 4336 / 5000\n",
      "Calibrating image 4336 / 5000\n",
      "Calibrating image 4336 / 5000\n"
     ]
    },
    {
     "name": "stdout",
     "output_type": "stream",
     "text": [
      "[08/23/2022-14:40:53] [TRT] [I]   Calibrated batch 538 in 0.0213956 seconds.\n",
      "[08/23/2022-14:40:53] [TRT] [I]   Calibrated batch 539 in 0.0216239 seconds.\n",
      "[08/23/2022-14:40:53] [TRT] [I]   Calibrated batch 540 in 0.0223706 seconds.\n",
      "[08/23/2022-14:40:53] [TRT] [I]   Calibrated batch 541 in 0.0215344 seconds.\n"
     ]
    },
    {
     "name": "stderr",
     "output_type": "stream",
     "text": [
      "INFO:EngineBuilder:Calibrating image 4344 / 5000\n",
      "Calibrating image 4344 / 5000\n",
      "Calibrating image 4344 / 5000\n",
      "INFO:EngineBuilder:Calibrating image 4352 / 5000\n",
      "Calibrating image 4352 / 5000\n",
      "Calibrating image 4352 / 5000\n",
      "INFO:EngineBuilder:Calibrating image 4360 / 5000\n",
      "Calibrating image 4360 / 5000\n",
      "Calibrating image 4360 / 5000\n",
      "INFO:EngineBuilder:Calibrating image 4368 / 5000\n",
      "Calibrating image 4368 / 5000\n",
      "Calibrating image 4368 / 5000\n"
     ]
    },
    {
     "name": "stdout",
     "output_type": "stream",
     "text": [
      "[08/23/2022-14:40:53] [TRT] [I]   Calibrated batch 542 in 0.0216353 seconds.\n",
      "[08/23/2022-14:40:53] [TRT] [I]   Calibrated batch 543 in 0.0221865 seconds.\n",
      "[08/23/2022-14:40:53] [TRT] [I]   Calibrated batch 544 in 0.0214555 seconds.\n",
      "[08/23/2022-14:40:53] [TRT] [I]   Calibrated batch 545 in 0.0217048 seconds.\n"
     ]
    },
    {
     "name": "stderr",
     "output_type": "stream",
     "text": [
      "INFO:EngineBuilder:Calibrating image 4376 / 5000\n",
      "Calibrating image 4376 / 5000\n",
      "Calibrating image 4376 / 5000\n",
      "INFO:EngineBuilder:Calibrating image 4384 / 5000\n",
      "Calibrating image 4384 / 5000\n",
      "Calibrating image 4384 / 5000\n",
      "INFO:EngineBuilder:Calibrating image 4392 / 5000\n",
      "Calibrating image 4392 / 5000\n",
      "Calibrating image 4392 / 5000\n",
      "INFO:EngineBuilder:Calibrating image 4400 / 5000\n",
      "Calibrating image 4400 / 5000\n",
      "Calibrating image 4400 / 5000\n"
     ]
    },
    {
     "name": "stdout",
     "output_type": "stream",
     "text": [
      "[08/23/2022-14:40:53] [TRT] [I]   Calibrated batch 546 in 0.0219225 seconds.\n",
      "[08/23/2022-14:40:54] [TRT] [I]   Calibrated batch 547 in 0.0214867 seconds.\n",
      "[08/23/2022-14:40:54] [TRT] [I]   Calibrated batch 548 in 0.0216555 seconds.\n",
      "[08/23/2022-14:40:54] [TRT] [I]   Calibrated batch 549 in 0.0214847 seconds.\n"
     ]
    },
    {
     "name": "stderr",
     "output_type": "stream",
     "text": [
      "INFO:EngineBuilder:Calibrating image 4408 / 5000\n",
      "Calibrating image 4408 / 5000\n",
      "Calibrating image 4408 / 5000\n",
      "INFO:EngineBuilder:Calibrating image 4416 / 5000\n",
      "Calibrating image 4416 / 5000\n",
      "Calibrating image 4416 / 5000\n",
      "INFO:EngineBuilder:Calibrating image 4424 / 5000\n",
      "Calibrating image 4424 / 5000\n",
      "Calibrating image 4424 / 5000\n",
      "INFO:EngineBuilder:Calibrating image 4432 / 5000\n",
      "Calibrating image 4432 / 5000\n",
      "Calibrating image 4432 / 5000\n"
     ]
    },
    {
     "name": "stdout",
     "output_type": "stream",
     "text": [
      "[08/23/2022-14:40:54] [TRT] [I]   Calibrated batch 550 in 0.0214686 seconds.\n",
      "[08/23/2022-14:40:54] [TRT] [I]   Calibrated batch 551 in 0.0214102 seconds.\n",
      "[08/23/2022-14:40:54] [TRT] [I]   Calibrated batch 552 in 0.0222 seconds.\n",
      "[08/23/2022-14:40:54] [TRT] [I]   Calibrated batch 553 in 0.0217929 seconds.\n"
     ]
    },
    {
     "name": "stderr",
     "output_type": "stream",
     "text": [
      "INFO:EngineBuilder:Calibrating image 4440 / 5000\n",
      "Calibrating image 4440 / 5000\n",
      "Calibrating image 4440 / 5000\n",
      "INFO:EngineBuilder:Calibrating image 4448 / 5000\n",
      "Calibrating image 4448 / 5000\n",
      "Calibrating image 4448 / 5000\n",
      "INFO:EngineBuilder:Calibrating image 4456 / 5000\n",
      "Calibrating image 4456 / 5000\n",
      "Calibrating image 4456 / 5000\n",
      "INFO:EngineBuilder:Calibrating image 4464 / 5000\n",
      "Calibrating image 4464 / 5000\n",
      "Calibrating image 4464 / 5000\n"
     ]
    },
    {
     "name": "stdout",
     "output_type": "stream",
     "text": [
      "[08/23/2022-14:40:54] [TRT] [I]   Calibrated batch 554 in 0.0217105 seconds.\n",
      "[08/23/2022-14:40:54] [TRT] [I]   Calibrated batch 555 in 0.021885 seconds.\n",
      "[08/23/2022-14:40:54] [TRT] [I]   Calibrated batch 556 in 0.0215234 seconds.\n",
      "[08/23/2022-14:40:54] [TRT] [I]   Calibrated batch 557 in 0.021511 seconds.\n"
     ]
    },
    {
     "name": "stderr",
     "output_type": "stream",
     "text": [
      "INFO:EngineBuilder:Calibrating image 4472 / 5000\n",
      "Calibrating image 4472 / 5000\n",
      "Calibrating image 4472 / 5000\n",
      "INFO:EngineBuilder:Calibrating image 4480 / 5000\n",
      "Calibrating image 4480 / 5000\n",
      "Calibrating image 4480 / 5000\n",
      "INFO:EngineBuilder:Calibrating image 4488 / 5000\n",
      "Calibrating image 4488 / 5000\n",
      "Calibrating image 4488 / 5000\n",
      "INFO:EngineBuilder:Calibrating image 4496 / 5000\n",
      "Calibrating image 4496 / 5000\n",
      "Calibrating image 4496 / 5000\n"
     ]
    },
    {
     "name": "stdout",
     "output_type": "stream",
     "text": [
      "[08/23/2022-14:40:54] [TRT] [I]   Calibrated batch 558 in 0.0213733 seconds.\n",
      "[08/23/2022-14:40:54] [TRT] [I]   Calibrated batch 559 in 0.0214431 seconds.\n",
      "[08/23/2022-14:40:54] [TRT] [I]   Calibrated batch 560 in 0.0216038 seconds.\n",
      "[08/23/2022-14:40:54] [TRT] [I]   Calibrated batch 561 in 0.0213673 seconds.\n"
     ]
    },
    {
     "name": "stderr",
     "output_type": "stream",
     "text": [
      "INFO:EngineBuilder:Calibrating image 4504 / 5000\n",
      "Calibrating image 4504 / 5000\n",
      "Calibrating image 4504 / 5000\n",
      "INFO:EngineBuilder:Calibrating image 4512 / 5000\n",
      "Calibrating image 4512 / 5000\n",
      "Calibrating image 4512 / 5000\n",
      "INFO:EngineBuilder:Calibrating image 4520 / 5000\n",
      "Calibrating image 4520 / 5000\n",
      "Calibrating image 4520 / 5000\n",
      "INFO:EngineBuilder:Calibrating image 4528 / 5000\n",
      "Calibrating image 4528 / 5000\n",
      "Calibrating image 4528 / 5000\n"
     ]
    },
    {
     "name": "stdout",
     "output_type": "stream",
     "text": [
      "[08/23/2022-14:40:55] [TRT] [I]   Calibrated batch 562 in 0.0216029 seconds.\n",
      "[08/23/2022-14:40:55] [TRT] [I]   Calibrated batch 563 in 0.0223191 seconds.\n",
      "[08/23/2022-14:40:55] [TRT] [I]   Calibrated batch 564 in 0.0211478 seconds.\n",
      "[08/23/2022-14:40:55] [TRT] [I]   Calibrated batch 565 in 0.0214945 seconds.\n"
     ]
    },
    {
     "name": "stderr",
     "output_type": "stream",
     "text": [
      "INFO:EngineBuilder:Calibrating image 4536 / 5000\n",
      "Calibrating image 4536 / 5000\n",
      "Calibrating image 4536 / 5000\n",
      "INFO:EngineBuilder:Calibrating image 4544 / 5000\n",
      "Calibrating image 4544 / 5000\n",
      "Calibrating image 4544 / 5000\n",
      "INFO:EngineBuilder:Calibrating image 4552 / 5000\n",
      "Calibrating image 4552 / 5000\n",
      "Calibrating image 4552 / 5000\n",
      "INFO:EngineBuilder:Calibrating image 4560 / 5000\n",
      "Calibrating image 4560 / 5000\n",
      "Calibrating image 4560 / 5000\n"
     ]
    },
    {
     "name": "stdout",
     "output_type": "stream",
     "text": [
      "[08/23/2022-14:40:55] [TRT] [I]   Calibrated batch 566 in 0.022505 seconds.\n",
      "[08/23/2022-14:40:55] [TRT] [I]   Calibrated batch 567 in 0.0214004 seconds.\n",
      "[08/23/2022-14:40:55] [TRT] [I]   Calibrated batch 568 in 0.0214142 seconds.\n",
      "[08/23/2022-14:40:55] [TRT] [I]   Calibrated batch 569 in 0.0215822 seconds.\n"
     ]
    },
    {
     "name": "stderr",
     "output_type": "stream",
     "text": [
      "INFO:EngineBuilder:Calibrating image 4568 / 5000\n",
      "Calibrating image 4568 / 5000\n",
      "Calibrating image 4568 / 5000\n",
      "INFO:EngineBuilder:Calibrating image 4576 / 5000\n",
      "Calibrating image 4576 / 5000\n",
      "Calibrating image 4576 / 5000\n",
      "INFO:EngineBuilder:Calibrating image 4584 / 5000\n",
      "Calibrating image 4584 / 5000\n",
      "Calibrating image 4584 / 5000\n",
      "INFO:EngineBuilder:Calibrating image 4592 / 5000\n",
      "Calibrating image 4592 / 5000\n",
      "Calibrating image 4592 / 5000\n"
     ]
    },
    {
     "name": "stdout",
     "output_type": "stream",
     "text": [
      "[08/23/2022-14:40:55] [TRT] [I]   Calibrated batch 570 in 0.0213464 seconds.\n",
      "[08/23/2022-14:40:55] [TRT] [I]   Calibrated batch 571 in 0.0215214 seconds.\n",
      "[08/23/2022-14:40:55] [TRT] [I]   Calibrated batch 572 in 0.0212446 seconds.\n",
      "[08/23/2022-14:40:55] [TRT] [I]   Calibrated batch 573 in 0.0216802 seconds.\n"
     ]
    },
    {
     "name": "stderr",
     "output_type": "stream",
     "text": [
      "INFO:EngineBuilder:Calibrating image 4600 / 5000\n",
      "Calibrating image 4600 / 5000\n",
      "Calibrating image 4600 / 5000\n",
      "INFO:EngineBuilder:Calibrating image 4608 / 5000\n",
      "Calibrating image 4608 / 5000\n",
      "Calibrating image 4608 / 5000\n",
      "INFO:EngineBuilder:Calibrating image 4616 / 5000\n",
      "Calibrating image 4616 / 5000\n",
      "Calibrating image 4616 / 5000\n",
      "INFO:EngineBuilder:Calibrating image 4624 / 5000\n",
      "Calibrating image 4624 / 5000\n",
      "Calibrating image 4624 / 5000\n"
     ]
    },
    {
     "name": "stdout",
     "output_type": "stream",
     "text": [
      "[08/23/2022-14:40:55] [TRT] [I]   Calibrated batch 574 in 0.0216389 seconds.\n",
      "[08/23/2022-14:40:55] [TRT] [I]   Calibrated batch 575 in 0.021269 seconds.\n",
      "[08/23/2022-14:40:55] [TRT] [I]   Calibrated batch 576 in 0.0214505 seconds.\n",
      "[08/23/2022-14:40:55] [TRT] [I]   Calibrated batch 577 in 0.0222902 seconds.\n"
     ]
    },
    {
     "name": "stderr",
     "output_type": "stream",
     "text": [
      "INFO:EngineBuilder:Calibrating image 4632 / 5000\n",
      "Calibrating image 4632 / 5000\n",
      "Calibrating image 4632 / 5000\n",
      "INFO:EngineBuilder:Calibrating image 4640 / 5000\n",
      "Calibrating image 4640 / 5000\n",
      "Calibrating image 4640 / 5000\n",
      "INFO:EngineBuilder:Calibrating image 4648 / 5000\n",
      "Calibrating image 4648 / 5000\n",
      "Calibrating image 4648 / 5000\n",
      "INFO:EngineBuilder:Calibrating image 4656 / 5000\n",
      "Calibrating image 4656 / 5000\n",
      "Calibrating image 4656 / 5000\n"
     ]
    },
    {
     "name": "stdout",
     "output_type": "stream",
     "text": [
      "[08/23/2022-14:40:56] [TRT] [I]   Calibrated batch 578 in 0.0214079 seconds.\n",
      "[08/23/2022-14:40:56] [TRT] [I]   Calibrated batch 579 in 0.0216049 seconds.\n",
      "[08/23/2022-14:40:56] [TRT] [I]   Calibrated batch 580 in 0.0220903 seconds.\n",
      "[08/23/2022-14:40:56] [TRT] [I]   Calibrated batch 581 in 0.0217375 seconds.\n"
     ]
    },
    {
     "name": "stderr",
     "output_type": "stream",
     "text": [
      "INFO:EngineBuilder:Calibrating image 4664 / 5000\n",
      "Calibrating image 4664 / 5000\n",
      "Calibrating image 4664 / 5000\n",
      "INFO:EngineBuilder:Calibrating image 4672 / 5000\n",
      "Calibrating image 4672 / 5000\n",
      "Calibrating image 4672 / 5000\n",
      "INFO:EngineBuilder:Calibrating image 4680 / 5000\n",
      "Calibrating image 4680 / 5000\n",
      "Calibrating image 4680 / 5000\n",
      "INFO:EngineBuilder:Calibrating image 4688 / 5000\n",
      "Calibrating image 4688 / 5000\n",
      "Calibrating image 4688 / 5000\n"
     ]
    },
    {
     "name": "stdout",
     "output_type": "stream",
     "text": [
      "[08/23/2022-14:40:56] [TRT] [I]   Calibrated batch 582 in 0.0215715 seconds.\n",
      "[08/23/2022-14:40:56] [TRT] [I]   Calibrated batch 583 in 0.0223851 seconds.\n",
      "[08/23/2022-14:40:56] [TRT] [I]   Calibrated batch 584 in 0.0218284 seconds.\n",
      "[08/23/2022-14:40:56] [TRT] [I]   Calibrated batch 585 in 0.0222793 seconds.\n"
     ]
    },
    {
     "name": "stderr",
     "output_type": "stream",
     "text": [
      "INFO:EngineBuilder:Calibrating image 4696 / 5000\n",
      "Calibrating image 4696 / 5000\n",
      "Calibrating image 4696 / 5000\n",
      "INFO:EngineBuilder:Calibrating image 4704 / 5000\n",
      "Calibrating image 4704 / 5000\n",
      "Calibrating image 4704 / 5000\n",
      "INFO:EngineBuilder:Calibrating image 4712 / 5000\n",
      "Calibrating image 4712 / 5000\n",
      "Calibrating image 4712 / 5000\n",
      "INFO:EngineBuilder:Calibrating image 4720 / 5000\n",
      "Calibrating image 4720 / 5000\n",
      "Calibrating image 4720 / 5000\n"
     ]
    },
    {
     "name": "stdout",
     "output_type": "stream",
     "text": [
      "[08/23/2022-14:40:56] [TRT] [I]   Calibrated batch 586 in 0.0224126 seconds.\n",
      "[08/23/2022-14:40:56] [TRT] [I]   Calibrated batch 587 in 0.0217073 seconds.\n",
      "[08/23/2022-14:40:56] [TRT] [I]   Calibrated batch 588 in 0.0214025 seconds.\n",
      "[08/23/2022-14:40:56] [TRT] [I]   Calibrated batch 589 in 0.0224763 seconds.\n"
     ]
    },
    {
     "name": "stderr",
     "output_type": "stream",
     "text": [
      "INFO:EngineBuilder:Calibrating image 4728 / 5000\n",
      "Calibrating image 4728 / 5000\n",
      "Calibrating image 4728 / 5000\n",
      "INFO:EngineBuilder:Calibrating image 4736 / 5000\n",
      "Calibrating image 4736 / 5000\n",
      "Calibrating image 4736 / 5000\n",
      "INFO:EngineBuilder:Calibrating image 4744 / 5000\n",
      "Calibrating image 4744 / 5000\n",
      "Calibrating image 4744 / 5000\n",
      "INFO:EngineBuilder:Calibrating image 4752 / 5000\n",
      "Calibrating image 4752 / 5000\n",
      "Calibrating image 4752 / 5000\n"
     ]
    },
    {
     "name": "stdout",
     "output_type": "stream",
     "text": [
      "[08/23/2022-14:40:56] [TRT] [I]   Calibrated batch 590 in 0.021531 seconds.\n",
      "[08/23/2022-14:40:56] [TRT] [I]   Calibrated batch 591 in 0.021445 seconds.\n",
      "[08/23/2022-14:40:56] [TRT] [I]   Calibrated batch 592 in 0.02238 seconds.\n",
      "[08/23/2022-14:40:57] [TRT] [I]   Calibrated batch 593 in 0.0214724 seconds.\n"
     ]
    },
    {
     "name": "stderr",
     "output_type": "stream",
     "text": [
      "INFO:EngineBuilder:Calibrating image 4760 / 5000\n",
      "Calibrating image 4760 / 5000\n",
      "Calibrating image 4760 / 5000\n",
      "INFO:EngineBuilder:Calibrating image 4768 / 5000\n",
      "Calibrating image 4768 / 5000\n",
      "Calibrating image 4768 / 5000\n",
      "INFO:EngineBuilder:Calibrating image 4776 / 5000\n",
      "Calibrating image 4776 / 5000\n",
      "Calibrating image 4776 / 5000\n",
      "INFO:EngineBuilder:Calibrating image 4784 / 5000\n",
      "Calibrating image 4784 / 5000\n",
      "Calibrating image 4784 / 5000\n"
     ]
    },
    {
     "name": "stdout",
     "output_type": "stream",
     "text": [
      "[08/23/2022-14:40:57] [TRT] [I]   Calibrated batch 594 in 0.0215386 seconds.\n",
      "[08/23/2022-14:40:57] [TRT] [I]   Calibrated batch 595 in 0.0219624 seconds.\n",
      "[08/23/2022-14:40:57] [TRT] [I]   Calibrated batch 596 in 0.0212325 seconds.\n",
      "[08/23/2022-14:40:57] [TRT] [I]   Calibrated batch 597 in 0.0216067 seconds.\n"
     ]
    },
    {
     "name": "stderr",
     "output_type": "stream",
     "text": [
      "INFO:EngineBuilder:Calibrating image 4792 / 5000\n",
      "Calibrating image 4792 / 5000\n",
      "Calibrating image 4792 / 5000\n",
      "INFO:EngineBuilder:Calibrating image 4800 / 5000\n",
      "Calibrating image 4800 / 5000\n",
      "Calibrating image 4800 / 5000\n",
      "INFO:EngineBuilder:Calibrating image 4808 / 5000\n",
      "Calibrating image 4808 / 5000\n",
      "Calibrating image 4808 / 5000\n",
      "INFO:EngineBuilder:Calibrating image 4816 / 5000\n",
      "Calibrating image 4816 / 5000\n",
      "Calibrating image 4816 / 5000\n"
     ]
    },
    {
     "name": "stdout",
     "output_type": "stream",
     "text": [
      "[08/23/2022-14:40:57] [TRT] [I]   Calibrated batch 598 in 0.0214463 seconds.\n",
      "[08/23/2022-14:40:57] [TRT] [I]   Calibrated batch 599 in 0.0214143 seconds.\n",
      "[08/23/2022-14:40:57] [TRT] [I]   Calibrated batch 600 in 0.0221018 seconds.\n",
      "[08/23/2022-14:40:57] [TRT] [I]   Calibrated batch 601 in 0.0214559 seconds.\n"
     ]
    },
    {
     "name": "stderr",
     "output_type": "stream",
     "text": [
      "INFO:EngineBuilder:Calibrating image 4824 / 5000\n",
      "Calibrating image 4824 / 5000\n",
      "Calibrating image 4824 / 5000\n",
      "INFO:EngineBuilder:Calibrating image 4832 / 5000\n",
      "Calibrating image 4832 / 5000\n",
      "Calibrating image 4832 / 5000\n",
      "INFO:EngineBuilder:Calibrating image 4840 / 5000\n",
      "Calibrating image 4840 / 5000\n",
      "Calibrating image 4840 / 5000\n",
      "INFO:EngineBuilder:Calibrating image 4848 / 5000\n",
      "Calibrating image 4848 / 5000\n",
      "Calibrating image 4848 / 5000\n"
     ]
    },
    {
     "name": "stdout",
     "output_type": "stream",
     "text": [
      "[08/23/2022-14:40:57] [TRT] [I]   Calibrated batch 602 in 0.0214257 seconds.\n",
      "[08/23/2022-14:40:57] [TRT] [I]   Calibrated batch 603 in 0.0215705 seconds.\n",
      "[08/23/2022-14:40:57] [TRT] [I]   Calibrated batch 604 in 0.0211907 seconds.\n"
     ]
    },
    {
     "name": "stderr",
     "output_type": "stream",
     "text": [
      "INFO:EngineBuilder:Calibrating image 4856 / 5000\n",
      "Calibrating image 4856 / 5000\n",
      "Calibrating image 4856 / 5000\n",
      "INFO:EngineBuilder:Calibrating image 4864 / 5000\n",
      "Calibrating image 4864 / 5000\n",
      "Calibrating image 4864 / 5000\n",
      "INFO:EngineBuilder:Calibrating image 4872 / 5000\n",
      "Calibrating image 4872 / 5000\n",
      "Calibrating image 4872 / 5000\n"
     ]
    },
    {
     "name": "stdout",
     "output_type": "stream",
     "text": [
      "[08/23/2022-14:40:57] [TRT] [I]   Calibrated batch 605 in 0.0214324 seconds.\n",
      "[08/23/2022-14:40:57] [TRT] [I]   Calibrated batch 606 in 0.022303 seconds.\n",
      "[08/23/2022-14:40:57] [TRT] [I]   Calibrated batch 607 in 0.0214018 seconds.\n",
      "[08/23/2022-14:40:58] [TRT] [I]   Calibrated batch 608 in 0.0214605 seconds.\n"
     ]
    },
    {
     "name": "stderr",
     "output_type": "stream",
     "text": [
      "INFO:EngineBuilder:Calibrating image 4880 / 5000\n",
      "Calibrating image 4880 / 5000\n",
      "Calibrating image 4880 / 5000\n",
      "INFO:EngineBuilder:Calibrating image 4888 / 5000\n",
      "Calibrating image 4888 / 5000\n",
      "Calibrating image 4888 / 5000\n",
      "INFO:EngineBuilder:Calibrating image 4896 / 5000\n",
      "Calibrating image 4896 / 5000\n",
      "Calibrating image 4896 / 5000\n",
      "INFO:EngineBuilder:Calibrating image 4904 / 5000\n",
      "Calibrating image 4904 / 5000\n",
      "Calibrating image 4904 / 5000\n"
     ]
    },
    {
     "name": "stdout",
     "output_type": "stream",
     "text": [
      "[08/23/2022-14:40:58] [TRT] [I]   Calibrated batch 609 in 0.0225544 seconds.\n",
      "[08/23/2022-14:40:58] [TRT] [I]   Calibrated batch 610 in 0.0211575 seconds.\n",
      "[08/23/2022-14:40:58] [TRT] [I]   Calibrated batch 611 in 0.0216343 seconds.\n",
      "[08/23/2022-14:40:58] [TRT] [I]   Calibrated batch 612 in 0.021635 seconds.\n"
     ]
    },
    {
     "name": "stderr",
     "output_type": "stream",
     "text": [
      "INFO:EngineBuilder:Calibrating image 4912 / 5000\n",
      "Calibrating image 4912 / 5000\n",
      "Calibrating image 4912 / 5000\n",
      "INFO:EngineBuilder:Calibrating image 4920 / 5000\n",
      "Calibrating image 4920 / 5000\n",
      "Calibrating image 4920 / 5000\n",
      "INFO:EngineBuilder:Calibrating image 4928 / 5000\n",
      "Calibrating image 4928 / 5000\n",
      "Calibrating image 4928 / 5000\n",
      "INFO:EngineBuilder:Calibrating image 4936 / 5000\n",
      "Calibrating image 4936 / 5000\n",
      "Calibrating image 4936 / 5000\n"
     ]
    },
    {
     "name": "stdout",
     "output_type": "stream",
     "text": [
      "[08/23/2022-14:40:58] [TRT] [I]   Calibrated batch 613 in 0.0214298 seconds.\n",
      "[08/23/2022-14:40:58] [TRT] [I]   Calibrated batch 614 in 0.0215062 seconds.\n",
      "[08/23/2022-14:40:58] [TRT] [I]   Calibrated batch 615 in 0.02136 seconds.\n",
      "[08/23/2022-14:40:58] [TRT] [I]   Calibrated batch 616 in 0.0214829 seconds.\n"
     ]
    },
    {
     "name": "stderr",
     "output_type": "stream",
     "text": [
      "INFO:EngineBuilder:Calibrating image 4944 / 5000\n",
      "Calibrating image 4944 / 5000\n",
      "Calibrating image 4944 / 5000\n",
      "INFO:EngineBuilder:Calibrating image 4952 / 5000\n",
      "Calibrating image 4952 / 5000\n",
      "Calibrating image 4952 / 5000\n",
      "INFO:EngineBuilder:Calibrating image 4960 / 5000\n",
      "Calibrating image 4960 / 5000\n",
      "Calibrating image 4960 / 5000\n",
      "INFO:EngineBuilder:Calibrating image 4968 / 5000\n",
      "Calibrating image 4968 / 5000\n",
      "Calibrating image 4968 / 5000\n"
     ]
    },
    {
     "name": "stdout",
     "output_type": "stream",
     "text": [
      "[08/23/2022-14:40:58] [TRT] [I]   Calibrated batch 617 in 0.0215076 seconds.\n",
      "[08/23/2022-14:40:58] [TRT] [I]   Calibrated batch 618 in 0.0215279 seconds.\n",
      "[08/23/2022-14:40:58] [TRT] [I]   Calibrated batch 619 in 0.0215497 seconds.\n",
      "[08/23/2022-14:40:58] [TRT] [I]   Calibrated batch 620 in 0.0222791 seconds.\n"
     ]
    },
    {
     "name": "stderr",
     "output_type": "stream",
     "text": [
      "INFO:EngineBuilder:Calibrating image 4976 / 5000\n",
      "Calibrating image 4976 / 5000\n",
      "Calibrating image 4976 / 5000\n",
      "INFO:EngineBuilder:Calibrating image 4984 / 5000\n",
      "Calibrating image 4984 / 5000\n",
      "Calibrating image 4984 / 5000\n",
      "INFO:EngineBuilder:Calibrating image 4992 / 5000\n",
      "Calibrating image 4992 / 5000\n",
      "Calibrating image 4992 / 5000\n",
      "INFO:EngineBuilder:Calibrating image 5000 / 5000\n",
      "Calibrating image 5000 / 5000\n",
      "Calibrating image 5000 / 5000\n",
      "INFO:EngineBuilder:Finished calibration batches\n",
      "Finished calibration batches\n",
      "Finished calibration batches\n"
     ]
    },
    {
     "name": "stdout",
     "output_type": "stream",
     "text": [
      "[08/23/2022-14:40:58] [TRT] [I]   Calibrated batch 621 in 0.0212666 seconds.\n",
      "[08/23/2022-14:40:58] [TRT] [I]   Calibrated batch 622 in 0.0215321 seconds.\n",
      "[08/23/2022-14:40:58] [TRT] [I]   Calibrated batch 623 in 0.0220368 seconds.\n",
      "[08/23/2022-14:40:59] [TRT] [I]   Calibrated batch 624 in 0.0213648 seconds.\n"
     ]
    }
   ],
   "source": [
    "compiler = VoltaGPUCompiler(\n",
    "    model=model,\n",
    "    output_dir=compiled_model_dir,\n",
    "    input_shape=input_shape,\n",
    "    precision=precision,\n",
    "    calib_input=calib_input,\n",
    "    calib_cache=calib_cache,\n",
    "    calib_num_images=calib_num_images,\n",
    "    calib_batch_size=calib_batch_size,\n",
    "    calib_preprocessor=calib_preprocessor\n",
    ")\n",
    "\n",
    "compiled_model = compiler.compile()"
   ]
  },
  {
   "cell_type": "code",
   "execution_count": null,
   "id": "8a22fb82",
   "metadata": {},
   "outputs": [],
   "source": [
    "gpu_performance(compiled_model_dir, model, input_shape=input_shape, throughput_batch_size=throughput_batch_size, is_yolo=False)"
   ]
  },
  {
   "cell_type": "code",
   "execution_count": null,
   "id": "ea3116e0",
   "metadata": {},
   "outputs": [],
   "source": []
  },
  {
   "cell_type": "code",
   "execution_count": null,
   "id": "fd8a5daa",
   "metadata": {},
   "outputs": [],
   "source": []
  },
  {
   "cell_type": "code",
   "execution_count": null,
   "id": "1422ab34",
   "metadata": {},
   "outputs": [],
   "source": []
  }
 ],
 "metadata": {
  "kernelspec": {
   "display_name": "Python 3 (ipykernel)",
   "language": "python",
   "name": "python3"
  },
  "language_info": {
   "codemirror_mode": {
    "name": "ipython",
    "version": 3
   },
   "file_extension": ".py",
   "mimetype": "text/x-python",
   "name": "python",
   "nbconvert_exporter": "python",
   "pygments_lexer": "ipython3",
   "version": "3.8.10"
  }
 },
 "nbformat": 4,
 "nbformat_minor": 5
}
