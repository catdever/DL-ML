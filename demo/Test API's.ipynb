{
 "cells": [
  {
   "cell_type": "code",
   "execution_count": null,
   "id": "f6d4d8ff-835d-4755-a4b9-28b8c05b96ec",
   "metadata": {},
   "outputs": [],
   "source": [
    "from flask_utils import upload_images, upload_weights, batch_infer, build_engine, reset_dir"
   ]
  },
  {
   "cell_type": "code",
   "execution_count": null,
   "id": "3e4552c1-62de-4acf-9bb5-0e22908fd79d",
   "metadata": {},
   "outputs": [],
   "source": [
    "url = 'http://172.17.0.2:5000' ## Put url"
   ]
  },
  {
   "cell_type": "markdown",
   "id": "3949f577-afea-4abf-827b-2aaedb868abc",
   "metadata": {},
   "source": [
    "## Upload Images"
   ]
  },
  {
   "cell_type": "code",
   "execution_count": null,
   "id": "5c35dd38-a521-41d7-909b-03049a9163ee",
   "metadata": {},
   "outputs": [],
   "source": [
    "images_path = 'test_batch_aicrowd' ## Folder path\n",
    "upload_images(url, images_path)"
   ]
  },
  {
   "cell_type": "markdown",
   "id": "0bc721f0-28b0-4ec9-8079-4b42478e85ac",
   "metadata": {},
   "source": [
    "## Upload weights"
   ]
  },
  {
   "cell_type": "code",
   "execution_count": null,
   "id": "9a873db9-7534-4ac8-9b89-ec5edb787366",
   "metadata": {},
   "outputs": [],
   "source": [
    "file_path='test_models/best_30k_data.pt' ## weights path\n",
    "upload_weights(url, file_path)"
   ]
  },
  {
   "cell_type": "markdown",
   "id": "b4ec05a3-29de-4970-8eef-823ff2ae4106",
   "metadata": {},
   "source": [
    "## Build Engine"
   ]
  },
  {
   "cell_type": "code",
   "execution_count": null,
   "id": "3afbde76-229a-49c3-80e8-b85ba62bcdca",
   "metadata": {},
   "outputs": [],
   "source": [
    "filename='best_30k_data.pt' ## Weights filename\n",
    "batch_size=4\n",
    "input_shape=(3,1280,1280)\n",
    "precision='fp16'  ## precision\n",
    "build_engine(url, filename, batch_size, input_shape, precision)"
   ]
  },
  {
   "cell_type": "markdown",
   "id": "be876ea5-223e-47f4-8b69-efd0d96a3ff4",
   "metadata": {},
   "source": [
    "## Infer on uploaded images"
   ]
  },
  {
   "cell_type": "code",
   "execution_count": null,
   "id": "f773cc44-8233-49dd-9fc9-945933cbe7b5",
   "metadata": {},
   "outputs": [],
   "source": [
    "filename=\"best_30k_data.pt\" ## Weights filename\n",
    "batch_size=8\n",
    "input_shape=(3,1280,1280)\n",
    "precision=\"fp16\"\n",
    "use_engine=False  ## Whether to use the built engine file or no\n",
    "batch_infer(url,  filename='best_30k_data.pt', \n",
    "          batch_size=batch_size, input_shape=input_shape,\n",
    "          precision='fp16',use_engine=use_engine)"
   ]
  },
  {
   "cell_type": "markdown",
   "id": "7d7e5498-68df-46c4-85e7-632920281715",
   "metadata": {},
   "source": [
    "## Reset directories"
   ]
  },
  {
   "cell_type": "code",
   "execution_count": null,
   "id": "93e70a1a-d450-4de4-8644-ce4f21ed2874",
   "metadata": {},
   "outputs": [],
   "source": [
    "reset_dir(url)"
   ]
  },
  {
   "cell_type": "code",
   "execution_count": null,
   "id": "3638ce87-7620-4116-9031-83cfcb809f9e",
   "metadata": {},
   "outputs": [],
   "source": []
  }
 ],
 "metadata": {
  "kernelspec": {
   "display_name": "Python 3 (ipykernel)",
   "language": "python",
   "name": "python3"
  },
  "language_info": {
   "codemirror_mode": {
    "name": "ipython",
    "version": 3
   },
   "file_extension": ".py",
   "mimetype": "text/x-python",
   "name": "python",
   "nbconvert_exporter": "python",
   "pygments_lexer": "ipython3",
   "version": "3.8.10"
  }
 },
 "nbformat": 4,
 "nbformat_minor": 5
}
